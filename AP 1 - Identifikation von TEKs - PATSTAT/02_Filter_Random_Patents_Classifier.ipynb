{
 "cells": [
  {
   "cell_type": "code",
   "execution_count": null,
   "metadata": {},
   "outputs": [],
   "source": [
    "import pandas as pd\n",
    "from sqlalchemy import create_engine, URL\n",
    "from tqdm import tqdm"
   ]
  },
  {
   "cell_type": "markdown",
   "metadata": {},
   "source": [
    "# Initiate Database Connection"
   ]
  },
  {
   "cell_type": "code",
   "execution_count": null,
   "metadata": {},
   "outputs": [],
   "source": [
    "url_object = URL.create(\n",
    "    drivername='postgresql+psycopg2',\n",
    "    username='tie',\n",
    "    password='TIE%2023!tuhh',\n",
    "    host='localhost',\n",
    "    port='25432',\n",
    "    database='Patstat',\n",
    ")"
   ]
  },
  {
   "cell_type": "code",
   "execution_count": null,
   "metadata": {},
   "outputs": [],
   "source": [
    "engine = create_engine(url_object)"
   ]
  },
  {
   "cell_type": "markdown",
   "metadata": {},
   "source": [
    "# Extract random Patents from database for Neural Network training"
   ]
  },
  {
   "cell_type": "code",
   "execution_count": null,
   "metadata": {},
   "outputs": [],
   "source": [
    "df_patstat_cleantech_metadata = pd.read_json('/mnt/hdd01/PATSTAT Working Directory/PATSTAT/df_patstat_cleantech_granted_abstract_metadata.json')"
   ]
  },
  {
   "cell_type": "code",
   "execution_count": null,
   "metadata": {},
   "outputs": [],
   "source": [
    "# Drop all columns except APPLN_ID\n",
    "df_patstat_cleantech_metadata = df_patstat_cleantech_metadata[['appln_id']]\n",
    "cleantech_patent_count = len(df_patstat_cleantech_metadata)"
   ]
  },
  {
   "cell_type": "code",
   "execution_count": null,
   "metadata": {},
   "outputs": [],
   "source": [
    "# Assuming df_patstat_cleantech_metadata is your DataFrame containing cleantech patent appln_id\n",
    "df_patstat_cleantech_metadata.to_sql('cleantech_metadata', engine, if_exists='replace', index=False)"
   ]
  },
  {
   "cell_type": "code",
   "execution_count": null,
   "metadata": {},
   "outputs": [],
   "source": [
    "# SQL query to randomly sample non-cleantech patents\n",
    "query_non_cleantech_patents = f\"\"\"\n",
    "    SELECT \n",
    "        tls201.appln_id,\n",
    "        tls201.appln_auth,\n",
    "        tls201.appln_nr,\n",
    "        tls201.appln_kind,\n",
    "        tls201.appln_filling_date,\n",
    "        tls201.appln_filing_year,\n",
    "        tls202.appln_title_lg,\n",
    "        tls202.appln_title,\n",
    "        tls203.appln_abstract_lg,\n",
    "        tls203.appln_abstract\n",
    "    FROM \n",
    "        tls201_appln AS tls201\n",
    "    LEFT JOIN \n",
    "        tls202_appln_title AS tls202 ON tls201.appln_id = tls202.appln_id\n",
    "    LEFT JOIN \n",
    "        tls203_appln_abstr AS tls203 ON tls201.appln_id = tls203.appln_id\n",
    "    WHERE \n",
    "        tls201.appln_id NOT IN (SELECT appln_id FROM cleantech_metadata)\n",
    "    WHERE\n",
    "        tls201.granted = 'Y'\n",
    "    ORDER BY \n",
    "        RANDOM()\n",
    "    LIMIT {cleantech_patent_count*1.2}\n",
    "\"\"\""
   ]
  },
  {
   "cell_type": "code",
   "execution_count": null,
   "metadata": {},
   "outputs": [],
   "source": [
    "df_non_cleantech_patents = pd.read_sql(query_non_cleantech_patents, engine)\n",
    "print(f\"Number of non-cleantech patents: {len(df_non_cleantech_patents)}\")\n",
    "# engine.execute(\"DROP TABLE IF EXISTS cleantech_metadata\")"
   ]
  },
  {
   "cell_type": "code",
   "execution_count": null,
   "metadata": {},
   "outputs": [],
   "source": [
    "# Group by appln_id, list all values and reset index\n",
    "df_non_cleantech_patents_metadata = df_non_cleantech_patents.groupby('appln_id').agg({\n",
    "    'appln_auth': lambda x: list(x),\n",
    "    'appln_nr': lambda x: list(x),\n",
    "    'appln_kind': lambda x: list(x),\n",
    "    'appln_filing_date': lambda x: list(x),\n",
    "    'appln_filing_year': lambda x: list(x),\n",
    "    'appln_title_lg': lambda x: list(x),\n",
    "    'appln_title': lambda x: list(x),\n",
    "    'appln_abstract_lg': lambda x: list(x),\n",
    "    'appln_abstract': lambda x: list(x),\n",
    "}).reset_index()"
   ]
  },
  {
   "cell_type": "code",
   "execution_count": null,
   "metadata": {},
   "outputs": [],
   "source": [
    "# Filter out all patents that have no abstract\n",
    "df_non_cleantech_patents_metadata = df_non_cleantech_patents_metadata[df_non_cleantech_patents_metadata['appln_abstract'].notnull()]\n",
    "print(f\"Number of granted Non-Cleantech patents in PATSTAT with abstract: {len(df_non_cleantech_patents_metadata)}\")"
   ]
  },
  {
   "cell_type": "code",
   "execution_count": null,
   "metadata": {},
   "outputs": [],
   "source": [
    "# Filter out all patents where list in appln_abstract_lg does not contain 'en'\n",
    "df_non_cleantech_patents_metadata = df_non_cleantech_patents_metadata[df_non_cleantech_patents_metadata['appln_abstract_lg'].apply(lambda x: 'en' in x)]\n",
    "print(f\"Number of granted Non-Cleantech patents in PATSTAT with english abstract; considered for training neural networks: {len(df_non_cleantech_patents_metadata)}\")"
   ]
  },
  {
   "cell_type": "code",
   "execution_count": null,
   "metadata": {},
   "outputs": [],
   "source": [
    "df_non_cleantech_patents.to_json('/mnt/hdd01/PATSTAT Working Directory/PATSTAT/df_patstat_non_cleantech_granted_abstract_metadata.json', orient='records')"
   ]
  }
 ],
 "metadata": {
  "kernelspec": {
   "display_name": "venv",
   "language": "python",
   "name": "python3"
  },
  "language_info": {
   "codemirror_mode": {
    "name": "ipython",
    "version": 3
   },
   "file_extension": ".py",
   "mimetype": "text/x-python",
   "name": "python",
   "nbconvert_exporter": "python",
   "pygments_lexer": "ipython3",
   "version": "3.11.6"
  }
 },
 "nbformat": 4,
 "nbformat_minor": 2
}
