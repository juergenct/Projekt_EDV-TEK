{
 "cells": [
  {
   "cell_type": "code",
   "execution_count": null,
   "metadata": {},
   "outputs": [],
   "source": [
    "import pandas as pd\n",
    "from sqlalchemy import create_engine\n",
    "from tqdm import tqdm"
   ]
  },
  {
   "cell_type": "markdown",
   "metadata": {},
   "source": [
    "# Initiate Database Connection"
   ]
  },
  {
   "cell_type": "code",
   "execution_count": null,
   "metadata": {},
   "outputs": [],
   "source": [
    "url_object = URL.create(\n",
    "    drivername='postgresql+psycopg2',\n",
    "    username=username,\n",
    "    password=password,\n",
    "    host=IP,\n",
    "    port=port,\n",
    "    database='Patstat',\n",
    ")"
   ]
  },
  {
   "cell_type": "code",
   "execution_count": null,
   "metadata": {},
   "outputs": [],
   "source": [
    "engine = create_engine(url_object)"
   ]
  },
  {
   "cell_type": "markdown",
   "metadata": {},
   "source": [
    "# Extract random Patents from database for Neural Network training"
   ]
  },
  {
   "cell_type": "code",
   "execution_count": null,
   "metadata": {},
   "outputs": [],
   "source": [
    "df_patstat_cleantech_metadata = pd.read_json('data/patstat_cleantech_metadata_filtered.json')"
   ]
  },
  {
   "cell_type": "code",
   "execution_count": null,
   "metadata": {},
   "outputs": [],
   "source": [
    "# Drop all columns except APPLN_ID\n",
    "df_patstat_cleantech_metadata.drop(df_patstat_cleantech_metadata.columns.difference(['APPLN_ID']), 1, inplace=True)\n",
    "cleantech_patent_count = len(df_patstat_cleantech_metadata)"
   ]
  },
  {
   "cell_type": "code",
   "execution_count": null,
   "metadata": {},
   "outputs": [],
   "source": [
    "# Assuming df_patstat_cleantech_metadata is your DataFrame containing cleantech patent appln_id\n",
    "df_patstat_cleantech_metadata.to_sql('cleantech_metadata', engine, if_exists='replace', index=False)"
   ]
  },
  {
   "cell_type": "code",
   "execution_count": null,
   "metadata": {},
   "outputs": [],
   "source": [
    "# SQL query to randomly sample non-cleantech patents\n",
    "query_non_cleantech_patents = f\"\"\"\n",
    "    SELECT \n",
    "        tls201.appln_id,\n",
    "        tls201.appln_auth,\n",
    "        tls201.appln_nr,\n",
    "        tls201.appln_kind,\n",
    "        tls201.appln_filling_date,\n",
    "        tls201.appln_filing_year,\n",
    "        tls202.appln_title_lg,\n",
    "        tls202.appln_title,\n",
    "        tls203.APPLN_ABSTRACT_LG,\n",
    "        tls203.APPLN_ABSTRACT\n",
    "    FROM \n",
    "        TLS201_APPLN AS tls201\n",
    "    LEFT JOIN \n",
    "        TLS202_APPLN_TITLE AS tls202 ON tls201.appln_id = tls202.appln_id\n",
    "    LEFT JOIN \n",
    "        TLS203_APPLN_ABSTR AS tls203 ON tls201.appln_id = tls203.appln_id\n",
    "    WHERE \n",
    "        tls201.appln_id NOT IN (SELECT APPLN_ID FROM cleantech_metadata)\n",
    "    ORDER BY \n",
    "        RANDOM()\n",
    "    LIMIT {cleantech_patent_count}\n",
    "\"\"\""
   ]
  },
  {
   "cell_type": "code",
   "execution_count": null,
   "metadata": {},
   "outputs": [],
   "source": [
    "df_non_cleantech_patents = pd.read_sql(query_non_cleantech_patents, engine)\n",
    "print(f\"Number of non-cleantech patents: {len(df_non_cleantech_patents)}\")\n",
    "engine.execute(\"DROP TABLE IF EXISTS cleantech_metadata\")"
   ]
  },
  {
   "cell_type": "code",
   "execution_count": null,
   "metadata": {},
   "outputs": [],
   "source": [
    "df_non_cleantech_patents.to_json('data/non_cleantech_patents.json', orient='records')"
   ]
  }
 ],
 "metadata": {
  "language_info": {
   "name": "python"
  }
 },
 "nbformat": 4,
 "nbformat_minor": 2
}
