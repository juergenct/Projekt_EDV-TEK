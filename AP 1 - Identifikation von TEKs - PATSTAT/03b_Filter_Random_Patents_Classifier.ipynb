{
 "cells": [
  {
   "cell_type": "code",
   "execution_count": 1,
   "metadata": {},
   "outputs": [],
   "source": [
    "import pandas as pd\n",
    "from sqlalchemy import create_engine, URL\n",
    "from tqdm import tqdm"
   ]
  },
  {
   "cell_type": "markdown",
   "metadata": {},
   "source": [
    "# Initiate Database Connection"
   ]
  },
  {
   "cell_type": "code",
   "execution_count": null,
   "metadata": {},
   "outputs": [],
   "source": [
    "url_object = URL.create(\n",
    "    drivername=\"\",\n",
    "    username=\"\",\n",
    "    password=\"\",\n",
    "    host=\"\",\n",
    "    port=\"\",\n",
    "    database=\"\"\n",
    ")\n",
    "engine = create_engine(url_object)"
   ]
  },
  {
   "cell_type": "markdown",
   "metadata": {},
   "source": [
    "# Extract random Patents from database for Neural Network training (see 03b_Filter_Random_Patents_Classifier.py)"
   ]
  },
  {
   "cell_type": "code",
   "execution_count": 4,
   "metadata": {},
   "outputs": [],
   "source": [
    "df_non_cleantech_patents_metadata = pd.read_csv('/mnt/hdd02/Projekt_EDV_TEK/edv_tek_non_cleantech_all_title_abstract.csv')"
   ]
  },
  {
   "cell_type": "code",
   "execution_count": 5,
   "metadata": {},
   "outputs": [
    {
     "data": {
      "text/plain": [
       "2577214"
      ]
     },
     "execution_count": 5,
     "metadata": {},
     "output_type": "execute_result"
    }
   ],
   "source": [
    "len(df_non_cleantech_patents_metadata)"
   ]
  },
  {
   "cell_type": "markdown",
   "metadata": {},
   "source": [
    "# Extract Patent Metadata (Authors, Citations)"
   ]
  },
  {
   "cell_type": "code",
   "execution_count": 6,
   "metadata": {},
   "outputs": [
    {
     "data": {
      "text/plain": [
       "214"
      ]
     },
     "execution_count": 6,
     "metadata": {},
     "output_type": "execute_result"
    }
   ],
   "source": [
    "# Write df_non_cleantech_patents_metadata to database\n",
    "df_non_cleantech_patents_metadata.to_sql('temp_non_cleantech_metadata', engine, if_exists='replace', index=False)"
   ]
  },
  {
   "cell_type": "code",
   "execution_count": 7,
   "metadata": {},
   "outputs": [],
   "source": [
    "df_patstat_person_id = pd.read_sql_query(\"\"\"\n",
    "    SELECT tp.appln_id::TEXT, pa.person_id\n",
    "    FROM temp_non_cleantech_metadata AS tp\n",
    "    JOIN tls207_pers_appln AS pa ON tp.appln_id::TEXT = pa.appln_id\n",
    "\"\"\", con=engine)\n",
    "df_patstat_person_id = df_patstat_person_id.drop_duplicates(subset=['appln_id', 'person_id'])"
   ]
  },
  {
   "cell_type": "code",
   "execution_count": 8,
   "metadata": {},
   "outputs": [],
   "source": [
    "df_patstat_citations = pd.read_sql_query(\"\"\"\n",
    "    SELECT c.pat_publn_id::text, c.cited_pat_publn_id::text, p.appln_id::text\n",
    "    FROM tls212_citation AS c\n",
    "    JOIN tls211_pat_publn AS p ON c.pat_publn_id = p.pat_publn_id\n",
    "    WHERE p.appln_id IN (SELECT appln_id::text FROM temp_non_cleantech_metadata)\n",
    "\"\"\", con=engine)\n",
    "df_patstat_citations = df_patstat_citations.drop_duplicates(subset=['pat_publn_id', 'cited_pat_publn_id', 'appln_id'])\n",
    "df_patstat_citations = df_patstat_citations[df_patstat_citations['cited_pat_publn_id'].isin(df_patstat_citations['pat_publn_id'])]"
   ]
  },
  {
   "cell_type": "code",
   "execution_count": 9,
   "metadata": {},
   "outputs": [],
   "source": [
    "df_patstat_citations = df_patstat_citations.rename(columns={\"appln_id\": \"pat_appln_id\"})\n",
    "df_patstat_citations = pd.merge(df_patstat_citations, df_patstat_citations[['pat_publn_id', 'pat_appln_id']].rename(columns={'pat_appln_id': 'cited_pat_appln_id'}), left_on='cited_pat_publn_id', right_on='pat_publn_id', how='inner')\n",
    "df_patstat_citations = df_patstat_citations[['pat_publn_id_x', 'cited_pat_publn_id', 'pat_appln_id', 'cited_pat_appln_id']]\n",
    "df_patstat_citations = df_patstat_citations.rename(columns={'pat_publn_id_x': 'pat_publn_id'})"
   ]
  },
  {
   "cell_type": "code",
   "execution_count": 10,
   "metadata": {},
   "outputs": [],
   "source": [
    "df_patstat_person_id.to_csv('/mnt/hdd02/Projekt_EDV_TEK/edv_tek_non_cleantech_all_patstat_person_id.csv', index=False)\n",
    "df_patstat_citations.to_csv('/mnt/hdd02/Projekt_EDV_TEK/edv_tek_non_cleantech_all_patstat_citations.csv', index=False)"
   ]
  }
 ],
 "metadata": {
  "kernelspec": {
   "display_name": "edv_tek",
   "language": "python",
   "name": "python3"
  },
  "language_info": {
   "codemirror_mode": {
    "name": "ipython",
    "version": 3
   },
   "file_extension": ".py",
   "mimetype": "text/x-python",
   "name": "python",
   "nbconvert_exporter": "python",
   "pygments_lexer": "ipython3",
   "version": "3.10.0"
  }
 },
 "nbformat": 4,
 "nbformat_minor": 2
}
