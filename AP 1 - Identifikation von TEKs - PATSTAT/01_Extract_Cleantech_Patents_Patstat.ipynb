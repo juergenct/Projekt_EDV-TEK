{
 "cells": [
  {
   "cell_type": "code",
   "execution_count": 1,
   "metadata": {},
   "outputs": [],
   "source": [
    "import pandas as pd\n",
    "import re\n",
    "import numpy as np\n",
    "import torch\n",
    "import h5py\n",
    "import ast\n",
    "import torch\n",
    "import multiprocessing as mp\n",
    "import os.path as osp\n",
    "import gcld3\n",
    "from sqlalchemy import create_engine, URL, text, MetaData, Table\n",
    "from tqdm import tqdm\n",
    "from tqdm.auto import tqdm\n",
    "tqdm.pandas()\n",
    "from rapidfuzz import fuzz, process, distance\n",
    "from rapidfuzz.distance import Levenshtein\n",
    "# from concurrent.futures import ProcessPoolExecutor, as_completed\n",
    "from torch_geometric.data import HeteroData, Dataset, Data\n",
    "from torch_geometric.nn import SAGEConv, GATConv, HeteroConv, MessagePassing\n",
    "from torch_geometric.loader import NeighborLoader\n",
    "from torch_geometric.utils import add_self_loops, degree\n",
    "from sentence_transformers import SentenceTransformer"
   ]
  },
  {
   "cell_type": "code",
   "execution_count": 2,
   "metadata": {},
   "outputs": [
    {
     "name": "stderr",
     "output_type": "stream",
     "text": [
      "No sentence-transformers model found with name /home/thiesen/.cache/torch/sentence_transformers/distilbert_distilbert-base-uncased. Creating a new one with MEAN pooling.\n"
     ]
    }
   ],
   "source": [
    "model = SentenceTransformer('distilbert/distilbert-base-uncased')\n",
    "detector = gcld3.NNetLanguageIdentifier(min_num_bytes=0, max_num_bytes=1000)\n",
    "# device = torch.device('cuda' if torch.cuda.is_available() else 'cpu')\n",
    "device = 'cpu'"
   ]
  },
  {
   "cell_type": "markdown",
   "metadata": {},
   "source": [
    "# Initiate Database Connection"
   ]
  },
  {
   "cell_type": "code",
   "execution_count": null,
   "metadata": {},
   "outputs": [],
   "source": [
    "url_object = URL.create(\n",
    "    drivername=\"\",\n",
    "    username=\"\",\n",
    "    password=\"\",\n",
    "    host=\"\",\n",
    "    port=\"\",\n",
    "    database=\"\"\n",
    ")\n",
    "engine = create_engine(url_object)"
   ]
  },
  {
   "cell_type": "code",
   "execution_count": 8,
   "metadata": {},
   "outputs": [],
   "source": [
    "engine = create_engine(url_object)"
   ]
  },
  {
   "cell_type": "markdown",
   "metadata": {},
   "source": [
    "# Extract Cleantech Patents from PATSTAT"
   ]
  },
  {
   "cell_type": "markdown",
   "metadata": {},
   "source": [
    "## Extract all Cleantech Patents from table TLS224_APPLN_CPC"
   ]
  },
  {
   "cell_type": "code",
   "execution_count": 4,
   "metadata": {},
   "outputs": [],
   "source": [
    "# SQL query\n",
    "query_patstat_cleantech_all = \"\"\"\n",
    "    SELECT appln_id, cpc_class_symbol\n",
    "    FROM tls224_appln_cpc\n",
    "    WHERE cpc_class_symbol LIKE 'Y02%%';\n",
    "\"\"\""
   ]
  },
  {
   "cell_type": "code",
   "execution_count": null,
   "metadata": {},
   "outputs": [],
   "source": [
    "# Execute the query and write the results into a pandas DataFrame\n",
    "df_patstat_cleantech_all = pd.read_sql_query(query_patstat_cleantech_all, engine)\n",
    "# Aggregate by appln_id and list all cpc_class_symbols\n",
    "df_patstat_cleantech_all = df_patstat_cleantech_all.groupby('appln_id')['cpc_class_symbol'].apply(list).reset_index(name='cpc_class_symbol')\n",
    "# Cast appln_id to string and delete everything after the dot\n",
    "df_patstat_cleantech_all['appln_id'] = df_patstat_cleantech_all['appln_id'].astype(str).str.split('.').str[0]"
   ]
  },
  {
   "cell_type": "code",
   "execution_count": null,
   "metadata": {},
   "outputs": [],
   "source": [
    "# Print length of DataFrame\n",
    "print(f\"Count of all Clantech patents in PATSTAT: {len(df_patstat_cleantech_all)}\")"
   ]
  },
  {
   "cell_type": "markdown",
   "metadata": {},
   "source": [
    "## Filter Cleantech Patents by Granted = Y"
   ]
  },
  {
   "cell_type": "code",
   "execution_count": null,
   "metadata": {},
   "outputs": [],
   "source": [
    "df_patstat_cleantech_all.to_sql('temp_patstat_cleantech_all', engine, if_exists='replace', index=False)"
   ]
  },
  {
   "cell_type": "code",
   "execution_count": null,
   "metadata": {},
   "outputs": [],
   "source": [
    "df_patstat_cleantech_all.head()"
   ]
  },
  {
   "cell_type": "code",
   "execution_count": null,
   "metadata": {},
   "outputs": [],
   "source": [
    "# SQL query to filter by granted patents\n",
    "query_filter_cleantech_granted = \"\"\"\n",
    "    SELECT temp_patstat_cleantech_all.appln_id\n",
    "    FROM temp_patstat_cleantech_all\n",
    "    INNER JOIN tls201_appln ON temp_patstat_cleantech_all.appln_id = CAST(tls201_appln.appln_id AS text)\n",
    "    WHERE tls201_appln.granted = 'Y'\n",
    "\"\"\""
   ]
  },
  {
   "cell_type": "code",
   "execution_count": null,
   "metadata": {},
   "outputs": [],
   "source": [
    "df_patstat_cleantech_granted = pd.read_sql_query(query_filter_cleantech_granted, engine)\n",
    "# Merge with df_patstat_cleantech_all to get the cpc_class_symbol\n",
    "df_patstat_cleantech_granted = df_patstat_cleantech_granted.merge(df_patstat_cleantech_all, on='appln_id', how='left')"
   ]
  },
  {
   "cell_type": "code",
   "execution_count": null,
   "metadata": {},
   "outputs": [],
   "source": [
    "# Delete temporary table\n",
    "engine.execute(\"DROP TABLE IF EXISTS temp_patstat_cleantech_all\")"
   ]
  },
  {
   "cell_type": "markdown",
   "metadata": {},
   "source": [
    "## Source required Metadata for Cleantech Patents"
   ]
  },
  {
   "cell_type": "code",
   "execution_count": null,
   "metadata": {},
   "outputs": [],
   "source": [
    "df_patstat_cleantech_granted.to_sql('temp_patstat_cleantech_granted', engine, if_exists='replace', index=False)"
   ]
  },
  {
   "cell_type": "code",
   "execution_count": null,
   "metadata": {},
   "outputs": [],
   "source": [
    "# SQL query to select data from multiple tables\n",
    "query_cleantech_metadata = \"\"\"\n",
    "    SELECT \n",
    "        temp_patstat_cleantech_granted.appln_id,\n",
    "        tls201.appln_auth,\n",
    "        tls201.appln_nr,\n",
    "        tls201.appln_kind,\n",
    "        tls201.appln_filing_date,\n",
    "        tls201.appln_filing_year,\n",
    "        tls202.appln_title_lg,\n",
    "        tls202.appln_title,\n",
    "        tls203.appln_abstract_lg,\n",
    "        tls203.appln_abstract\n",
    "    FROM \n",
    "        temp_patstat_cleantech_granted\n",
    "    INNER JOIN \n",
    "        tls201_appln AS tls201 ON temp_patstat_cleantech_granted.appln_id = CAST(tls201.appln_id AS text)\n",
    "    LEFT JOIN \n",
    "        tls202_appln_title AS tls202 ON temp_patstat_cleantech_granted.appln_id = CAST(tls202.appln_id AS text)\n",
    "    LEFT JOIN \n",
    "        tls203_appln_abstr AS tls203 ON temp_patstat_cleantech_granted.appln_id = CAST(tls203.appln_id AS text)\n",
    "    WHERE \n",
    "        tls201.granted = 'Y'\n",
    "\"\"\""
   ]
  },
  {
   "cell_type": "code",
   "execution_count": null,
   "metadata": {},
   "outputs": [],
   "source": [
    "df_patstat_cleantech_metadata = pd.read_sql_query(query_cleantech_metadata, engine)\n",
    "# engine.execute(\"DROP TABLE IF EXISTS temp_patstat_cleantech_granted\")"
   ]
  },
  {
   "cell_type": "code",
   "execution_count": null,
   "metadata": {},
   "outputs": [],
   "source": [
    "# Group by appln_id, list all values and reset index\n",
    "df_patstat_cleantech_metadata = df_patstat_cleantech_metadata.groupby('appln_id').agg({\n",
    "    'appln_auth': lambda x: list(x),\n",
    "    'appln_nr': lambda x: list(x),\n",
    "    'appln_kind': lambda x: list(x),\n",
    "    'appln_filing_date': lambda x: list(x),\n",
    "    'appln_filing_year': lambda x: list(x),\n",
    "    'appln_title_lg': lambda x: list(x),\n",
    "    'appln_title': lambda x: list(x),\n",
    "    'appln_abstract_lg': lambda x: list(x),\n",
    "    'appln_abstract': lambda x: list(x),\n",
    "}).reset_index()"
   ]
  },
  {
   "cell_type": "code",
   "execution_count": null,
   "metadata": {},
   "outputs": [],
   "source": [
    "print(f\"Number of granted Cleantech patents in PATSTAT: {len(df_patstat_cleantech_metadata)}\")"
   ]
  },
  {
   "cell_type": "code",
   "execution_count": null,
   "metadata": {},
   "outputs": [],
   "source": [
    "df_patstat_cleantech_metadata.to_json('/mnt/hdd01/PATSTAT Working Directory/PATSTAT/df_patstat_cleantech_granted_metadata.json', orient='records')"
   ]
  },
  {
   "cell_type": "markdown",
   "metadata": {},
   "source": [
    "# Filter Cleantech Patents for further analysis"
   ]
  },
  {
   "cell_type": "code",
   "execution_count": null,
   "metadata": {},
   "outputs": [],
   "source": [
    "# Filter out all patents that have no abstract\n",
    "df_patstat_cleantech_metadata = df_patstat_cleantech_metadata[df_patstat_cleantech_metadata['appln_abstract'].notnull()]\n",
    "print(f\"Number of granted Cleantech patents in PATSTAT with abstract: {len(df_patstat_cleantech_metadata)}\")"
   ]
  },
  {
   "cell_type": "code",
   "execution_count": null,
   "metadata": {},
   "outputs": [],
   "source": [
    "df_patstat_cleantech_metadata.head()"
   ]
  },
  {
   "cell_type": "code",
   "execution_count": null,
   "metadata": {},
   "outputs": [],
   "source": [
    "# Filter out all patents where list in appln_abstract_lg does not contain 'en'\n",
    "df_patstat_cleantech_metadata = df_patstat_cleantech_metadata[df_patstat_cleantech_metadata['appln_abstract_lg'].apply(lambda x: 'en' in x)]\n",
    "print(f\"Number of granted Cleantech patents in PATSTAT with english abstract; considered for training neural networks: {len(df_patstat_cleantech_metadata)}\")"
   ]
  },
  {
   "cell_type": "code",
   "execution_count": null,
   "metadata": {},
   "outputs": [],
   "source": [
    "df_patstat_cleantech_metadata.to_json('/mnt/hdd01/PATSTAT Working Directory/PATSTAT/df_patstat_cleantech_granted_abstract_metadata.json', orient='records')"
   ]
  },
  {
   "cell_type": "markdown",
   "metadata": {},
   "source": [
    "# Extract furhter Metadata (Authors, Inventors, Assignees )"
   ]
  },
  {
   "cell_type": "code",
   "execution_count": 3,
   "metadata": {},
   "outputs": [],
   "source": [
    "df_patstat_cleantech_metadata = pd.read_json('/mnt/hdd01/PATSTAT Working Directory/PATSTAT/df_patstat_cleantech_granted_abstract_metadata.json', orient='records')"
   ]
  },
  {
   "cell_type": "code",
   "execution_count": 4,
   "metadata": {},
   "outputs": [],
   "source": [
    "df_patstat_non_cleantech_metadata = pd.read_json('/mnt/hdd01/PATSTAT Working Directory/PATSTAT/df_patstat_non_cleantech_granted_abstract_metadata.json', orient='records')"
   ]
  },
  {
   "cell_type": "code",
   "execution_count": 5,
   "metadata": {},
   "outputs": [],
   "source": [
    "df_patstat_cleantech_metadata['cleantech'] = 1\n",
    "df_patstat_non_cleantech_metadata['cleantech'] = 0\n",
    "df_patstat_metadata = pd.concat([df_patstat_cleantech_metadata, df_patstat_non_cleantech_metadata])"
   ]
  },
  {
   "cell_type": "code",
   "execution_count": 9,
   "metadata": {},
   "outputs": [
    {
     "data": {
      "text/plain": [
       "586"
      ]
     },
     "execution_count": 9,
     "metadata": {},
     "output_type": "execute_result"
    }
   ],
   "source": [
    "df_patstat_metadata[['appln_id']].to_sql('temp_patstat_metadata', engine, if_exists='replace', index=False)"
   ]
  },
  {
   "cell_type": "code",
   "execution_count": 10,
   "metadata": {},
   "outputs": [],
   "source": [
    "df_patstat_person_id = pd.read_sql_query(\"\"\"\n",
    "    SELECT tp.appln_id::TEXT, pa.person_id\n",
    "    FROM temp_patstat_metadata AS tp\n",
    "    JOIN tls207_pers_appln AS pa ON tp.appln_id::TEXT = pa.appln_id\n",
    "\"\"\", con=engine)\n",
    "df_patstat_person_id = df_patstat_person_id.drop_duplicates(subset=['appln_id', 'person_id'])"
   ]
  },
  {
   "cell_type": "code",
   "execution_count": 11,
   "metadata": {},
   "outputs": [
    {
     "data": {
      "text/html": [
       "<div>\n",
       "<style scoped>\n",
       "    .dataframe tbody tr th:only-of-type {\n",
       "        vertical-align: middle;\n",
       "    }\n",
       "\n",
       "    .dataframe tbody tr th {\n",
       "        vertical-align: top;\n",
       "    }\n",
       "\n",
       "    .dataframe thead th {\n",
       "        text-align: right;\n",
       "    }\n",
       "</style>\n",
       "<table border=\"1\" class=\"dataframe\">\n",
       "  <thead>\n",
       "    <tr style=\"text-align: right;\">\n",
       "      <th></th>\n",
       "      <th>appln_id</th>\n",
       "      <th>person_id</th>\n",
       "    </tr>\n",
       "  </thead>\n",
       "  <tbody>\n",
       "    <tr>\n",
       "      <th>0</th>\n",
       "      <td>11040656</td>\n",
       "      <td>22702215</td>\n",
       "    </tr>\n",
       "    <tr>\n",
       "      <th>1</th>\n",
       "      <td>11040656</td>\n",
       "      <td>22702214</td>\n",
       "    </tr>\n",
       "    <tr>\n",
       "      <th>2</th>\n",
       "      <td>11292232</td>\n",
       "      <td>23272759</td>\n",
       "    </tr>\n",
       "    <tr>\n",
       "      <th>3</th>\n",
       "      <td>11292232</td>\n",
       "      <td>23272758</td>\n",
       "    </tr>\n",
       "    <tr>\n",
       "      <th>4</th>\n",
       "      <td>11292232</td>\n",
       "      <td>23272757</td>\n",
       "    </tr>\n",
       "  </tbody>\n",
       "</table>\n",
       "</div>"
      ],
      "text/plain": [
       "   appln_id person_id\n",
       "0  11040656  22702215\n",
       "1  11040656  22702214\n",
       "2  11292232  23272759\n",
       "3  11292232  23272758\n",
       "4  11292232  23272757"
      ]
     },
     "execution_count": 11,
     "metadata": {},
     "output_type": "execute_result"
    }
   ],
   "source": [
    "df_patstat_person_id.head()"
   ]
  },
  {
   "cell_type": "code",
   "execution_count": 12,
   "metadata": {},
   "outputs": [
    {
     "data": {
      "text/plain": [
       "12669908"
      ]
     },
     "execution_count": 12,
     "metadata": {},
     "output_type": "execute_result"
    }
   ],
   "source": [
    "len(df_patstat_person_id)"
   ]
  },
  {
   "cell_type": "code",
   "execution_count": 13,
   "metadata": {},
   "outputs": [],
   "source": [
    "df_patstat_citations = pd.read_sql_query(\"\"\"\n",
    "    SELECT c.pat_publn_id::text, c.cited_pat_publn_id::text, p.appln_id::text\n",
    "    FROM tls212_citation AS c\n",
    "    JOIN tls211_pat_publn AS p ON c.pat_publn_id = p.pat_publn_id\n",
    "    WHERE p.appln_id IN (SELECT appln_id::text FROM temp_patstat_metadata)\n",
    "\"\"\", con=engine)\n",
    "df_patstat_citations = df_patstat_citations.drop_duplicates(subset=['pat_publn_id', 'cited_pat_publn_id', 'appln_id'])\n",
    "df_patstat_citations = df_patstat_citations[df_patstat_citations['cited_pat_publn_id'].isin(df_patstat_citations['pat_publn_id'])]"
   ]
  },
  {
   "cell_type": "code",
   "execution_count": 14,
   "metadata": {},
   "outputs": [],
   "source": [
    "df_patstat_citations = df_patstat_citations.rename(columns={\"appln_id\": \"pat_appln_id\"})\n",
    "df_patstat_citations = pd.merge(df_patstat_citations, df_patstat_citations[['pat_publn_id', 'pat_appln_id']].rename(columns={'pat_appln_id': 'cited_pat_appln_id'}), left_on='cited_pat_publn_id', right_on='pat_publn_id', how='inner')\n",
    "df_patstat_citations = df_patstat_citations[['pat_publn_id_x', 'cited_pat_publn_id', 'pat_appln_id', 'cited_pat_appln_id']]\n",
    "df_patstat_citations = df_patstat_citations.rename(columns={'pat_publn_id_x': 'pat_publn_id'})"
   ]
  },
  {
   "cell_type": "markdown",
   "metadata": {},
   "source": [
    "# Embedding of Node Properties"
   ]
  },
  {
   "cell_type": "code",
   "execution_count": null,
   "metadata": {},
   "outputs": [],
   "source": [
    "df_patstat_metadata = df_patstat_metadata.dropna(subset=['appln_title', 'appln_abstract'])\n",
    "df_patstat_metadata = df_patstat_metadata.reset_index(drop=True)\n",
    "df_patstat_metadata['appln_title'] = df_patstat_metadata['appln_title'].apply(lambda x: ' '.join(str(i) for i in x) if isinstance(x, list) else x)\n",
    "df_patstat_metadata['appln_abstract'] = df_patstat_metadata['appln_abstract'].apply(lambda x: ' '.join(str(i) for i in x) if isinstance(x, list) else x)\n",
    "df_patstat_metadata['embedding'] = model.encode(df_patstat_metadata['appln_title'] + ' [SEP] ' + df_patstat_metadata['appln_abstract'], device=device, show_progress_bar=True).tolist()"
   ]
  },
  {
   "cell_type": "code",
   "execution_count": null,
   "metadata": {},
   "outputs": [],
   "source": [
    "df_authors = df_patstat_person_id.groupby('appln_id')['person_id'].apply(list).reset_index(name='authors')\n",
    "d = model.get_sentence_embedding_dimension()  \n",
    "df_authors['embedding'] = df_authors.apply(lambda _: np.random.rand(d), axis=1)\n",
    "df_authors['embedding'] = df_authors['embedding'].apply(lambda x: x / np.linalg.norm(x))"
   ]
  },
  {
   "cell_type": "markdown",
   "metadata": {},
   "source": [
    "# Build Edge Indices"
   ]
  },
  {
   "cell_type": "code",
   "execution_count": null,
   "metadata": {},
   "outputs": [],
   "source": [
    "patent_id_to_index = pd.Series(df_patstat_metadata.index, index=df_patstat_metadata['appln_id']).to_dict()\n",
    "person_id_to_index = pd.Series(df_authors.index, index=df_authors['person_id']).to_dict()"
   ]
  },
  {
   "cell_type": "code",
   "execution_count": null,
   "metadata": {},
   "outputs": [],
   "source": [
    "df_patent_edge_index = df_patstat_citations.copy()\n",
    "df_patent_edge_index = df_patent_edge_index[['pat_appln_id', 'cited_pat_appln_id']]\n",
    "df_patent_edge_index['pat_appln_id'] = df_patent_edge_index['pat_appln_id'].map(patent_id_to_index)\n",
    "df_patent_edge_index['cited_pat_appln_id'] = df_patent_edge_index['cited_pat_appln_id'].map(patent_id_to_index)\n",
    "df_patent_edge_index = df_patent_edge_index.drop_duplicates(subset=['pat_appln_id', 'cited_pat_appln_id']).reset_index(drop=True)"
   ]
  },
  {
   "cell_type": "code",
   "execution_count": null,
   "metadata": {},
   "outputs": [],
   "source": [
    "df_person_patent_edge_index = df_authors.copy()\n",
    "df_person_patent_edge_index = df_person_patent_edge_index[['person_id', 'appln_id']]\n",
    "df_person_patent_edge_index['person_id'] = df_person_patent_edge_index['person_id'].map(author_id_to_index)\n",
    "df_person_patent_edge_index['appln_id'] = df_person_patent_edge_index['appln_id'].map(patent_id_to_index)\n",
    "df_patent_person_edge_index = df_person_patent_edge_index[['appln_id', 'person_id']]"
   ]
  },
  {
   "cell_type": "markdown",
   "metadata": {},
   "source": [
    "## Build GNN Model"
   ]
  },
  {
   "cell_type": "code",
   "execution_count": null,
   "metadata": {},
   "outputs": [],
   "source": [
    "def string_to_array(str_repr):\n",
    "    return np.fromstring(str_repr.strip('[]'), sep=',')\n",
    "\n",
    "# Open an HDF5 file\n",
    "with h5py.File('/mnt/hdd01/patentsview/Graph Neural Network for EDV-TEK Identification/raw/torch_tek_dataset_distilbert.h5', 'w') as f:\n",
    "    # Save node data\n",
    "    # f.create_dataset('g_patent/x', data=np.stack(g_patent['patent_title_abstract_bert_for_patents_embedding'].apply(string_to_array).values))\n",
    "    f.create_dataset('g_patent/x', data=np.stack(df_patstat_metadata[\"embedding\"].values))\n",
    "    f.create_dataset('g_patent/y', data=df_patstat_metadata['cleantech'].values.astype(np.int64))\n",
    "    f.create_dataset('g_author_nodes/x', data=np.stack(df_authors['embedding'].apply(string_to_array).values))\n",
    "    \n",
    "    # Save edge indices\n",
    "    f.create_dataset('patent_edge_index', data=df_patent_edge_index.values, dtype=np.int64)\n",
    "    f.create_dataset('person_patent_edge_index', data=df_person_patent_edge_index.values, dtype=np.int64)\n",
    "    f.create_dataset('patent_person_edge_index', data=df_patent_person_edge_index.values, dtype=np.int64)"
   ]
  }
 ],
 "metadata": {
  "kernelspec": {
   "display_name": "venv",
   "language": "python",
   "name": "python3"
  },
  "language_info": {
   "codemirror_mode": {
    "name": "ipython",
    "version": 3
   },
   "file_extension": ".py",
   "mimetype": "text/x-python",
   "name": "python",
   "nbconvert_exporter": "python",
   "pygments_lexer": "ipython3",
   "version": "3.10.0"
  }
 },
 "nbformat": 4,
 "nbformat_minor": 2
}
