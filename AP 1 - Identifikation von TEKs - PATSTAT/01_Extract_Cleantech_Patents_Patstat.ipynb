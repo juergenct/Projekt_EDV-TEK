{
 "cells": [
  {
   "cell_type": "code",
   "execution_count": 1,
   "metadata": {},
   "outputs": [],
   "source": [
    "import pandas as pd\n",
    "from sqlalchemy import create_engine, URL\n",
    "from tqdm import tqdm"
   ]
  },
  {
   "cell_type": "markdown",
   "metadata": {},
   "source": [
    "# Initiate Database Connection"
   ]
  },
  {
   "cell_type": "code",
   "execution_count": null,
   "metadata": {},
   "outputs": [],
   "source": [
    "url_object = URL.create(\n",
    "    drivername='postgresql+psycopg2',\n",
    "    username=username,\n",
    "    password=password,\n",
    "    host=IP,\n",
    "    port=port,\n",
    "    database='Patstat',\n",
    ")"
   ]
  },
  {
   "cell_type": "code",
   "execution_count": null,
   "metadata": {},
   "outputs": [],
   "source": [
    "engine = create_engine(url_object)"
   ]
  },
  {
   "cell_type": "markdown",
   "metadata": {},
   "source": [
    "# Extract Cleantech Patents from PATSTAT"
   ]
  },
  {
   "cell_type": "markdown",
   "metadata": {},
   "source": [
    "## Extract all Cleantech Patents from table TLS224_APPLN_CPC"
   ]
  },
  {
   "cell_type": "code",
   "execution_count": 3,
   "metadata": {},
   "outputs": [],
   "source": [
    "# SQL query\n",
    "query_patstat_cleantech_all = \"\"\"\n",
    "    SELECT APPLN_ID, CPC_CLASS_SYMBOL\n",
    "    FROM TLS224_APPLN_CPC\n",
    "    WHERE CPC_CLASS_SYMBOL LIKE '%Y02%'\n",
    "\"\"\""
   ]
  },
  {
   "cell_type": "code",
   "execution_count": null,
   "metadata": {},
   "outputs": [],
   "source": [
    "# Execute the query and write the results into a pandas DataFrame\n",
    "df_patstat_cleantech_all = pd.read_sql_query(query_patstat_cleantech_all, engine)\n",
    "# Aggregate by appln_id and list all cpc_class_symbols\n",
    "df_patstat_cleantech_all = df_patstat_cleantech_all.groupby('APPLN_ID')['CPC_CLASS_SYMBOL'].apply(list).reset_index(name='CPC_CLASS_SYMBOL')\n",
    "# Cast appln_id to string and delete everything after the dot\n",
    "df_patstat_cleantech_all['APPLN_ID'] = df_patstat_cleantech_all['APPLN_ID'].astype(str).str.split('.').str[0]"
   ]
  },
  {
   "cell_type": "code",
   "execution_count": null,
   "metadata": {},
   "outputs": [],
   "source": [
    "# Print length of DataFrame\n",
    "print(f\"Count of all Clantech patents in PATSTAT: {len(df_patstat_cleantech_all)}\")"
   ]
  },
  {
   "cell_type": "markdown",
   "metadata": {},
   "source": [
    "## Filter Cleantech Patents by Granted = Y"
   ]
  },
  {
   "cell_type": "code",
   "execution_count": null,
   "metadata": {},
   "outputs": [],
   "source": [
    "df_patstat_cleantech_all.to_sql('temp_patstat_cleantech_all', engine, if_exists='replace', index=False)"
   ]
  },
  {
   "cell_type": "code",
   "execution_count": null,
   "metadata": {},
   "outputs": [],
   "source": [
    "# SQL query to filter by granted patents\n",
    "query_filter_cleantech_granted = \"\"\"\n",
    "    SELECT temp_patstat_cleantech_all.APPLN_ID\n",
    "    FROM temp_patstat_cleantech_all\n",
    "    INNER JOIN TLS201_appln ON temp_patstat_cleantech_all.APPLN_ID = TLS201_appln.APPLN_ID\n",
    "    WHERE TLS201_appln.GRANTED = 'Y'\n",
    "\"\"\""
   ]
  },
  {
   "cell_type": "code",
   "execution_count": null,
   "metadata": {},
   "outputs": [],
   "source": [
    "df_patstat_cleantech_granted = pd.read_sql_query(query_filter_cleantech_granted, engine)\n",
    "# Merge with df_patstat_cleantech_all to get the cpc_class_symbol\n",
    "df_patstat_cleantech_granted = df_patstat_cleantech_granted.merge(df_patstat_cleantech_all, on='APPLN_ID', how='left')"
   ]
  },
  {
   "cell_type": "code",
   "execution_count": null,
   "metadata": {},
   "outputs": [],
   "source": [
    "# Delete temporary table\n",
    "engine.execute(\"DROP TABLE IF EXISTS temp_patstat_cleantech_all\")"
   ]
  },
  {
   "cell_type": "markdown",
   "metadata": {},
   "source": [
    "## Source required Metadata for Cleantech Patents"
   ]
  },
  {
   "cell_type": "code",
   "execution_count": null,
   "metadata": {},
   "outputs": [],
   "source": [
    "df_patstat_cleantech_granted.to_sql('temp_patstat_cleantech_granted', engine, if_exists='replace', index=False)"
   ]
  },
  {
   "cell_type": "code",
   "execution_count": null,
   "metadata": {},
   "outputs": [],
   "source": [
    "# SQL query to select data from multiple tables\n",
    "query_cleantech_metadata = \"\"\"\n",
    "    SELECT \n",
    "        temp_df.APPLN_ID,\n",
    "        tls201.APPLN_AUTH,\n",
    "        tls201.APPLN_NR,\n",
    "        tls201.APPLN_KIND,\n",
    "        tls201.APPLN_FILING_DATE,\n",
    "        tls201.APPLN_FILING_YEAR,\n",
    "        tls202.APPLN_TITLE_LG,\n",
    "        tls202.APPLN_TITLE,\n",
    "        tls203.APPLN_ABSTRACT_LG,\n",
    "        tls203.APPLN_ABSTRACT\n",
    "    FROM \n",
    "        temp_patstat_cleantech_granted\n",
    "    INNER JOIN \n",
    "        TLS201_APPLN AS tls201 ON temp_df.APPLN_ID = tls201.APPLN_ID\n",
    "    LEFT JOIN \n",
    "        TLS202_APPLN_TITLE AS tls202 ON temp_df.APPLN_ID = tls202.APPLN_ID\n",
    "    LEFT JOIN \n",
    "        TLS203_APPLN_ABSTR AS tls203 ON temp_df.APPLN_ID = tls203.APPLN_ID\n",
    "    WHERE \n",
    "        tls201.GRANTED = 'Y'\n",
    "\"\"\""
   ]
  },
  {
   "cell_type": "code",
   "execution_count": null,
   "metadata": {},
   "outputs": [],
   "source": [
    "df_patstat_cleantech_metadata = pd.read_sql_query(query_cleantech_metadata, engine)\n",
    "engine.execute(\"DROP TABLE IF EXISTS temp_patstat_cleantech_granted\")"
   ]
  },
  {
   "cell_type": "code",
   "execution_count": null,
   "metadata": {},
   "outputs": [],
   "source": [
    "# Group by APPLN_ID, list all values and reset index\n",
    "df_patstat_cleantech_metadata = df_patstat_cleantech_metadata.groupby('APPLN_ID').agg({\n",
    "    'APPLN_AUTH': lambda x: list(x),\n",
    "    'APPLN_NR': lambda x: list(x),\n",
    "    'APPLN_KIND': lambda x: list(x),\n",
    "    'APPLN_FILING_DATE': lambda x: list(x),\n",
    "    'APPLN_FILING_YEAR': lambda x: list(x),\n",
    "    'APPLN_TITLE_LG': lambda x: list(x),\n",
    "    'APPLN_TITLE': lambda x: list(x),\n",
    "    'APPLN_ABSTRACT_LG': lambda x: list(x),\n",
    "    'APPLN_ABSTRACT': lambda x: list(x),\n",
    "}).reset_index()"
   ]
  },
  {
   "cell_type": "code",
   "execution_count": null,
   "metadata": {},
   "outputs": [],
   "source": [
    "print(f\"Number of granted Cleantech patents in PATSTAT: {len(df_patstat_cleantech_metadata)}\")"
   ]
  },
  {
   "cell_type": "code",
   "execution_count": null,
   "metadata": {},
   "outputs": [],
   "source": [
    "df_patstat_cleantech_metadata.to_json('data/patstat_cleantech_metadata.json', orient='records')"
   ]
  },
  {
   "cell_type": "markdown",
   "metadata": {},
   "source": [
    "# Filter Cleantech Patents for further analysis"
   ]
  },
  {
   "cell_type": "code",
   "execution_count": null,
   "metadata": {},
   "outputs": [],
   "source": [
    "# Filter out all patents that have no abstract\n",
    "df_patstat_cleantech_metadata = df_patstat_cleantech_metadata[df_patstat_cleantech_metadata['APPLN_ABSTRACT'].notnull()]\n",
    "print(f\"Number of granted Cleantech patents in PATSTAT with abstract: {len(df_patstat_cleantech_metadata)}\")"
   ]
  },
  {
   "cell_type": "code",
   "execution_count": null,
   "metadata": {},
   "outputs": [],
   "source": [
    "# Filter out all patents where APPLN_ABSTRACT_LG is not en (english)\n",
    "df_patstat_cleantech_metadata = df_patstat_cleantech_metadata[df_patstat_cleantech_metadata['APPLN_ABSTRACT_LG'].str.contains('en')]\n",
    "print(f\"Number of granted Cleantech patents in PATSTAT with english abstract; considered for training neural networks: {len(df_patstat_cleantech_metadata)}\")"
   ]
  },
  {
   "cell_type": "code",
   "execution_count": null,
   "metadata": {},
   "outputs": [],
   "source": [
    "df_patstat_cleantech_metadata.to_json('data/patstat_cleantech_metadata_filtered.json', orient='records')"
   ]
  }
 ],
 "metadata": {
  "kernelspec": {
   "display_name": "venv",
   "language": "python",
   "name": "python3"
  },
  "language_info": {
   "codemirror_mode": {
    "name": "ipython",
    "version": 3
   },
   "file_extension": ".py",
   "mimetype": "text/x-python",
   "name": "python",
   "nbconvert_exporter": "python",
   "pygments_lexer": "ipython3",
   "version": "3.11.6"
  }
 },
 "nbformat": 4,
 "nbformat_minor": 2
}
