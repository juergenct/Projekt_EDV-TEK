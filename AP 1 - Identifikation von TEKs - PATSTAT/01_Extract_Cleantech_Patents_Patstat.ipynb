{
 "cells": [
  {
   "cell_type": "code",
   "execution_count": null,
   "metadata": {},
   "outputs": [],
   "source": [
    "import pandas as pd\n",
    "from sqlalchemy import create_engine, URL\n",
    "from tqdm import tqdm\n",
    "tqdm.pandas()"
   ]
  },
  {
   "cell_type": "markdown",
   "metadata": {},
   "source": [
    "# Initiate Database Connection"
   ]
  },
  {
   "cell_type": "code",
   "execution_count": null,
   "metadata": {},
   "outputs": [],
   "source": [
    "url_object = URL.create(\n",
    "    drivername='postgresql+psycopg2',\n",
    "    username='tie',\n",
    "    password='TIE%2023!tuhh',\n",
    "    host='localhost',\n",
    "    port='25432',\n",
    "    database='Patstat',\n",
    ")"
   ]
  },
  {
   "cell_type": "code",
   "execution_count": null,
   "metadata": {},
   "outputs": [],
   "source": [
    "engine = create_engine(url_object)"
   ]
  },
  {
   "cell_type": "markdown",
   "metadata": {},
   "source": [
    "# Extract Cleantech Patents from PATSTAT"
   ]
  },
  {
   "cell_type": "markdown",
   "metadata": {},
   "source": [
    "## Extract all Cleantech Patents from table TLS224_APPLN_CPC"
   ]
  },
  {
   "cell_type": "code",
   "execution_count": null,
   "metadata": {},
   "outputs": [],
   "source": [
    "# SQL query\n",
    "query_patstat_cleantech_all = \"\"\"\n",
    "    SELECT appln_id, cpc_class_symbol\n",
    "    FROM tls224_appln_cpc\n",
    "    WHERE cpc_class_symbol LIKE 'Y02%%';\n",
    "\"\"\""
   ]
  },
  {
   "cell_type": "code",
   "execution_count": null,
   "metadata": {},
   "outputs": [],
   "source": [
    "# Execute the query and write the results into a pandas DataFrame\n",
    "df_patstat_cleantech_all = pd.read_sql_query(query_patstat_cleantech_all, engine)\n",
    "# Aggregate by appln_id and list all cpc_class_symbols\n",
    "df_patstat_cleantech_all = df_patstat_cleantech_all.groupby('appln_id')['cpc_class_symbol'].apply(list).reset_index(name='cpc_class_symbol')\n",
    "# Cast appln_id to string and delete everything after the dot\n",
    "df_patstat_cleantech_all['appln_id'] = df_patstat_cleantech_all['appln_id'].astype(str).str.split('.').str[0]"
   ]
  },
  {
   "cell_type": "code",
   "execution_count": null,
   "metadata": {},
   "outputs": [],
   "source": [
    "# Print length of DataFrame\n",
    "print(f\"Count of all Clantech patents in PATSTAT: {len(df_patstat_cleantech_all)}\")"
   ]
  },
  {
   "cell_type": "markdown",
   "metadata": {},
   "source": [
    "## Filter Cleantech Patents by Granted = Y"
   ]
  },
  {
   "cell_type": "code",
   "execution_count": null,
   "metadata": {},
   "outputs": [],
   "source": [
    "df_patstat_cleantech_all.to_sql('temp_patstat_cleantech_all', engine, if_exists='replace', index=False)"
   ]
  },
  {
   "cell_type": "code",
   "execution_count": null,
   "metadata": {},
   "outputs": [],
   "source": [
    "df_patstat_cleantech_all.head()"
   ]
  },
  {
   "cell_type": "code",
   "execution_count": null,
   "metadata": {},
   "outputs": [],
   "source": [
    "# SQL query to filter by granted patents\n",
    "query_filter_cleantech_granted = \"\"\"\n",
    "    SELECT temp_patstat_cleantech_all.appln_id\n",
    "    FROM temp_patstat_cleantech_all\n",
    "    INNER JOIN tls201_appln ON temp_patstat_cleantech_all.appln_id = CAST(tls201_appln.appln_id AS text)\n",
    "    WHERE tls201_appln.granted = 'Y'\n",
    "\"\"\""
   ]
  },
  {
   "cell_type": "code",
   "execution_count": null,
   "metadata": {},
   "outputs": [],
   "source": [
    "df_patstat_cleantech_granted = pd.read_sql_query(query_filter_cleantech_granted, engine)\n",
    "# Merge with df_patstat_cleantech_all to get the cpc_class_symbol\n",
    "df_patstat_cleantech_granted = df_patstat_cleantech_granted.merge(df_patstat_cleantech_all, on='appln_id', how='left')"
   ]
  },
  {
   "cell_type": "code",
   "execution_count": null,
   "metadata": {},
   "outputs": [],
   "source": [
    "# Delete temporary table\n",
    "engine.execute(\"DROP TABLE IF EXISTS temp_patstat_cleantech_all\")"
   ]
  },
  {
   "cell_type": "markdown",
   "metadata": {},
   "source": [
    "## Source required Metadata for Cleantech Patents"
   ]
  },
  {
   "cell_type": "code",
   "execution_count": null,
   "metadata": {},
   "outputs": [],
   "source": [
    "df_patstat_cleantech_granted.to_sql('temp_patstat_cleantech_granted', engine, if_exists='replace', index=False)"
   ]
  },
  {
   "cell_type": "code",
   "execution_count": null,
   "metadata": {},
   "outputs": [],
   "source": [
    "# SQL query to select data from multiple tables\n",
    "query_cleantech_metadata = \"\"\"\n",
    "    SELECT \n",
    "        temp_patstat_cleantech_granted.appln_id,\n",
    "        tls201.appln_auth,\n",
    "        tls201.appln_nr,\n",
    "        tls201.appln_kind,\n",
    "        tls201.appln_filing_date,\n",
    "        tls201.appln_filing_year,\n",
    "        tls202.appln_title_lg,\n",
    "        tls202.appln_title,\n",
    "        tls203.appln_abstract_lg,\n",
    "        tls203.appln_abstract\n",
    "    FROM \n",
    "        temp_patstat_cleantech_granted\n",
    "    INNER JOIN \n",
    "        tls201_appln AS tls201 ON temp_patstat_cleantech_granted.appln_id = CAST(tls201.appln_id AS text)\n",
    "    LEFT JOIN \n",
    "        tls202_appln_title AS tls202 ON temp_patstat_cleantech_granted.appln_id = CAST(tls202.appln_id AS text)\n",
    "    LEFT JOIN \n",
    "        tls203_appln_abstr AS tls203 ON temp_patstat_cleantech_granted.appln_id = CAST(tls203.appln_id AS text)\n",
    "    WHERE \n",
    "        tls201.granted = 'Y'\n",
    "\"\"\""
   ]
  },
  {
   "cell_type": "code",
   "execution_count": null,
   "metadata": {},
   "outputs": [],
   "source": [
    "df_patstat_cleantech_metadata = pd.read_sql_query(query_cleantech_metadata, engine)\n",
    "# engine.execute(\"DROP TABLE IF EXISTS temp_patstat_cleantech_granted\")"
   ]
  },
  {
   "cell_type": "code",
   "execution_count": null,
   "metadata": {},
   "outputs": [],
   "source": [
    "# Group by appln_id, list all values and reset index\n",
    "df_patstat_cleantech_metadata = df_patstat_cleantech_metadata.groupby('appln_id').agg({\n",
    "    'appln_auth': lambda x: list(x),\n",
    "    'appln_nr': lambda x: list(x),\n",
    "    'appln_kind': lambda x: list(x),\n",
    "    'appln_filing_date': lambda x: list(x),\n",
    "    'appln_filing_year': lambda x: list(x),\n",
    "    'appln_title_lg': lambda x: list(x),\n",
    "    'appln_title': lambda x: list(x),\n",
    "    'appln_abstract_lg': lambda x: list(x),\n",
    "    'appln_abstract': lambda x: list(x),\n",
    "}).reset_index()"
   ]
  },
  {
   "cell_type": "code",
   "execution_count": null,
   "metadata": {},
   "outputs": [],
   "source": [
    "print(f\"Number of granted Cleantech patents in PATSTAT: {len(df_patstat_cleantech_metadata)}\")"
   ]
  },
  {
   "cell_type": "code",
   "execution_count": null,
   "metadata": {},
   "outputs": [],
   "source": [
    "df_patstat_cleantech_metadata.to_json('/mnt/hdd01/PATSTAT Working Directory/PATSTAT/df_patstat_cleantech_granted_metadata.json', orient='records')"
   ]
  },
  {
   "cell_type": "markdown",
   "metadata": {},
   "source": [
    "# Filter Cleantech Patents for further analysis"
   ]
  },
  {
   "cell_type": "code",
   "execution_count": null,
   "metadata": {},
   "outputs": [],
   "source": [
    "# Filter out all patents that have no abstract\n",
    "df_patstat_cleantech_metadata = df_patstat_cleantech_metadata[df_patstat_cleantech_metadata['appln_abstract'].notnull()]\n",
    "print(f\"Number of granted Cleantech patents in PATSTAT with abstract: {len(df_patstat_cleantech_metadata)}\")"
   ]
  },
  {
   "cell_type": "code",
   "execution_count": null,
   "metadata": {},
   "outputs": [],
   "source": [
    "df_patstat_cleantech_metadata.head()"
   ]
  },
  {
   "cell_type": "code",
   "execution_count": null,
   "metadata": {},
   "outputs": [],
   "source": [
    "# Filter out all patents where list in appln_abstract_lg does not contain 'en'\n",
    "df_patstat_cleantech_metadata = df_patstat_cleantech_metadata[df_patstat_cleantech_metadata['appln_abstract_lg'].apply(lambda x: 'en' in x)]\n",
    "print(f\"Number of granted Cleantech patents in PATSTAT with english abstract; considered for training neural networks: {len(df_patstat_cleantech_metadata)}\")"
   ]
  },
  {
   "cell_type": "code",
   "execution_count": null,
   "metadata": {},
   "outputs": [],
   "source": [
    "df_patstat_cleantech_metadata.to_json('/mnt/hdd01/PATSTAT Working Directory/PATSTAT/df_patstat_cleantech_granted_abstract_metadata.json', orient='records')"
   ]
  }
 ],
 "metadata": {
  "kernelspec": {
   "display_name": "venv",
   "language": "python",
   "name": "python3"
  },
  "language_info": {
   "codemirror_mode": {
    "name": "ipython",
    "version": 3
   },
   "file_extension": ".py",
   "mimetype": "text/x-python",
   "name": "python",
   "nbconvert_exporter": "python",
   "pygments_lexer": "ipython3",
   "version": "3.11.6"
  }
 },
 "nbformat": 4,
 "nbformat_minor": 2
}
