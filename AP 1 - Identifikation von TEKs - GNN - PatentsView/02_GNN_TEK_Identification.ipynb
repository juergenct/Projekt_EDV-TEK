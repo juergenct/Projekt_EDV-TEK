{
 "cells": [
  {
   "cell_type": "code",
   "execution_count": null,
   "metadata": {},
   "outputs": [],
   "source": [
    "import re\n",
    "import h5py\n",
    "import os.path as osp\n",
    "import torch\n",
    "import pandas as pd\n",
    "import numpy as np\n",
    "import networkx as nx\n",
    "import matplotlib.pyplot as plt\n",
    "from sentence_transformers import SentenceTransformer\n",
    "from torch_geometric.data import HeteroData, Dataset\n",
    "from torch_geometric.nn import GCNConv, HeteroConv, SAGEConv, GATConv, MessagePassing\n",
    "from torch_geometric.utils import to_networkx\n",
    "from torch_geometric.loader import NeighborLoader\n",
    "from tqdm import tqdm\n",
    "tqdm.pandas()\n",
    "\n",
    "# stop_words = nltk.corpus.stopwords.words('english')\n",
    "device = torch.device(\"cuda\" if torch.cuda.is_available() else \"cpu\")\n",
    "# model = SentenceTransformer('anferico/bert-for-patents').to(device)"
   ]
  },
  {
   "cell_type": "markdown",
   "metadata": {},
   "source": [
    "**Sources** (Also for tomorrow)\n",
    "- https://pytorch-geometric.readthedocs.io/en/latest/tutorial/heterogeneous.html\n",
    "- https://pytorch-geometric.readthedocs.io/en/latest/tutorial/create_gnn.html\n",
    "- https://pytorch-geometric.readthedocs.io/en/latest/generated/torch_geometric.nn.conv.HeteroConv.html#torch_geometric.nn.conv.HeteroConv\n",
    "- https://pytorch-geometric.readthedocs.io/en/latest/cheatsheet/gnn_cheatsheet.html"
   ]
  },
  {
   "cell_type": "markdown",
   "metadata": {},
   "source": [
    "# Data Preprocessing"
   ]
  },
  {
   "cell_type": "markdown",
   "metadata": {},
   "source": [
    "## Patents"
   ]
  },
  {
   "cell_type": "code",
   "execution_count": null,
   "metadata": {},
   "outputs": [],
   "source": [
    "g_patent = pd.read_csv('/mnt/hdd01/patentsview/Raw files/Raw zip files/g_patent.tsv.zip', sep='\\t', compression='zip', usecols=['patent_id', 'patent_title', 'patent_abstract'], low_memory=False)\n",
    "g_cpc = pd.read_csv('/mnt/hdd01/patentsview/Raw files/Raw zip files/g_cpc_current.tsv.zip', sep='\\t', compression='zip', usecols=['patent_id', 'cpc_class'], low_memory=False)\n",
    "g_patent = g_patent.astype(str)\n",
    "g_cpc = g_cpc.astype(str)"
   ]
  },
  {
   "cell_type": "code",
   "execution_count": null,
   "metadata": {},
   "outputs": [],
   "source": [
    "g_patent_cpc = pd.merge(g_patent, g_cpc, on='patent_id')\n",
    "g_patent_cpc = g_patent_cpc.groupby('patent_id').agg({\n",
    "    'cpc_class': list,\n",
    "    'patent_title': 'first',\n",
    "    'patent_abstract': 'first'\n",
    "}).reset_index().rename(columns={'cpc_class': 'cpc_groups'})"
   ]
  },
  {
   "cell_type": "code",
   "execution_count": null,
   "metadata": {},
   "outputs": [],
   "source": [
    "g_patent_cleantech = g_patent_cpc[g_patent_cpc['cpc_groups'].apply(lambda x: 'Y02' in x)]\n",
    "g_patent_non_cleantech = g_patent_cpc.sample(n=len(g_patent_cleantech), random_state=42)"
   ]
  },
  {
   "cell_type": "markdown",
   "metadata": {},
   "source": [
    "### Data Cleaning"
   ]
  },
  {
   "cell_type": "code",
   "execution_count": null,
   "metadata": {},
   "outputs": [],
   "source": [
    "def preprocess_text(text):\n",
    "    # text = text.lower()\n",
    "    text = re.sub(r'https?://\\S+|www\\.\\S+', '', text)\n",
    "    text = re.sub(r'\\S+@\\S+', '', text)\n",
    "    text = re.sub(r'[^A-Za-z\\s]', '', text)\n",
    "    text = re.sub(r'\\s+', ' ', text).strip()\n",
    "    # text = ' '.join([word for word in text.split() if word not in stop_words])\n",
    "    return text"
   ]
  },
  {
   "cell_type": "code",
   "execution_count": null,
   "metadata": {},
   "outputs": [],
   "source": [
    "g_patent_cleantech.loc[:, 'patent_title'] = g_patent_cleantech['patent_title'].progress_apply(preprocess_text)\n",
    "g_patent_cleantech.loc[:, 'patent_abstract'] = g_patent_cleantech['patent_abstract'].progress_apply(preprocess_text)\n",
    "g_patent_non_cleantech.loc[:, 'patent_title'] = g_patent_non_cleantech['patent_title'].progress_apply(preprocess_text)\n",
    "g_patent_non_cleantech.loc[:, 'patent_abstract'] = g_patent_non_cleantech['patent_abstract'].progress_apply(preprocess_text)"
   ]
  },
  {
   "cell_type": "code",
   "execution_count": null,
   "metadata": {},
   "outputs": [],
   "source": [
    "g_patent_cleantech.loc[:, 'patent_title_abstract'] = g_patent_cleantech['patent_title'] + ' [SEP] ' + g_patent_cleantech['patent_abstract']\n",
    "g_patent_non_cleantech.loc[:, 'patent_title_abstract'] = g_patent_non_cleantech['patent_title'] + ' [SEP] ' + g_patent_non_cleantech['patent_abstract']\n",
    "\n",
    "g_patent_cleantech.loc[:, 'label'] = 1\n",
    "g_patent_non_cleantech.loc[:, 'label'] = 0\n",
    "\n",
    "g_patent = pd.concat([g_patent_cleantech, g_patent_non_cleantech], ignore_index=True)\n",
    "\n",
    "g_patent = g_patent.sort_values(by=['patent_id']).reset_index(drop=True)\n",
    "\n",
    "g_patent['index'] = g_patent.index"
   ]
  },
  {
   "cell_type": "code",
   "execution_count": null,
   "metadata": {},
   "outputs": [],
   "source": [
    "g_patent['patent_title_abstract_bert_for_patents_embedding'] = model.encode(g_patent['patent_title_abstract'].tolist(), show_progress_bar=True, convert_to_tensor=True, device=device)"
   ]
  },
  {
   "cell_type": "code",
   "execution_count": null,
   "metadata": {},
   "outputs": [],
   "source": [
    "# If I want to load precomputed embeddings\n",
    "g_patent = pd.read_csv('/mnt/hdd01/patentsview/Graph Neural Network for EDV-TEK/raw/g_patent_embedding.csv')"
   ]
  },
  {
   "cell_type": "markdown",
   "metadata": {},
   "source": [
    "## Assignees, Inventors and Authors"
   ]
  },
  {
   "cell_type": "code",
   "execution_count": null,
   "metadata": {},
   "outputs": [],
   "source": [
    "g_assignee = pd.read_csv('/mnt/hdd01/patentsview/Raw files/Raw zip files/g_assignee_disambiguated.tsv.zip', sep='\\t', compression='zip', usecols=['patent_id', 'assignee_id', 'disambig_assignee_individual_name_first', 'disambig_assignee_individual_name_last', 'disambig_assignee_organization'], low_memory=False)\n",
    "g_inventor = pd.read_csv('/mnt/hdd01/patentsview/Raw files/Raw zip files/g_inventor_disambiguated.tsv.zip', sep='\\t', compression='zip', usecols=['patent_id', 'inventor_id', 'disambig_inventor_name_first', 'disambig_inventor_name_last'], low_memory=False)"
   ]
  },
  {
   "cell_type": "code",
   "execution_count": null,
   "metadata": {},
   "outputs": [],
   "source": [
    "g_assignee = g_assignee[g_assignee['patent_id'].isin(g_patent_cleantech['patent_id'].tolist() + g_patent_non_cleantech['patent_id'].tolist())].reset_index(drop=True)\n",
    "g_assignee = g_assignee.sort_values(by=['assignee_id']).reset_index(drop=True)\n",
    "g_inventor = g_inventor[g_inventor['patent_id'].isin(g_patent_cleantech['patent_id'].tolist() + g_patent_non_cleantech['patent_id'].tolist())].reset_index(drop=True)\n",
    "g_inventor = g_inventor.sort_values(by=['inventor_id']).reset_index(drop=True)"
   ]
  },
  {
   "cell_type": "code",
   "execution_count": null,
   "metadata": {},
   "outputs": [],
   "source": [
    "g_assignee_nodes = g_assignee[['assignee_id', 'disambig_assignee_individual_name_first', 'disambig_assignee_individual_name_last', 'disambig_assignee_organization']].drop_duplicates().reset_index(drop=True)\n",
    "g_inventor_nodes = g_inventor[['inventor_id', 'disambig_inventor_name_first', 'disambig_inventor_name_last']].drop_duplicates().reset_index(drop=True)\n",
    "g_assignee_nodes['index'] = g_assignee_nodes.index\n",
    "g_inventor_nodes['index'] = g_inventor_nodes.index"
   ]
  },
  {
   "cell_type": "code",
   "execution_count": null,
   "metadata": {},
   "outputs": [],
   "source": [
    "g_assignee_nodes['assignee_embedding'] = np.random.rand(len(g_assignee_nodes), 1024).tolist()\n",
    "g_inventor_nodes['inventor_embedding'] = np.random.rand(len(g_inventor_nodes), 1024).tolist()"
   ]
  },
  {
   "cell_type": "markdown",
   "metadata": {},
   "source": [
    "## Patent Citations"
   ]
  },
  {
   "cell_type": "code",
   "execution_count": null,
   "metadata": {},
   "outputs": [],
   "source": [
    "g_patent_citation = pd.read_csv('/mnt/hdd01/patentsview/Raw files/Raw zip files/g_us_patent_citation.tsv.zip', sep='\\t', compression='zip', usecols=['patent_id', 'citation_patent_id'], low_memory=False)"
   ]
  },
  {
   "cell_type": "code",
   "execution_count": null,
   "metadata": {},
   "outputs": [],
   "source": [
    "g_patent_citation = g_patent_citation[g_patent_citation['citation_patent_id'].isin(g_patent_cleantech['patent_id'].tolist() + g_patent_non_cleantech['patent_id'].tolist())].reset_index(drop=True)\n",
    "g_patent_citation = g_patent_citation[g_patent_citation['patent_id'].isin(g_patent_cleantech['patent_id'].tolist() + g_patent_non_cleantech['patent_id'].tolist())].reset_index(drop=True)"
   ]
  },
  {
   "cell_type": "code",
   "execution_count": null,
   "metadata": {},
   "outputs": [],
   "source": [
    "g_patent_citation = pd.merge(g_patent_citation, g_patent[['patent_id', 'index']].rename(columns={'index': 'patent_id_index'}), on='patent_id')\n",
    "g_patent_citation = pd.merge(g_patent_citation, g_patent[['patent_id', 'index']].rename(columns={'index': 'citation_patent_id_index'}), left_on='citation_patent_id', right_on='patent_id').drop(columns=['patent_id_y']).rename(columns={'patent_id_x': 'patent_id'})"
   ]
  },
  {
   "cell_type": "code",
   "execution_count": null,
   "metadata": {},
   "outputs": [],
   "source": [
    "patent_edge_index = []\n",
    "for i in tqdm(range(len(g_patent_citation))):\n",
    "    patent_edge_index.append([g_patent_citation['patent_id_index'][i], g_patent_citation['citation_patent_id_index'][i]])\n",
    "    patent_edge_index.append([g_patent_citation['citation_patent_id_index'][i], g_patent_citation['patent_id_index'][i]])"
   ]
  },
  {
   "cell_type": "markdown",
   "metadata": {},
   "source": [
    "## Inventor and Assignee - Patent Relationships"
   ]
  },
  {
   "cell_type": "code",
   "execution_count": null,
   "metadata": {},
   "outputs": [],
   "source": [
    "g_assignee_patent = pd.merge(g_assignee, g_patent[['patent_id', 'index']].rename(columns={'index': 'patent_id_index'}), on='patent_id')\n",
    "g_assignee_patent = pd.merge(g_assignee_patent, g_assignee_nodes[['assignee_id', 'index']].rename(columns={'index': 'assignee_id_index'}), on='assignee_id')\n",
    "g_inventor_patent = pd.merge(g_inventor, g_patent[['patent_id', 'index']].rename(columns={'index': 'patent_id_index'}), on='patent_id')\n",
    "g_inventor_patent = pd.merge(g_inventor_patent, g_inventor_nodes[['inventor_id', 'index']].rename(columns={'index': 'inventor_id_index'}), on='inventor_id')"
   ]
  },
  {
   "cell_type": "code",
   "execution_count": null,
   "metadata": {},
   "outputs": [],
   "source": [
    "assignee_patent_edge_index = []\n",
    "for i in tqdm(range(len(g_assignee_patent))):\n",
    "    assignee_patent_edge_index.append([g_assignee_patent['assignee_id_index'][i], g_assignee_patent['patent_id_index'][i]])\n",
    "\n",
    "patent_assignee_edge_index = []\n",
    "for i in tqdm(range(len(g_assignee_patent))):\n",
    "    patent_assignee_edge_index.append([g_assignee_patent['patent_id_index'][i], g_assignee_patent['assignee_id_index'][i]])\n",
    "\n",
    "inventor_patent_edge_index = []\n",
    "for i in tqdm(range(len(g_inventor_patent))):\n",
    "    inventor_patent_edge_index.append([g_inventor_patent['inventor_id_index'][i], g_inventor_patent['patent_id_index'][i]])\n",
    "\n",
    "patent_inventor_edge_index = []\n",
    "for i in tqdm(range(len(g_inventor_patent))):\n",
    "    patent_inventor_edge_index.append([g_inventor_patent['patent_id_index'][i], g_inventor_patent['inventor_id_index'][i]])"
   ]
  },
  {
   "cell_type": "code",
   "execution_count": null,
   "metadata": {},
   "outputs": [],
   "source": [
    "g_inventor_nodes.to_csv('/mnt/hdd01/patentsview/Graph Neural Network for EDV-TEK/raw/g_inventor_nodes.csv', index=False)\n",
    "g_assignee_nodes.to_csv('/mnt/hdd01/patentsview/Graph Neural Network for EDV-TEK/raw/g_assignee_nodes.csv', index=False)"
   ]
  },
  {
   "cell_type": "code",
   "execution_count": null,
   "metadata": {},
   "outputs": [],
   "source": [
    "patent_edge_index = pd.DataFrame(patent_edge_index, columns=['source', 'target'])\n",
    "assignee_patent_edge_index = pd.DataFrame(assignee_patent_edge_index, columns=['source', 'target'])\n",
    "patent_assignee_edge_index = pd.DataFrame(patent_assignee_edge_index, columns=['source', 'target'])\n",
    "inventor_patent_edge_index = pd.DataFrame(inventor_patent_edge_index, columns=['source', 'target'])\n",
    "patent_inventor_edge_index = pd.DataFrame(patent_inventor_edge_index, columns=['source', 'target'])\n",
    "\n",
    "patent_edge_index.to_csv('/mnt/hdd01/patentsview/Graph Neural Network for EDV-TEK/raw/patent_edge_index.csv', index=False)\n",
    "assignee_patent_edge_index.to_csv('/mnt/hdd01/patentsview/Graph Neural Network for EDV-TEK/raw/assignee_patent_edge_index.csv', index=False)\n",
    "patent_assignee_edge_index.to_csv('/mnt/hdd01/patentsview/Graph Neural Network for EDV-TEK/raw/patent_assignee_edge_index.csv', index=False)\n",
    "inventor_patent_edge_index.to_csv('/mnt/hdd01/patentsview/Graph Neural Network for EDV-TEK/raw/inventor_patent_edge_index.csv', index=False)\n",
    "patent_inventor_edge_index.to_csv('/mnt/hdd01/patentsview/Graph Neural Network for EDV-TEK/raw/patent_inventor_edge_index.csv', index=False)"
   ]
  },
  {
   "cell_type": "code",
   "execution_count": null,
   "metadata": {},
   "outputs": [],
   "source": [
    "# If I want to load precomputed patent embeddings\n",
    "g_patent = pd.read_csv('/mnt/hdd01/patentsview/Graph Neural Network for EDV-TEK/raw/g_patent_embedding.csv')"
   ]
  },
  {
   "cell_type": "markdown",
   "metadata": {},
   "source": [
    "## Save Data"
   ]
  },
  {
   "cell_type": "code",
   "execution_count": null,
   "metadata": {},
   "outputs": [],
   "source": [
    "g_assignee_nodes = g_assignee_nodes.astype(str)\n",
    "g_inventor_nodes = g_inventor_nodes.astype(str)"
   ]
  },
  {
   "cell_type": "code",
   "execution_count": null,
   "metadata": {},
   "outputs": [],
   "source": [
    "# Print datatypes of g_patent all columns\n",
    "for col in g_patent.columns:\n",
    "    print(col, g_patent[col].dtype)\n",
    "\n",
    "# Print datatypes of g_assignee_nodes all columns\n",
    "for col in g_assignee_nodes.columns:\n",
    "    print(col, g_assignee_nodes[col].dtype)"
   ]
  },
  {
   "cell_type": "code",
   "execution_count": null,
   "metadata": {},
   "outputs": [],
   "source": [
    "def string_to_array(str_repr):\n",
    "    return np.fromstring(str_repr.strip('[]'), sep=',')\n",
    "\n",
    "# Open an HDF5 file\n",
    "with h5py.File('/mnt/hdd01/patentsview/Graph Neural Network for EDV-TEK/raw/torch_tek_dataset.h5', 'w') as f:\n",
    "    # Save node data\n",
    "    f.create_dataset('g_patent/x', data=np.stack(g_patent['patent_title_abstract_bert_for_patents_embedding'].apply(string_to_array).values))\n",
    "    f.create_dataset('g_patent/y', data=g_patent['label'].values.astype(np.int64))\n",
    "    f.create_dataset('g_assignee_nodes/x', data=np.stack(g_assignee_nodes['assignee_embedding'].apply(string_to_array).values))\n",
    "    f.create_dataset('g_inventor_nodes/x', data=np.stack(g_inventor_nodes['inventor_embedding'].apply(string_to_array).values))\n",
    "    \n",
    "    # Save edge indices\n",
    "    f.create_dataset('patent_edge_index', data=patent_edge_index.values, dtype=np.int64)\n",
    "    f.create_dataset('assignee_patent_edge_index', data=assignee_patent_edge_index.values, dtype=np.int64)\n",
    "    f.create_dataset('patent_assignee_edge_index', data=patent_assignee_edge_index.values, dtype=np.int64)\n",
    "    f.create_dataset('inventor_patent_edge_index', data=inventor_patent_edge_index.values, dtype=np.int64)\n",
    "    f.create_dataset('patent_inventor_edge_index', data=patent_inventor_edge_index.values, dtype=np.int64)"
   ]
  },
  {
   "cell_type": "markdown",
   "metadata": {},
   "source": [
    "# Instantiate (heterogeneous) data model\n",
    "- https://pytorch-geometric.readthedocs.io/en/latest/tutorial/create_dataset.html\n",
    "- https://pytorch-geometric.readthedocs.io/en/latest/_modules/torch_geometric/datasets/ogb_mag.html"
   ]
  },
  {
   "cell_type": "code",
   "execution_count": null,
   "metadata": {},
   "outputs": [],
   "source": [
    "class PatentHeteroDataset(Dataset):\n",
    "    def __init__(self, root, transform=None, pre_transform=None):\n",
    "        super(PatentHeteroDataset, self).__init__(root, transform, pre_transform)\n",
    "        self.data = None\n",
    "        processed_path = osp.join(self.processed_dir, self.processed_file_names)\n",
    "        if osp.exists(processed_path):\n",
    "            self.data = torch.load(processed_path)\n",
    "        else:\n",
    "            self.process()\n",
    "\n",
    "    @property\n",
    "    def num_classes(self):\n",
    "        return 2\n",
    "\n",
    "    @property\n",
    "    def raw_dir(self):\n",
    "        return '/mnt/hdd01/patentsview/Graph Neural Network for EDV-TEK/raw/'\n",
    "    \n",
    "    @property\n",
    "    def processed_dir(self):\n",
    "        return '/mnt/hdd01/patentsview/Graph Neural Network for EDV-TEK/processed/'\n",
    "\n",
    "    # @property\n",
    "    # def raw_file_names(self):\n",
    "    #     return [\n",
    "    #         'g_patent_embedding.csv',\n",
    "    #         'g_inventor_nodes.csv',\n",
    "    #         'g_assignee_nodes.csv',\n",
    "    #         'patent_edge_index.csv',\n",
    "    #         'assignee_edge_index.csv',\n",
    "    #         'inventor_edge_index.csv'\n",
    "    #     ]\n",
    "\n",
    "    @property\n",
    "    def raw_file_names(self):\n",
    "        return [\n",
    "            'torch_tek_dataset.h5'\n",
    "        ]\n",
    "\n",
    "    @property\n",
    "    def processed_file_names(self):\n",
    "        return 'gnn_tek_data.pt'\n",
    "\n",
    "    def download(self):\n",
    "        pass\n",
    "\n",
    "    # def process(self): # Process for reading from csv using pandas\n",
    "    #     # Initialize HeteroData object\n",
    "    #     data = HeteroData()\n",
    "\n",
    "    #     # Load and process node features\n",
    "    #     # Assuming that the feature columns contain lists or arrays of features\n",
    "    #     g_patent = pd.read_csv(osp.join(self.raw_dir, 'g_patent_embedding.csv'), usecols=['index', 'patent_title_abstract_bert_for_patents_embedding', 'label'])\n",
    "    #     g_inventor_nodes = pd.read_csv(osp.join(self.raw_dir, 'g_inventor_nodes.csv'))\n",
    "    #     g_assignee_nodes = pd.read_csv(osp.join(self.raw_dir, 'g_assignee_nodes.csv'))\n",
    "\n",
    "    #     data['patent'].x = torch.tensor(np.stack(g_patent['patent_title_abstract_bert_for_patents_embedding'].apply(eval).values), dtype=torch.float)\n",
    "    #     data['patent_inventor'].x = torch.tensor(np.stack(g_inventor_nodes['inventor_embedding'].apply(eval).values), dtype=torch.float)\n",
    "    #     data['patent_assignee'].x = torch.tensor(np.stack(g_assignee_nodes['assignee_embedding'].apply(eval).values), dtype=torch.float)\n",
    "\n",
    "    #     # Load and process edge indices\n",
    "    #     patent_edge_index = pd.read_csv(osp.join(self.raw_dir, 'patent_edge_index.csv')).values\n",
    "    #     inventor_edge_index = pd.read_csv(osp.join(self.raw_dir, 'inventor_edge_index.csv')).values\n",
    "    #     assignee_edge_index = pd.read_csv(osp.join(self.raw_dir, 'assignee_edge_index.csv')).values\n",
    "\n",
    "    #     data['patent', 'cites', 'patent'].edge_index = torch.tensor(patent_edge_index, dtype=torch.long).t().contiguous()\n",
    "    #     data['patent_inventor', 'inventor_of', 'patent'].edge_index = torch.tensor(inventor_edge_index, dtype=torch.long).t().contiguous()\n",
    "    #     data['patent_assignee', 'assignee_of', 'patent'].edge_index = torch.tensor(assignee_edge_index, dtype=torch.long).t().contiguous()\n",
    "\n",
    "    #     # Load and process labels\n",
    "    #     data['patent'].y = torch.tensor(g_patent['label'].values, dtype=torch.long)\n",
    "\n",
    "    #     if self.pre_transform is not None:\n",
    "    #         data = self.pre_transform(data)\n",
    "\n",
    "    #     self.data = data  # Save the processed data to self.data\n",
    "    #     torch.save(data, osp.join(self.processed_dir, self.processed_file_names))\n",
    "\n",
    "    def process(self):\n",
    "        # Initialize HeteroData object\n",
    "        data = HeteroData()\n",
    "    \n",
    "        # Open an HDF5 file\n",
    "        with h5py.File(osp.join(self.raw_dir, 'torch_tek_dataset.h5'), 'r') as f:\n",
    "            # Load and process node features\n",
    "            data['patent'].x = torch.tensor(f['g_patent/x'][:], dtype=torch.float)\n",
    "            data['patent'].y = torch.tensor(f['g_patent/y'][:], dtype=torch.long)\n",
    "            data['patent_inventor'].x = torch.tensor(f['g_inventor_nodes/x'][:], dtype=torch.float)\n",
    "            data['patent_assignee'].x = torch.tensor(f['g_assignee_nodes/x'][:], dtype=torch.float)\n",
    "            \n",
    "            # Load and process edge indices\n",
    "            data['patent', 'cites', 'patent'].edge_index = torch.tensor(f['patent_edge_index'][:], dtype=torch.long).t().contiguous()\n",
    "            data['patent_inventor', 'inventor_of', 'patent'].edge_index = torch.tensor(f['inventor_patent_edge_index'][:], dtype=torch.long).t().contiguous()\n",
    "            data['patent_assignee', 'assignee_of', 'patent'].edge_index = torch.tensor(f['assignee_patent_edge_index'][:], dtype=torch.long).t().contiguous()\n",
    "            data['patent', 'has_assignee', 'patent_assignee'].edge_index = torch.tensor(f['patent_assignee_edge_index'][:], dtype=torch.long).t().contiguous()\n",
    "            data['patent', 'has_inventor', 'patent_inventor'].edge_index = torch.tensor(f['patent_inventor_edge_index'][:], dtype=torch.long).t().contiguous()\n",
    "\n",
    "        if self.pre_transform is not None:\n",
    "            data = self.pre_transform(data)\n",
    "\n",
    "        # Create train_mask, val_mask, and test_mask\n",
    "        data['patent'].train_mask = torch.zeros(data['patent'].num_nodes, dtype=torch.bool)\n",
    "        data['patent'].val_mask = torch.zeros(data['patent'].num_nodes, dtype=torch.bool)\n",
    "        data['patent'].test_mask = torch.zeros(data['patent'].num_nodes, dtype=torch.bool)\n",
    "        data['patent'].train_mask[:int(0.8*data['patent'].num_nodes)] = 1\n",
    "        data['patent'].val_mask[int(0.8*data['patent'].num_nodes):int(0.9*data['patent'].num_nodes)] = 1\n",
    "        data['patent'].test_mask[int(0.9*data['patent'].num_nodes):] = 1\n",
    "\n",
    "        # Diagnostic print statements\n",
    "        print(\"Data keys after processing:\", data.keys())\n",
    "        print(\"Node types and their feature shapes:\")\n",
    "        for node_type, node_data in data.node_items():\n",
    "            print(f\"Node type: {node_type}\")\n",
    "            for key, item in node_data.items():\n",
    "                if key == 'x' or key == 'y':\n",
    "                    print(f\"Features ({key}) shape:\", item.size())\n",
    "\n",
    "        print(\"Edge types and their index shapes:\")\n",
    "        for edge_type, edge_data in data.edge_items():\n",
    "            print(f\"Edge type: {edge_type}\")\n",
    "            if 'edge_index' in edge_data:\n",
    "                print(\"Edge index shape:\", edge_data['edge_index'].size())\n",
    "            else:\n",
    "                print(f\"{edge_type} has no edge index.\")\n",
    "        # print(\"Train, validation, and test masks:\")\n",
    "        # print(\"Train mask:\", data['patent'].train_mask)\n",
    "        # print(\"Validation mask:\", data['patent'].val_mask)\n",
    "        # print(\"Test mask:\", data['patent'].test_mask)\n",
    "        \n",
    "\n",
    "        self.data = data  # Save the processed data to self.data\n",
    "        torch.save(data, osp.join(self.processed_dir, self.processed_file_names))\n",
    "\n",
    "    def len(self):\n",
    "        return 1\n",
    "\n",
    "    def get(self, idx):\n",
    "        return self.data"
   ]
  },
  {
   "cell_type": "code",
   "execution_count": null,
   "metadata": {},
   "outputs": [],
   "source": [
    "dataset = PatentHeteroDataset(root='/mnt/hdd01/patentsview/Graph Neural Network for EDV-TEK/')"
   ]
  },
  {
   "cell_type": "code",
   "execution_count": null,
   "metadata": {},
   "outputs": [],
   "source": [
    "PatentDataset = dataset[0]"
   ]
  },
  {
   "cell_type": "code",
   "execution_count": null,
   "metadata": {},
   "outputs": [],
   "source": [
    "for node_type in PatentDataset.node_types:\n",
    "    print(f\"Node type: {node_type}\")\n",
    "    print(f\"Features (x) shape: {PatentDataset[node_type].x.shape}\")\n",
    "    if 'y' in PatentDataset[node_type]:\n",
    "        print(f\"Labels (y) shape: {PatentDataset[node_type].y.shape}\")\n",
    "\n",
    "for edge_type in PatentDataset.edge_types:\n",
    "    print(f\"Edge type: {edge_type}\")\n",
    "    print(f\"Edge index shape: {PatentDataset[edge_type].edge_index.shape}\")"
   ]
  },
  {
   "cell_type": "markdown",
   "metadata": {},
   "source": [
    "# Build PyTorch Geoemtric Model"
   ]
  },
  {
   "cell_type": "code",
   "execution_count": null,
   "metadata": {},
   "outputs": [],
   "source": [
    "## Helper functions for visualization\n",
    "def visualize_graph(G, color):\n",
    "    plt.figure(figsize=(7,7))\n",
    "    plt.xticks([])\n",
    "    plt.yticks([])\n",
    "    nx.draw_networkx(G, pos=nx.spring_layout(G, seed=42), with_labels=False,\n",
    "                     node_color=color, cmap=\"Set2\")\n",
    "    plt.show()\n",
    "\n",
    "\n",
    "def visualize_embedding(h, color, epoch=None, loss=None):\n",
    "    plt.figure(figsize=(7,7))\n",
    "    plt.xticks([])\n",
    "    plt.yticks([])\n",
    "    h = h.detach().cpu().numpy()\n",
    "    plt.scatter(h[:, 0], h[:, 1], s=140, c=color, cmap=\"Set2\")\n",
    "    if epoch is not None and loss is not None:\n",
    "        plt.xlabel(f'Epoch: {epoch}, Loss: {loss.item():.4f}', fontsize=16)\n",
    "    plt.show()"
   ]
  },
  {
   "cell_type": "code",
   "execution_count": null,
   "metadata": {},
   "outputs": [],
   "source": [
    "G = to_networkx(PatentDataset, to_undirected=False)"
   ]
  },
  {
   "cell_type": "markdown",
   "metadata": {},
   "source": [
    "## Define NN architecture"
   ]
  },
  {
   "cell_type": "markdown",
   "metadata": {},
   "source": [
    "- https://pytorch-geometric.readthedocs.io/en/latest/generated/torch_geometric.nn.conv.HeteroConv.html#torch_geometric.nn.conv.HeteroConv\n",
    "- https://github.com/pyg-team/pytorch_geometric/issues/4657\n",
    "- https://pytorch-geometric.readthedocs.io/en/latest/modules/loader.html#torch_geometric.loader.NeighborLoader"
   ]
  },
  {
   "cell_type": "code",
   "execution_count": 1,
   "metadata": {},
   "outputs": [],
   "source": [
    "# Sanity Check -> check embeddings of nodes if they changed after training"
   ]
  },
  {
   "cell_type": "code",
   "execution_count": null,
   "metadata": {},
   "outputs": [],
   "source": [
    "class HeteroGCN(MessagePassing):\n",
    "    def __init__(self, hidden_channels, num_node_features_dict, num_classes):\n",
    "        super(HeteroGCN, self).__init__()\n",
    "        torch.manual_seed(42)\n",
    "        \n",
    "        # Define a separate SAGEConv for each edge type with correct input feature sizes\n",
    "        self.conv1 = HeteroConv({\n",
    "            ('patent', 'cites', 'patent'): SAGEConv(num_node_features_dict['patent'], hidden_channels, add_self_loops=True),\n",
    "            ('patent_inventor', 'inventor_of', 'patent'): SAGEConv(num_node_features_dict['patent_inventor'], hidden_channels, add_self_loops=True),\n",
    "            ('patent_assignee', 'assignee_of', 'patent'): SAGEConv(num_node_features_dict['patent_assignee'], hidden_channels, add_self_loops=True),\n",
    "            ('patent', 'has_assignee', 'patent_assignee'): SAGEConv(num_node_features_dict['patent'], hidden_channels, add_self_loops=True),\n",
    "            ('patent', 'has_inventor', 'patent_inventor'): SAGEConv(num_node_features_dict['patent'], hidden_channels, add_self_loops=True)\n",
    "        }, aggr='mean')\n",
    "\n",
    "        self.conv2 = HeteroConv({\n",
    "            ('patent', 'cites', 'patent'): SAGEConv(hidden_channels, hidden_channels, add_self_loops=True),\n",
    "            ('patent_inventor', 'inventor_of', 'patent'): SAGEConv(hidden_channels, hidden_channels, add_self_loops=True),\n",
    "            ('patent_assignee', 'assignee_of', 'patent'): SAGEConv(hidden_channels, hidden_channels, add_self_loops=True),\n",
    "            ('patent', 'has_assignee', 'patent_assignee'): SAGEConv(hidden_channels, hidden_channels, add_self_loops=True),\n",
    "            ('patent', 'has_inventor', 'patent_inventor'): SAGEConv(hidden_channels, hidden_channels, add_self_loops=True)\n",
    "        }, aggr='mean')\n",
    "\n",
    "        # Linear layer for classifying patents\n",
    "        self.lin = torch.nn.Linear(hidden_channels, num_classes)\n",
    "\n",
    "    def forward(self, data):\n",
    "        x_dict, edge_index_dict = data.x_dict, data.edge_index_dict\n",
    "\n",
    "        # First convolution layer\n",
    "        x_dict = self.conv1(x_dict, edge_index_dict)\n",
    "        x_dict = {key: x.relu() for key, x in x_dict.items()}\n",
    "\n",
    "        # Second convolution layer\n",
    "        x_dict = self.conv2(x_dict, edge_index_dict)\n",
    "        x_dict = {key: x.relu() for key, x in x_dict.items()}\n",
    "\n",
    "        # Only use the 'patent' node embeddings for the final prediction\n",
    "        out = self.lin(x_dict['patent'])\n",
    "        return out"
   ]
  },
  {
   "cell_type": "code",
   "execution_count": null,
   "metadata": {},
   "outputs": [],
   "source": [
    "class HeteroGAT(torch.nn.Module):\n",
    "    def __init__(self, hidden_channels, num_node_features_dict, num_classes):\n",
    "        super(HeteroGAT, self).__init__()\n",
    "        torch.manual_seed(42)\n",
    "\n",
    "        self.conv1 = HeteroConv({\n",
    "            edge_type: GATConv(num_node_features_dict[src_node_type], hidden_channels, add_self_loops=True)\n",
    "            for edge_type, (src_node_type, _, dst_node_type) in\n",
    "            [('patent', 'cites', 'patent'),\n",
    "             ('patent_inventor', 'inventor_of', 'patent'),\n",
    "             ('patent_assignee', 'assignee_of', 'patent'),\n",
    "             ('patent', 'has_assignee', 'patent_assignee'),\n",
    "             ('patent', 'has_inventor', 'patent_inventor')]\n",
    "        }, aggr='mean')\n",
    "\n",
    "        self.conv2 = HeteroConv({\n",
    "            edge_type: GATConv(hidden_channels, hidden_channels, add_self_loops=True)\n",
    "            for edge_type in self.conv1.convs\n",
    "        }, aggr='mean')\n",
    "\n",
    "        self.lin = torch.nn.Linear(hidden_channels, num_classes)\n",
    "\n",
    "    def forward(self, data):\n",
    "        x_dict, edge_index_dict = data.x_dict, data.edge_index_dict\n",
    "\n",
    "        x_dict = self.conv1(x_dict, edge_index_dict)\n",
    "        x_dict = {key: x.relu() for key, x in x_dict.items()}\n",
    "        \n",
    "        x_dict = self.conv2(x_dict, edge_index_dict)\n",
    "        x_dict = {key: x.relu() for key, x in x_dict.items()}\n",
    "        \n",
    "        out = self.lin(x_dict['patent'])\n",
    "        return out"
   ]
  },
  {
   "cell_type": "code",
   "execution_count": null,
   "metadata": {},
   "outputs": [],
   "source": [
    "class HeteroMetaPathGNN(torch.nn.Module):\n",
    "    def __init__(self, hidden_channels, num_node_features_dict, num_classes, metapath_list):\n",
    "        super(HeteroMetaPathGNN, self).__init__()\n",
    "        torch.manual_seed(42)\n",
    "\n",
    "        # Assuming MetaPath2Vec embeddings are precomputed\n",
    "        self.embedding = nn.Embedding(num_embeddings=num_nodes, embedding_dim=hidden_channels)\n",
    "\n",
    "        self.conv1 = HeteroConv({\n",
    "            edge_type: SAGEConv(hidden_channels, hidden_channels, add_self_loops=True)\n",
    "            for edge_type in metapath_list\n",
    "        }, aggr='mean')\n",
    "\n",
    "        self.conv2 = HeteroConv({\n",
    "            edge_type: SAGEConv(hidden_channels, hidden_channels, add_self_loops=True)\n",
    "            for edge_type in self.conv1.convs\n",
    "        }, aggr='mean')\n",
    "\n",
    "        self.lin = torch.nn.Linear(hidden_channels, num_classes)\n",
    "\n",
    "    def forward(self, data, metapath_indices):\n",
    "        # metapath_indices are indices for nodes following the metapath\n",
    "        x_dict = {node_type: self.embedding(metapath_indices[node_type]) for node_type in metapath_indices}\n",
    "\n",
    "        x_dict = self.conv1(x_dict, data.edge_index_dict)\n",
    "        x_dict = {key: x.relu() for key, x in x_dict.items()}\n",
    "        \n",
    "        x_dict = self.conv2(x_dict, data.edge_index_dict)\n",
    "        x_dict = {key: x.relu() for key, x in x_dict.items()}\n",
    "        \n",
    "        out = self.lin(x_dict['patent'])\n",
    "        return out"
   ]
  },
  {
   "cell_type": "code",
   "execution_count": null,
   "metadata": {},
   "outputs": [],
   "source": [
    "num_node_features_dict = {'patent': 1024, 'patent_inventor': 1024, 'patent_assignee': 1024}\n",
    "num_classes = 2\n",
    "\n",
    "model = HeteroGCN(hidden_channels=64, num_node_features_dict=num_node_features_dict, num_classes=num_classes)\n",
    "optimizer = torch.optim.Adam(model.parameters(), lr=0.01)\n",
    "criterion = torch.nn.CrossEntropyLoss()"
   ]
  },
  {
   "cell_type": "code",
   "execution_count": null,
   "metadata": {},
   "outputs": [],
   "source": [
    "model = model.to(device)\n",
    "PatentDataset = PatentDataset.to(device)\n",
    "train_loader = NeighborLoader(PatentDataset, num_neighbors=[1000], batch_size=64, shuffle=True, input_nodes=('patent', PatentDataset['patent'].train_mask))\n",
    "test_loader = NeighborLoader(PatentDataset, num_neighbors=[1000], batch_size=64, shuffle=False, input_nodes=('patent', PatentDataset['patent'].test_mask))"
   ]
  },
  {
   "cell_type": "markdown",
   "metadata": {},
   "source": [
    "# Train model"
   ]
  },
  {
   "cell_type": "code",
   "execution_count": null,
   "metadata": {},
   "outputs": [],
   "source": [
    "def train():\n",
    "    model.train()\n",
    "    total_loss = 0\n",
    "    total_batches = 0\n",
    "    \n",
    "    for batch in train_loader:\n",
    "        batch = batch.to(device)\n",
    "        optimizer.zero_grad()\n",
    "        \n",
    "        try:\n",
    "            out = model(batch)\n",
    "            loss = criterion(out[batch['patent'].train_mask], batch['patent'].y[batch['patent'].train_mask])\n",
    "            loss.backward()\n",
    "            optimizer.step()\n",
    "            \n",
    "            total_loss += loss.item()\n",
    "            total_batches += 1\n",
    "        except Exception as e:\n",
    "            print(\"Error during training:\", e)\n",
    "            raise\n",
    "            \n",
    "    return total_loss / total_batches if total_batches > 0 else 0"
   ]
  },
  {
   "cell_type": "code",
   "execution_count": null,
   "metadata": {},
   "outputs": [],
   "source": [
    "def test():\n",
    "    model.eval()\n",
    "    correct = 0\n",
    "    total = 0\n",
    "\n",
    "    for batch in test_loader:\n",
    "        batch = batch.to(device)\n",
    "        with torch.no_grad():\n",
    "            out = model(batch)\n",
    "            pred = out.argmax(dim=1)\n",
    "            \n",
    "            # Assuming batch['patent'].test_mask is a boolean mask\n",
    "            test_mask = batch['patent'].test_mask\n",
    "            test_labels = batch['patent'].y\n",
    "            \n",
    "            # Update correct and total counts\n",
    "            correct += int((pred[test_mask] == test_labels[test_mask]).sum())\n",
    "            total += int(test_mask.sum())\n",
    "\n",
    "    test_acc = correct / total\n",
    "    return test_acc\n"
   ]
  },
  {
   "cell_type": "code",
   "execution_count": null,
   "metadata": {},
   "outputs": [],
   "source": [
    "num_epochs = 100\n",
    "\n",
    "for epoch in range(1, num_epochs + 1):\n",
    "    loss = train()\n",
    "    test_acc = test()\n",
    "    print(f'Epoch: {epoch:03d}, Loss: {loss:.4f}, Test Acc: {test_acc:.4f}')"
   ]
  }
 ],
 "metadata": {
  "kernelspec": {
   "display_name": "venv",
   "language": "python",
   "name": "python3"
  },
  "language_info": {
   "codemirror_mode": {
    "name": "ipython",
    "version": 3
   },
   "file_extension": ".py",
   "mimetype": "text/x-python",
   "name": "python",
   "nbconvert_exporter": "python",
   "pygments_lexer": "ipython3",
   "version": "3.10.0"
  }
 },
 "nbformat": 4,
 "nbformat_minor": 2
}
