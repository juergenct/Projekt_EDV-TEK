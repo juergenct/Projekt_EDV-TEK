{
 "cells": [
  {
   "cell_type": "code",
   "execution_count": 1,
   "metadata": {},
   "outputs": [
    {
     "name": "stderr",
     "output_type": "stream",
     "text": [
      "/home/thiesen/Documents/Projekt_EDV-TEK/venv/lib/python3.10/site-packages/tqdm/auto.py:21: TqdmWarning: IProgress not found. Please update jupyter and ipywidgets. See https://ipywidgets.readthedocs.io/en/stable/user_install.html\n",
      "  from .autonotebook import tqdm as notebook_tqdm\n"
     ]
    }
   ],
   "source": [
    "import re\n",
    "import torch\n",
    "import spacy\n",
    "import nltk\n",
    "import pandas as pd\n",
    "import numpy as np\n",
    "import torch_geometric\n",
    "import networkx as nx\n",
    "import matplotlib.pyplot as plt\n",
    "from torchtext.data.utils import get_tokenizer\n",
    "from torchtext.vocab import build_vocab_from_iterator\n",
    "from torch_geometric.utils import to_networkx\n",
    "from torch_geometric.nn import GCNConv, GATConv\n",
    "from tqdm import tqdm\n",
    "from collections import Counter\n",
    "tqdm.pandas()\n",
    "\n",
    "spacy_en = spacy.load('en_core_web_sm')\n",
    "stop_words = nltk.corpus.stopwords.words('english')\n",
    "device = torch.device(\"cuda\" if torch.cuda.is_available() else \"cpu\")"
   ]
  },
  {
   "cell_type": "markdown",
   "metadata": {},
   "source": [
    "# Load and preprocess data"
   ]
  },
  {
   "cell_type": "code",
   "execution_count": 2,
   "metadata": {},
   "outputs": [],
   "source": [
    "df_cleantech = pd.read_json('/mnt/hdd01/PATSTAT Working Directory/PATSTAT/df_patstat_cleantech_granted_abstract_metadata.json')\n",
    "df_cleantech['label'] = 1\n",
    "df_non_cleantech = pd.read_json('/mnt/hdd01/PATSTAT Working Directory/PATSTAT/df_patstat_non_cleantech_granted_abstract_metadata.json')\n",
    "df_non_cleantech['label'] = 0\n",
    "df_cleantech = df_cleantech[df_cleantech['appln_abstract'] != '']\n",
    "df_non_cleantech = df_non_cleantech[df_non_cleantech['appln_abstract'] != '']\n",
    "df_cleantech.dropna(inplace=True)\n",
    "df_non_cleantech.dropna(inplace=True)"
   ]
  },
  {
   "cell_type": "code",
   "execution_count": 3,
   "metadata": {},
   "outputs": [],
   "source": [
    "# df = pd.concat([df_cleantech, df_non_cleantech], ignore_index=True)\n",
    "df = pd.concat([df_cleantech.sample(10, random_state=42), df_non_cleantech.sample(10, random_state=42)], ignore_index=True)\n",
    "df = df[['appln_id', 'appln_abstract', 'label']]"
   ]
  },
  {
   "cell_type": "markdown",
   "metadata": {},
   "source": [
    "## Data Cleaning"
   ]
  },
  {
   "cell_type": "code",
   "execution_count": 4,
   "metadata": {},
   "outputs": [],
   "source": [
    "def preprocess_text(text):\n",
    "    text = text.lower()\n",
    "    text = re.sub(r'https?://\\S+|www\\.\\S+', '', text)\n",
    "    text = re.sub(r'\\S+@\\S+', '', text)\n",
    "    text = re.sub(r'[^A-Za-z\\s]', '', text)\n",
    "    text = re.sub(r'\\s+', ' ', text).strip()\n",
    "    text = ' '.join([word for word in text.split() if word not in stop_words])\n",
    "    return text"
   ]
  },
  {
   "cell_type": "code",
   "execution_count": 5,
   "metadata": {},
   "outputs": [
    {
     "name": "stderr",
     "output_type": "stream",
     "text": [
      "100%|██████████| 20/20 [00:00<00:00, 3021.83it/s]\n"
     ]
    }
   ],
   "source": [
    "df['appln_abstract'] = df['appln_abstract'].astype(str)\n",
    "df['appln_abstract'] = df['appln_abstract'].progress_apply(preprocess_text)"
   ]
  },
  {
   "cell_type": "markdown",
   "metadata": {},
   "source": [
    "## Tokenization"
   ]
  },
  {
   "cell_type": "code",
   "execution_count": 6,
   "metadata": {},
   "outputs": [
    {
     "name": "stderr",
     "output_type": "stream",
     "text": [
      "100%|██████████| 20/20 [00:00<00:00, 890.12it/s]\n"
     ]
    }
   ],
   "source": [
    "tokenizer = get_tokenizer('spacy', language='en_core_web_sm')\n",
    "df['appln_abstract_tokens'] = df['appln_abstract'].progress_apply(lambda x: tokenizer(x))"
   ]
  },
  {
   "cell_type": "markdown",
   "metadata": {},
   "source": [
    "## Build Vocabulary"
   ]
  },
  {
   "cell_type": "code",
   "execution_count": 7,
   "metadata": {},
   "outputs": [
    {
     "name": "stderr",
     "output_type": "stream",
     "text": [
      "100%|██████████| 20/20 [00:00<00:00, 54648.91it/s]\n"
     ]
    }
   ],
   "source": [
    "vocab = build_vocab_from_iterator(df['appln_abstract_tokens'].progress_apply(lambda x: x), specials=[\"<unk>\"])\n",
    "vocab.set_default_index(vocab[\"<unk>\"])"
   ]
  },
  {
   "cell_type": "code",
   "execution_count": 8,
   "metadata": {},
   "outputs": [],
   "source": [
    "text_pipeline = lambda x: [vocab[token] for token in tokenizer(x)]\n",
    "tokenized_data = [text_pipeline(text) for text in df['appln_abstract']]"
   ]
  },
  {
   "cell_type": "markdown",
   "metadata": {},
   "source": [
    "# PyTorch Geomtric Data Preparation"
   ]
  },
  {
   "cell_type": "code",
   "execution_count": 16,
   "metadata": {},
   "outputs": [],
   "source": [
    "## Helper functions for visualization\n",
    "def visualize_graph(G, color):\n",
    "    plt.figure(figsize=(7,7))\n",
    "    plt.xticks([])\n",
    "    plt.yticks([])\n",
    "    nx.draw_networkx(G, pos=nx.spring_layout(G, seed=42), with_labels=False,\n",
    "                     node_color=color, cmap=\"Set2\")\n",
    "    plt.show()\n",
    "\n",
    "\n",
    "def visualize_embedding(h, color, epoch=None, loss=None):\n",
    "    plt.figure(figsize=(7,7))\n",
    "    plt.xticks([])\n",
    "    plt.yticks([])\n",
    "    h = h.detach().cpu().numpy()\n",
    "    plt.scatter(h[:, 0], h[:, 1], s=140, c=color, cmap=\"Set2\")\n",
    "    if epoch is not None and loss is not None:\n",
    "        plt.xlabel(f'Epoch: {epoch}, Loss: {loss.item():.4f}', fontsize=16)\n",
    "    plt.show()"
   ]
  },
  {
   "cell_type": "markdown",
   "metadata": {},
   "source": [
    "**Source**\n",
    "- https://colab.research.google.com/drive/1h3-vJGRVloF5zStxL5I0rSy4ZUPNsjy8?usp=sharing#scrollTo=qoW2Z7P70LNQ\n",
    "- https://pytorch-geometric.readthedocs.io/en/latest/tutorial/create_dataset.html\n",
    "- https://pytorch-geometric.readthedocs.io/en/latest/get_started/introduction.html#data-handling-of-graphs\n",
    "- For creating larger, custom datasets: https://www.youtube.com/watch?v=QLIkOtKS4os"
   ]
  },
  {
   "cell_type": "markdown",
   "metadata": {},
   "source": [
    "## Node Features"
   ]
  },
  {
   "cell_type": "code",
   "execution_count": 9,
   "metadata": {},
   "outputs": [],
   "source": [
    "feature_matrix = torch.zeros(len(tokenized_data), len(vocab), dtype=torch.int64)\n",
    "for i, doc in enumerate(tokenized_data):\n",
    "    token_counts = Counter(doc)\n",
    "    for token, count in token_counts.items():\n",
    "        feature_matrix[i, token] = count"
   ]
  },
  {
   "cell_type": "markdown",
   "metadata": {},
   "source": [
    "## Target Vector"
   ]
  },
  {
   "cell_type": "code",
   "execution_count": 10,
   "metadata": {},
   "outputs": [],
   "source": [
    "target = torch.tensor(df['label'].values, dtype=torch.long)"
   ]
  },
  {
   "cell_type": "markdown",
   "metadata": {},
   "source": [
    "## Edge Index"
   ]
  },
  {
   "cell_type": "code",
   "execution_count": 11,
   "metadata": {},
   "outputs": [],
   "source": [
    "df_array = np.array(df)\n",
    "index = np.array(df['appln_id'])\n",
    "labels = np.array(df['label'])\n",
    "indices_label_1 = np.where(labels == 1)[0]\n",
    "indices_label_0 = np.where(labels == 0)[0]\n",
    "edges_label_1 = np.array(np.meshgrid(indices_label_1, indices_label_1)).T.reshape(-1, 2)\n",
    "edges_label_0 = np.array(np.meshgrid(indices_label_0, indices_label_0)).T.reshape(-1, 2)\n",
    "\n",
    "edges = np.concatenate((edges_label_1, edges_label_0), axis=0)\n",
    "edges = edges[edges[:, 0] != edges[:, 1]]\n",
    "\n",
    "bidirectional_edges = np.concatenate((edges, edges[:, [1, 0]]), axis=0)\n",
    "edge_index = np.unique(bidirectional_edges, axis=0)\n",
    "edge_index_tensor = torch.from_numpy(edge_index)"
   ]
  },
  {
   "cell_type": "code",
   "execution_count": 38,
   "metadata": {},
   "outputs": [],
   "source": [
    "num_nodes = len(df)\n",
    "num_train = int(num_nodes * 0.8)\n",
    "num_val = int(num_nodes * 0.1)\n",
    "num_test = num_nodes - num_train - num_val\n",
    "\n",
    "# Create masks with the correct size\n",
    "train_mask = torch.zeros(num_nodes, dtype=torch.bool)\n",
    "val_mask = torch.zeros(num_nodes, dtype=torch.bool)\n",
    "test_mask = torch.zeros(num_nodes, dtype=torch.bool)\n",
    "\n",
    "# Assign True for the indices that belong to each set\n",
    "train_mask[:num_train] = True\n",
    "val_mask[num_train:num_train + num_val] = True\n",
    "test_mask[num_train + num_val:] = True\n",
    "\n",
    "# Create your data object\n",
    "data = torch_geometric.data.Data(\n",
    "    x=feature_matrix,\n",
    "    edge_index=edge_index_tensor.t().contiguous(),\n",
    "    y=target,\n",
    "    num_classes=2,\n",
    "    train_mask=train_mask,\n",
    "    val_mask=val_mask,\n",
    "    test_mask=test_mask\n",
    ")"
   ]
  },
  {
   "cell_type": "code",
   "execution_count": 40,
   "metadata": {},
   "outputs": [],
   "source": [
    "G = to_networkx(data, to_undirected=True)\n"
   ]
  },
  {
   "cell_type": "code",
   "execution_count": 41,
   "metadata": {},
   "outputs": [
    {
     "data": {
      "image/png": "[encoded data removed]",
      "text/plain": [
       "<Figure size 700x700 with 1 Axes>"
      ]
     },
     "metadata": {},
     "output_type": "display_data"
    }
   ],
   "source": [
    "visualize_graph(G, color=data.y)"
   ]
  },
  {
   "cell_type": "markdown",
   "metadata": {},
   "source": [
    "# Define Model"
   ]
  },
  {
   "cell_type": "code",
   "execution_count": 42,
   "metadata": {},
   "outputs": [],
   "source": [
    "class GCN(torch.nn.Module):\n",
    "    def __init__(self, hidden_channels):\n",
    "        super(GCN, self).__init__()\n",
    "        torch.manual_seed(42)\n",
    "        self.conv1 = GCNConv(data.num_features, hidden_channels)\n",
    "        self.conv2 = GCNConv(hidden_channels, data.num_classes)\n",
    "\n",
    "    def forward(self, x, edge_index):\n",
    "        x, edge_index = data.x.float(), data.edge_index.long()\n",
    "        x = self.conv1(x, edge_index)\n",
    "        x = torch.relu(x)\n",
    "        x = self.conv2(x, edge_index)\n",
    "        return x"
   ]
  },
  {
   "cell_type": "code",
   "execution_count": 43,
   "metadata": {},
   "outputs": [],
   "source": [
    "model = GCN(hidden_channels=16)"
   ]
  },
  {
   "cell_type": "markdown",
   "metadata": {},
   "source": [
    "# Train Model"
   ]
  },
  {
   "cell_type": "code",
   "execution_count": 44,
   "metadata": {},
   "outputs": [
    {
     "name": "stdout",
     "output_type": "stream",
     "text": [
      "Epoch: 001, Loss: 0.9251\n",
      "Epoch: 002, Loss: 0.1914\n",
      "Epoch: 003, Loss: 0.0521\n",
      "Epoch: 004, Loss: 0.0188\n",
      "Epoch: 005, Loss: 0.0074\n",
      "Epoch: 006, Loss: 0.0032\n",
      "Epoch: 007, Loss: 0.0015\n",
      "Epoch: 008, Loss: 0.0008\n",
      "Epoch: 009, Loss: 0.0004\n",
      "Epoch: 010, Loss: 0.0002\n",
      "Epoch: 011, Loss: 0.0001\n",
      "Epoch: 012, Loss: 0.0001\n",
      "Epoch: 013, Loss: 0.0001\n",
      "Epoch: 014, Loss: 0.0000\n",
      "Epoch: 015, Loss: 0.0000\n",
      "Epoch: 016, Loss: 0.0000\n",
      "Epoch: 017, Loss: 0.0000\n",
      "Epoch: 018, Loss: 0.0000\n",
      "Epoch: 019, Loss: 0.0000\n",
      "Epoch: 020, Loss: 0.0000\n",
      "Epoch: 021, Loss: 0.0000\n",
      "Epoch: 022, Loss: 0.0000\n",
      "Epoch: 023, Loss: 0.0000\n",
      "Epoch: 024, Loss: 0.0000\n",
      "Epoch: 025, Loss: 0.0000\n",
      "Epoch: 026, Loss: 0.0000\n",
      "Epoch: 027, Loss: 0.0000\n",
      "Epoch: 028, Loss: 0.0000\n",
      "Epoch: 029, Loss: 0.0000\n",
      "Epoch: 030, Loss: 0.0000\n",
      "Epoch: 031, Loss: 0.0000\n",
      "Epoch: 032, Loss: 0.0000\n",
      "Epoch: 033, Loss: 0.0000\n",
      "Epoch: 034, Loss: 0.0000\n",
      "Epoch: 035, Loss: 0.0000\n",
      "Epoch: 036, Loss: 0.0000\n",
      "Epoch: 037, Loss: 0.0000\n",
      "Epoch: 038, Loss: 0.0000\n",
      "Epoch: 039, Loss: 0.0000\n",
      "Epoch: 040, Loss: 0.0000\n",
      "Epoch: 041, Loss: 0.0000\n",
      "Epoch: 042, Loss: 0.0000\n",
      "Epoch: 043, Loss: 0.0000\n",
      "Epoch: 044, Loss: 0.0000\n",
      "Epoch: 045, Loss: 0.0000\n",
      "Epoch: 046, Loss: 0.0000\n",
      "Epoch: 047, Loss: 0.0000\n",
      "Epoch: 048, Loss: 0.0000\n",
      "Epoch: 049, Loss: 0.0000\n",
      "Epoch: 050, Loss: 0.0000\n",
      "Epoch: 051, Loss: 0.0000\n",
      "Epoch: 052, Loss: 0.0000\n",
      "Epoch: 053, Loss: 0.0000\n",
      "Epoch: 054, Loss: 0.0000\n",
      "Epoch: 055, Loss: 0.0000\n",
      "Epoch: 056, Loss: 0.0000\n",
      "Epoch: 057, Loss: 0.0000\n",
      "Epoch: 058, Loss: 0.0000\n",
      "Epoch: 059, Loss: 0.0000\n",
      "Epoch: 060, Loss: 0.0000\n",
      "Epoch: 061, Loss: 0.0000\n",
      "Epoch: 062, Loss: 0.0000\n",
      "Epoch: 063, Loss: 0.0000\n",
      "Epoch: 064, Loss: 0.0000\n",
      "Epoch: 065, Loss: 0.0000\n",
      "Epoch: 066, Loss: 0.0000\n",
      "Epoch: 067, Loss: 0.0000\n",
      "Epoch: 068, Loss: 0.0000\n",
      "Epoch: 069, Loss: 0.0000\n",
      "Epoch: 070, Loss: 0.0000\n",
      "Epoch: 071, Loss: 0.0000\n",
      "Epoch: 072, Loss: 0.0000\n",
      "Epoch: 073, Loss: 0.0000\n",
      "Epoch: 074, Loss: 0.0000\n",
      "Epoch: 075, Loss: 0.0000\n",
      "Epoch: 076, Loss: 0.0000\n",
      "Epoch: 077, Loss: 0.0000\n",
      "Epoch: 078, Loss: 0.0000\n",
      "Epoch: 079, Loss: 0.0000\n",
      "Epoch: 080, Loss: 0.0000\n",
      "Epoch: 081, Loss: 0.0000\n",
      "Epoch: 082, Loss: 0.0000\n",
      "Epoch: 083, Loss: 0.0000\n",
      "Epoch: 084, Loss: 0.0000\n",
      "Epoch: 085, Loss: 0.0000\n",
      "Epoch: 086, Loss: 0.0000\n",
      "Epoch: 087, Loss: 0.0000\n",
      "Epoch: 088, Loss: 0.0000\n",
      "Epoch: 089, Loss: 0.0000\n",
      "Epoch: 090, Loss: 0.0000\n",
      "Epoch: 091, Loss: 0.0000\n",
      "Epoch: 092, Loss: 0.0000\n",
      "Epoch: 093, Loss: 0.0000\n",
      "Epoch: 094, Loss: 0.0000\n",
      "Epoch: 095, Loss: 0.0000\n",
      "Epoch: 096, Loss: 0.0000\n",
      "Epoch: 097, Loss: 0.0000\n",
      "Epoch: 098, Loss: 0.0000\n",
      "Epoch: 099, Loss: 0.0000\n",
      "Epoch: 100, Loss: 0.0000\n"
     ]
    }
   ],
   "source": [
    "optimizer = torch.optim.Adam(model.parameters(), lr=0.01, weight_decay=5e-4)\n",
    "criterion = torch.nn.CrossEntropyLoss()\n",
    "\n",
    "def train():\n",
    "      model.train()\n",
    "      optimizer.zero_grad()  # Clear gradients.\n",
    "      out = model(data.x, data.edge_index)  # Perform a single forward pass.\n",
    "      loss = criterion(out[data.train_mask], data.y[data.train_mask])  # Compute the loss solely based on the training nodes.\n",
    "      loss.backward()  # Derive gradients.\n",
    "      optimizer.step()  # Update parameters based on gradients.\n",
    "      return loss\n",
    "\n",
    "def test():\n",
    "      model.eval()\n",
    "      out = model(data.x, data.edge_index)\n",
    "      pred = out.argmax(dim=1)  # Use the class with highest probability.\n",
    "      test_correct = pred[data.test_mask] == data.y[data.test_mask]  # Check against ground-truth labels.\n",
    "      test_acc = int(test_correct.sum()) / int(data.test_mask.sum())  # Derive ratio of correct predictions.\n",
    "      return test_acc\n",
    "\n",
    "\n",
    "for epoch in range(1, 101):\n",
    "    loss = train()\n",
    "    print(f'Epoch: {epoch:03d}, Loss: {loss:.4f}')"
   ]
  }
 ],
 "metadata": {
  "kernelspec": {
   "display_name": "venv",
   "language": "python",
   "name": "python3"
  },
  "language_info": {
   "codemirror_mode": {
    "name": "ipython",
    "version": 3
   },
   "file_extension": ".py",
   "mimetype": "text/x-python",
   "name": "python",
   "nbconvert_exporter": "python",
   "pygments_lexer": "ipython3",
   "version": "3.10.0"
  }
 },
 "nbformat": 4,
 "nbformat_minor": 2
}
