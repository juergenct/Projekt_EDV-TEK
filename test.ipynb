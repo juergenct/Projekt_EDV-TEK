{
 "cells": [
  {
   "cell_type": "code",
   "execution_count": 15,
   "id": "b3ec0dfb",
   "metadata": {},
   "outputs": [],
   "source": [
    "import pandas as pd\n",
    "import h5py"
   ]
  },
  {
   "cell_type": "code",
   "execution_count": 2,
   "id": "0258dc22",
   "metadata": {},
   "outputs": [],
   "source": [
    "base_df = pd.read_parquet('/home/thiesen/Documents/Projekt_EDV-TEK/AP 3 - Diffusion von TEKs/edv_tek_cleantech_patstat_diffusion.parquet')\n",
    "novelty_df = pd.read_csv('/home/thiesen/Documents/Projekt_EDV-TEK/AP 3 - Diffusion von TEKs/edv_tek_diffusion_patent_novelty_scores.csv')"
   ]
  },
  {
   "cell_type": "code",
   "execution_count": 21,
   "id": "a82586d0",
   "metadata": {},
   "outputs": [
    {
     "data": {
      "text/plain": [
       "(770168, 318104)"
      ]
     },
     "execution_count": 21,
     "metadata": {},
     "output_type": "execute_result"
    }
   ],
   "source": [
    "len(base_df), len(novelty_df)"
   ]
  },
  {
   "cell_type": "code",
   "execution_count": 16,
   "id": "af0e3f05",
   "metadata": {},
   "outputs": [],
   "source": [
    "gnn_emergence_h5 = h5py.File('/mnt/hdd02/Projekt_EDV_TEK/gnn_dataset_emergence/edv_tek_emergence_gnn_dataset.h5', 'r')"
   ]
  },
  {
   "cell_type": "code",
   "execution_count": 18,
   "id": "e14b9eff",
   "metadata": {},
   "outputs": [
    {
     "data": {
      "text/plain": [
       "<KeysViewHDF5 ['paper_citations', 'paper_embeddings', 'paper_oaid', 'patent_appln_id', 'patent_citations', 'patent_embeddings', 'patent_paper_citations', 'patent_paper_pairs']>"
      ]
     },
     "execution_count": 18,
     "metadata": {},
     "output_type": "execute_result"
    }
   ],
   "source": [
    "gnn_emergence_h5.keys()"
   ]
  },
  {
   "cell_type": "code",
   "execution_count": 19,
   "id": "611bd243",
   "metadata": {},
   "outputs": [
    {
     "name": "stdout",
     "output_type": "stream",
     "text": [
      "paper_citations: 9172502\n",
      "paper_embeddings: 1137787\n",
      "paper_oaid: 1137787\n",
      "patent_appln_id: 1642111\n",
      "patent_citations: 235709139\n",
      "patent_embeddings: 1642111\n",
      "patent_paper_citations: 5586603\n",
      "patent_paper_pairs: 97928\n"
     ]
    }
   ],
   "source": [
    "# Print the length of each keys in the h5 file\n",
    "for key in gnn_emergence_h5.keys():\n",
    "    print(f\"{key}: {len(gnn_emergence_h5[key])}\")"
   ]
  },
  {
   "cell_type": "code",
   "execution_count": 22,
   "id": "66ef7676",
   "metadata": {},
   "outputs": [],
   "source": [
    "patent_appln_id_h5 = gnn_emergence_h5['patent_appln_id']"
   ]
  },
  {
   "cell_type": "code",
   "execution_count": 27,
   "id": "2622c457",
   "metadata": {},
   "outputs": [],
   "source": [
    "patent_appln_id_h5[0]\n",
    "\n",
    "# Solve this regex \"b'267285814'\" to \"267285814\" as string\n",
    "import re\n",
    "patent_appln_id_h5 = [re.sub(r\"b'(\\d+)'\", r\"\\1\", str(id)) for id in patent_appln_id_h5]"
   ]
  },
  {
   "cell_type": "code",
   "execution_count": 28,
   "id": "81f172da",
   "metadata": {},
   "outputs": [
    {
     "data": {
      "text/plain": [
       "'267285814'"
      ]
     },
     "execution_count": 28,
     "metadata": {},
     "output_type": "execute_result"
    }
   ],
   "source": [
    "patent_appln_id_h5[0]"
   ]
  },
  {
   "cell_type": "code",
   "execution_count": 29,
   "id": "d7620ad7",
   "metadata": {},
   "outputs": [
    {
     "data": {
      "text/plain": [
       "str"
      ]
     },
     "execution_count": 29,
     "metadata": {},
     "output_type": "execute_result"
    }
   ],
   "source": [
    "type(patent_appln_id_h5[0])"
   ]
  },
  {
   "cell_type": "code",
   "execution_count": 32,
   "id": "652229eb",
   "metadata": {},
   "outputs": [
    {
     "data": {
      "text/plain": [
       "'101891'"
      ]
     },
     "execution_count": 32,
     "metadata": {},
     "output_type": "execute_result"
    }
   ],
   "source": [
    "base_df['appln_id'][0]"
   ]
  },
  {
   "cell_type": "code",
   "execution_count": 33,
   "id": "a5136f97",
   "metadata": {},
   "outputs": [
    {
     "data": {
      "text/plain": [
       "'53974920'"
      ]
     },
     "execution_count": 33,
     "metadata": {},
     "output_type": "execute_result"
    }
   ],
   "source": [
    "novelty_df['appln_id'][0]"
   ]
  },
  {
   "cell_type": "code",
   "execution_count": 30,
   "id": "c10c664e",
   "metadata": {},
   "outputs": [
    {
     "data": {
      "text/plain": [
       "str"
      ]
     },
     "execution_count": 30,
     "metadata": {},
     "output_type": "execute_result"
    }
   ],
   "source": [
    "type(base_df['appln_id'][0])"
   ]
  },
  {
   "cell_type": "code",
   "execution_count": 31,
   "id": "f0191875",
   "metadata": {},
   "outputs": [
    {
     "data": {
      "text/plain": [
       "str"
      ]
     },
     "execution_count": 31,
     "metadata": {},
     "output_type": "execute_result"
    }
   ],
   "source": [
    "type(novelty_df['appln_id'][0])"
   ]
  },
  {
   "cell_type": "code",
   "execution_count": 34,
   "id": "b91d26e1",
   "metadata": {},
   "outputs": [
    {
     "name": "stdout",
     "output_type": "stream",
     "text": [
      "Base IDs in h5: 526141 / 770168\n",
      "Novelty IDs in h5: 318104 / 318104\n"
     ]
    }
   ],
   "source": [
    "# Test how many of the entries of patent_appln_id_h5 are in the base_df and in novelty_df\n",
    "base_ids = set(base_df['appln_id'])\n",
    "novelty_ids = set(novelty_df['appln_id'])\n",
    "\n",
    "base_in_h5 = sum(1 for id in patent_appln_id_h5 if id in base_ids)\n",
    "novelty_in_h5 = sum(1 for id in patent_appln_id_h5 if id in novelty_ids)\n",
    "\n",
    "print(f\"Base IDs in h5: {base_in_h5} / {len(base_ids)}\")\n",
    "print(f\"Novelty IDs in h5: {novelty_in_h5} / {len(novelty_ids)}\")"
   ]
  },
  {
   "cell_type": "code",
   "execution_count": null,
   "id": "e44a355e",
   "metadata": {},
   "outputs": [
    {
     "name": "stdout",
     "output_type": "stream",
     "text": [
      "Base IDs in Novelty: 99663 / 770168\n"
     ]
    }
   ],
   "source": [
    "# Test how many entries of base_ids are in novelty_ids\n",
    "base_in_novelty = sum(1 for id in base_ids if id in novelty_ids)\n",
    "print(f\"Base IDs in Novelty: {base_in_novelty} / {len(base_ids)}\")"
   ]
  },
  {
   "cell_type": "code",
   "execution_count": 3,
   "id": "0e8553ff",
   "metadata": {},
   "outputs": [
    {
     "data": {
      "text/html": [
       "<div>\n",
       "<style scoped>\n",
       "    .dataframe tbody tr th:only-of-type {\n",
       "        vertical-align: middle;\n",
       "    }\n",
       "\n",
       "    .dataframe tbody tr th {\n",
       "        vertical-align: top;\n",
       "    }\n",
       "\n",
       "    .dataframe thead th {\n",
       "        text-align: right;\n",
       "    }\n",
       "</style>\n",
       "<table border=\"1\" class=\"dataframe\">\n",
       "  <thead>\n",
       "    <tr style=\"text-align: right;\">\n",
       "      <th></th>\n",
       "      <th>appln_id</th>\n",
       "      <th>publn_nr</th>\n",
       "      <th>publn_auth</th>\n",
       "      <th>publn_date</th>\n",
       "      <th>pat_publn_id</th>\n",
       "      <th>cpc_class_symbol</th>\n",
       "      <th>cited_pat_publn_id</th>\n",
       "      <th>cited_appln_id</th>\n",
       "      <th>appln_title</th>\n",
       "      <th>appln_abstract</th>\n",
       "      <th>claim_fulltext</th>\n",
       "    </tr>\n",
       "  </thead>\n",
       "  <tbody>\n",
       "    <tr>\n",
       "      <th>0</th>\n",
       "      <td>101891</td>\n",
       "      <td>1360181</td>\n",
       "      <td>EP</td>\n",
       "      <td>2008-10-08</td>\n",
       "      <td>289379223</td>\n",
       "      <td>[Y02P  20/52]</td>\n",
       "      <td>None</td>\n",
       "      <td>None</td>\n",
       "      <td>EPOXIDATION CATALYST AND PROCESS</td>\n",
       "      <td>In a process for the production of an oxirane ...</td>\n",
       "      <td>A process for the epoxidation bf an olefin by ...</td>\n",
       "    </tr>\n",
       "    <tr>\n",
       "      <th>1</th>\n",
       "      <td>101897</td>\n",
       "      <td>1333516</td>\n",
       "      <td>EP</td>\n",
       "      <td>2006-12-13</td>\n",
       "      <td>387634414</td>\n",
       "      <td>[Y02E  60/50]</td>\n",
       "      <td>None</td>\n",
       "      <td>None</td>\n",
       "      <td>Fuel cell and process for improving the transp...</td>\n",
       "      <td>The method involves generating pressure differ...</td>\n",
       "      <td>Method for improving a heat and mass transfer ...</td>\n",
       "    </tr>\n",
       "    <tr>\n",
       "      <th>2</th>\n",
       "      <td>101926</td>\n",
       "      <td>1711753</td>\n",
       "      <td>EP</td>\n",
       "      <td>2010-08-18</td>\n",
       "      <td>323646172</td>\n",
       "      <td>[Y02B  10/10, Y02B  10/20, Y02B  10/70, Y02E  ...</td>\n",
       "      <td>None</td>\n",
       "      <td>None</td>\n",
       "      <td>VACUUM-INSULATED, MODULAR ROOF SYSTEM</td>\n",
       "      <td>The invention relates to an insulated, modular...</td>\n",
       "      <td>Insulated modular roof system (100) comprising...</td>\n",
       "    </tr>\n",
       "    <tr>\n",
       "      <th>3</th>\n",
       "      <td>101976</td>\n",
       "      <td>2013456</td>\n",
       "      <td>EP</td>\n",
       "      <td>2010-10-13</td>\n",
       "      <td>327969544</td>\n",
       "      <td>[Y02T  10/12, Y02T  10/40]</td>\n",
       "      <td>None</td>\n",
       "      <td>None</td>\n",
       "      <td>DEVICE FOR SUPPLYING A REDUCING AGENT INTO AN ...</td>\n",
       "      <td>The invention relates to a device (2) for supp...</td>\n",
       "      <td>Device for supplying a reducing agent into an ...</td>\n",
       "    </tr>\n",
       "    <tr>\n",
       "      <th>4</th>\n",
       "      <td>101984</td>\n",
       "      <td>2028791</td>\n",
       "      <td>EP</td>\n",
       "      <td>2012-07-04</td>\n",
       "      <td>365139097</td>\n",
       "      <td>[Y02D  30/00]</td>\n",
       "      <td>None</td>\n",
       "      <td>None</td>\n",
       "      <td>Recognition of incorrect configurations on net...</td>\n",
       "      <td>The method involves providing information of n...</td>\n",
       "      <td>Method for recognizing incorrect configuration...</td>\n",
       "    </tr>\n",
       "  </tbody>\n",
       "</table>\n",
       "</div>"
      ],
      "text/plain": [
       "  appln_id publn_nr publn_auth  publn_date pat_publn_id  \\\n",
       "0   101891  1360181         EP  2008-10-08    289379223   \n",
       "1   101897  1333516         EP  2006-12-13    387634414   \n",
       "2   101926  1711753         EP  2010-08-18    323646172   \n",
       "3   101976  2013456         EP  2010-10-13    327969544   \n",
       "4   101984  2028791         EP  2012-07-04    365139097   \n",
       "\n",
       "                                    cpc_class_symbol cited_pat_publn_id  \\\n",
       "0                                      [Y02P  20/52]               None   \n",
       "1                                      [Y02E  60/50]               None   \n",
       "2  [Y02B  10/10, Y02B  10/20, Y02B  10/70, Y02E  ...               None   \n",
       "3                         [Y02T  10/12, Y02T  10/40]               None   \n",
       "4                                      [Y02D  30/00]               None   \n",
       "\n",
       "  cited_appln_id                                        appln_title  \\\n",
       "0           None                   EPOXIDATION CATALYST AND PROCESS   \n",
       "1           None  Fuel cell and process for improving the transp...   \n",
       "2           None              VACUUM-INSULATED, MODULAR ROOF SYSTEM   \n",
       "3           None  DEVICE FOR SUPPLYING A REDUCING AGENT INTO AN ...   \n",
       "4           None  Recognition of incorrect configurations on net...   \n",
       "\n",
       "                                      appln_abstract  \\\n",
       "0  In a process for the production of an oxirane ...   \n",
       "1  The method involves generating pressure differ...   \n",
       "2  The invention relates to an insulated, modular...   \n",
       "3  The invention relates to a device (2) for supp...   \n",
       "4  The method involves providing information of n...   \n",
       "\n",
       "                                      claim_fulltext  \n",
       "0  A process for the epoxidation bf an olefin by ...  \n",
       "1  Method for improving a heat and mass transfer ...  \n",
       "2  Insulated modular roof system (100) comprising...  \n",
       "3  Device for supplying a reducing agent into an ...  \n",
       "4  Method for recognizing incorrect configuration...  "
      ]
     },
     "execution_count": 3,
     "metadata": {},
     "output_type": "execute_result"
    }
   ],
   "source": [
    "base_df.head()"
   ]
  },
  {
   "cell_type": "code",
   "execution_count": 4,
   "id": "62e391ff",
   "metadata": {},
   "outputs": [
    {
     "data": {
      "text/html": [
       "<div>\n",
       "<style scoped>\n",
       "    .dataframe tbody tr th:only-of-type {\n",
       "        vertical-align: middle;\n",
       "    }\n",
       "\n",
       "    .dataframe tbody tr th {\n",
       "        vertical-align: top;\n",
       "    }\n",
       "\n",
       "    .dataframe thead th {\n",
       "        text-align: right;\n",
       "    }\n",
       "</style>\n",
       "<table border=\"1\" class=\"dataframe\">\n",
       "  <thead>\n",
       "    <tr style=\"text-align: right;\">\n",
       "      <th></th>\n",
       "      <th>patent_id</th>\n",
       "      <th>appln_id</th>\n",
       "      <th>novelty_q100</th>\n",
       "      <th>novelty_q99</th>\n",
       "      <th>novelty_q95</th>\n",
       "      <th>novelty_q90</th>\n",
       "      <th>novelty_q80</th>\n",
       "      <th>novelty_q50</th>\n",
       "    </tr>\n",
       "  </thead>\n",
       "  <tbody>\n",
       "    <tr>\n",
       "      <th>0</th>\n",
       "      <td>1167939</td>\n",
       "      <td>53974920</td>\n",
       "      <td>0.962268</td>\n",
       "      <td>0.915654</td>\n",
       "      <td>0.858876</td>\n",
       "      <td>0.803622</td>\n",
       "      <td>0.725842</td>\n",
       "      <td>0.506140</td>\n",
       "    </tr>\n",
       "    <tr>\n",
       "      <th>1</th>\n",
       "      <td>1595832</td>\n",
       "      <td>53914942</td>\n",
       "      <td>0.476237</td>\n",
       "      <td>0.474438</td>\n",
       "      <td>0.467241</td>\n",
       "      <td>0.458245</td>\n",
       "      <td>0.440253</td>\n",
       "      <td>0.386278</td>\n",
       "    </tr>\n",
       "    <tr>\n",
       "      <th>2</th>\n",
       "      <td>1488643</td>\n",
       "      <td>47964380</td>\n",
       "      <td>0.476237</td>\n",
       "      <td>0.474438</td>\n",
       "      <td>0.467241</td>\n",
       "      <td>0.458245</td>\n",
       "      <td>0.440253</td>\n",
       "      <td>0.386278</td>\n",
       "    </tr>\n",
       "    <tr>\n",
       "      <th>3</th>\n",
       "      <td>949885</td>\n",
       "      <td>48213635</td>\n",
       "      <td>0.962268</td>\n",
       "      <td>0.944142</td>\n",
       "      <td>0.904538</td>\n",
       "      <td>0.875174</td>\n",
       "      <td>0.846297</td>\n",
       "      <td>0.683351</td>\n",
       "    </tr>\n",
       "    <tr>\n",
       "      <th>4</th>\n",
       "      <td>317304</td>\n",
       "      <td>53607330</td>\n",
       "      <td>0.962268</td>\n",
       "      <td>0.944142</td>\n",
       "      <td>0.904538</td>\n",
       "      <td>0.875174</td>\n",
       "      <td>0.846297</td>\n",
       "      <td>0.683351</td>\n",
       "    </tr>\n",
       "  </tbody>\n",
       "</table>\n",
       "</div>"
      ],
      "text/plain": [
       "   patent_id  appln_id  novelty_q100  novelty_q99  novelty_q95  novelty_q90  \\\n",
       "0    1167939  53974920      0.962268     0.915654     0.858876     0.803622   \n",
       "1    1595832  53914942      0.476237     0.474438     0.467241     0.458245   \n",
       "2    1488643  47964380      0.476237     0.474438     0.467241     0.458245   \n",
       "3     949885  48213635      0.962268     0.944142     0.904538     0.875174   \n",
       "4     317304  53607330      0.962268     0.944142     0.904538     0.875174   \n",
       "\n",
       "   novelty_q80  novelty_q50  \n",
       "0     0.725842     0.506140  \n",
       "1     0.440253     0.386278  \n",
       "2     0.440253     0.386278  \n",
       "3     0.846297     0.683351  \n",
       "4     0.846297     0.683351  "
      ]
     },
     "execution_count": 4,
     "metadata": {},
     "output_type": "execute_result"
    }
   ],
   "source": [
    "novelty_df.head()"
   ]
  },
  {
   "cell_type": "code",
   "execution_count": 5,
   "id": "39d60ef3",
   "metadata": {},
   "outputs": [
    {
     "data": {
      "text/plain": [
       "(770168, 318104)"
      ]
     },
     "execution_count": 5,
     "metadata": {},
     "output_type": "execute_result"
    }
   ],
   "source": [
    "len(base_df), len(novelty_df)"
   ]
  },
  {
   "cell_type": "code",
   "execution_count": 8,
   "id": "d68ef0fb",
   "metadata": {},
   "outputs": [
    {
     "data": {
      "text/plain": [
       "(str, str)"
      ]
     },
     "execution_count": 8,
     "metadata": {},
     "output_type": "execute_result"
    }
   ],
   "source": [
    "type(base_df['appln_id'][0]), type(novelty_df['appln_id'][0])"
   ]
  },
  {
   "cell_type": "code",
   "execution_count": 7,
   "id": "0b315b82",
   "metadata": {},
   "outputs": [],
   "source": [
    "base_df['appln_id'] = base_df['appln_id'].astype(str)\n",
    "novelty_df['appln_id'] = novelty_df['appln_id'].astype(str)"
   ]
  },
  {
   "cell_type": "code",
   "execution_count": 10,
   "id": "43826dea",
   "metadata": {},
   "outputs": [],
   "source": [
    "merge_df = pd.merge(base_df, novelty_df, on='appln_id', how='inner')"
   ]
  },
  {
   "cell_type": "code",
   "execution_count": 13,
   "id": "ff3593d7",
   "metadata": {},
   "outputs": [
    {
     "data": {
      "text/html": [
       "<div>\n",
       "<style scoped>\n",
       "    .dataframe tbody tr th:only-of-type {\n",
       "        vertical-align: middle;\n",
       "    }\n",
       "\n",
       "    .dataframe tbody tr th {\n",
       "        vertical-align: top;\n",
       "    }\n",
       "\n",
       "    .dataframe thead th {\n",
       "        text-align: right;\n",
       "    }\n",
       "</style>\n",
       "<table border=\"1\" class=\"dataframe\">\n",
       "  <thead>\n",
       "    <tr style=\"text-align: right;\">\n",
       "      <th></th>\n",
       "      <th>appln_id</th>\n",
       "      <th>publn_nr</th>\n",
       "      <th>publn_auth</th>\n",
       "      <th>publn_date</th>\n",
       "      <th>pat_publn_id</th>\n",
       "      <th>cpc_class_symbol</th>\n",
       "      <th>cited_pat_publn_id</th>\n",
       "      <th>cited_appln_id</th>\n",
       "      <th>appln_title</th>\n",
       "      <th>appln_abstract</th>\n",
       "      <th>claim_fulltext</th>\n",
       "      <th>patent_id</th>\n",
       "      <th>novelty_q100</th>\n",
       "      <th>novelty_q99</th>\n",
       "      <th>novelty_q95</th>\n",
       "      <th>novelty_q90</th>\n",
       "      <th>novelty_q80</th>\n",
       "      <th>novelty_q50</th>\n",
       "    </tr>\n",
       "  </thead>\n",
       "  <tbody>\n",
       "    <tr>\n",
       "      <th>0</th>\n",
       "      <td>266665717</td>\n",
       "      <td>7575755</td>\n",
       "      <td>US</td>\n",
       "      <td>2009-08-18</td>\n",
       "      <td>266679501</td>\n",
       "      <td>[Y02A  50/30]</td>\n",
       "      <td>[286930056, 298510696, 301725740]</td>\n",
       "      <td>[47770899, 50813106, 49346612]</td>\n",
       "      <td>Immunogenic compositions and uses thereof</td>\n",
       "      <td>The present invention relates generally to a m...</td>\n",
       "      <td>A composition comprising a modified GPI molec...</td>\n",
       "      <td>1367360</td>\n",
       "      <td>1.060533</td>\n",
       "      <td>0.994787</td>\n",
       "      <td>0.906778</td>\n",
       "      <td>0.761326</td>\n",
       "      <td>0.686610</td>\n",
       "      <td>0.547025</td>\n",
       "    </tr>\n",
       "    <tr>\n",
       "      <th>1</th>\n",
       "      <td>266665722</td>\n",
       "      <td>7575870</td>\n",
       "      <td>US</td>\n",
       "      <td>2009-08-18</td>\n",
       "      <td>266679656</td>\n",
       "      <td>[Y02A  50/30]</td>\n",
       "      <td>None</td>\n",
       "      <td>None</td>\n",
       "      <td>Assay method for peptide specific T-cells</td>\n",
       "      <td>A method of assaying for peptide-specific T-ce...</td>\n",
       "      <td>A method for quantitating ex vivo a populatio...</td>\n",
       "      <td>870087</td>\n",
       "      <td>0.875605</td>\n",
       "      <td>0.814739</td>\n",
       "      <td>0.764460</td>\n",
       "      <td>0.722601</td>\n",
       "      <td>0.671635</td>\n",
       "      <td>0.572333</td>\n",
       "    </tr>\n",
       "    <tr>\n",
       "      <th>2</th>\n",
       "      <td>266665750</td>\n",
       "      <td>7576371</td>\n",
       "      <td>US</td>\n",
       "      <td>2009-08-18</td>\n",
       "      <td>266680295</td>\n",
       "      <td>[Y02E  10/547]</td>\n",
       "      <td>[294268031, 299392680, 304113408, 311119382, 2...</td>\n",
       "      <td>[48343055, 48718440, 51045251, 53880539, 49042...</td>\n",
       "      <td>Structures and methods to improve the crosstal...</td>\n",
       "      <td>Structures and methods to improve the crosstal...</td>\n",
       "      <td>A back illuminated photodiode array comprisin...</td>\n",
       "      <td>149780</td>\n",
       "      <td>0.634151</td>\n",
       "      <td>0.581680</td>\n",
       "      <td>0.514477</td>\n",
       "      <td>0.509564</td>\n",
       "      <td>0.481096</td>\n",
       "      <td>0.442525</td>\n",
       "    </tr>\n",
       "    <tr>\n",
       "      <th>3</th>\n",
       "      <td>266665759</td>\n",
       "      <td>7576517</td>\n",
       "      <td>US</td>\n",
       "      <td>2009-08-18</td>\n",
       "      <td>266680505</td>\n",
       "      <td>[Y02E  60/10]</td>\n",
       "      <td>[291206440, 291954407, 293853513]</td>\n",
       "      <td>[53366236, 47797525, 54454615]</td>\n",
       "      <td>System and method for remote monitoring of bat...</td>\n",
       "      <td>A battery monitoring system may be configured ...</td>\n",
       "      <td>A battery monitoring system, comprising: at l...</td>\n",
       "      <td>1085826</td>\n",
       "      <td>1.008244</td>\n",
       "      <td>1.003422</td>\n",
       "      <td>0.984131</td>\n",
       "      <td>0.960017</td>\n",
       "      <td>0.911790</td>\n",
       "      <td>0.698670</td>\n",
       "    </tr>\n",
       "    <tr>\n",
       "      <th>4</th>\n",
       "      <td>266665783</td>\n",
       "      <td>7576680</td>\n",
       "      <td>US</td>\n",
       "      <td>2009-08-18</td>\n",
       "      <td>266680754</td>\n",
       "      <td>[Y02A  90/10]</td>\n",
       "      <td>[284317430, 284317333, 287582414, 285335571, 2...</td>\n",
       "      <td>[52620034, 53947919, 46925696, 52626935, 46935...</td>\n",
       "      <td>Pulse pattern for weather phenomenon and incur...</td>\n",
       "      <td>An aircraft radar system includes a radar ante...</td>\n",
       "      <td>An aircraft radar system, comprising: a radar...</td>\n",
       "      <td>213629</td>\n",
       "      <td>0.762727</td>\n",
       "      <td>0.761455</td>\n",
       "      <td>0.756365</td>\n",
       "      <td>0.750003</td>\n",
       "      <td>0.737278</td>\n",
       "      <td>0.699105</td>\n",
       "    </tr>\n",
       "  </tbody>\n",
       "</table>\n",
       "</div>"
      ],
      "text/plain": [
       "    appln_id publn_nr publn_auth  publn_date pat_publn_id cpc_class_symbol  \\\n",
       "0  266665717  7575755         US  2009-08-18    266679501    [Y02A  50/30]   \n",
       "1  266665722  7575870         US  2009-08-18    266679656    [Y02A  50/30]   \n",
       "2  266665750  7576371         US  2009-08-18    266680295   [Y02E  10/547]   \n",
       "3  266665759  7576517         US  2009-08-18    266680505    [Y02E  60/10]   \n",
       "4  266665783  7576680         US  2009-08-18    266680754    [Y02A  90/10]   \n",
       "\n",
       "                                  cited_pat_publn_id  \\\n",
       "0                  [286930056, 298510696, 301725740]   \n",
       "1                                               None   \n",
       "2  [294268031, 299392680, 304113408, 311119382, 2...   \n",
       "3                  [291206440, 291954407, 293853513]   \n",
       "4  [284317430, 284317333, 287582414, 285335571, 2...   \n",
       "\n",
       "                                      cited_appln_id  \\\n",
       "0                     [47770899, 50813106, 49346612]   \n",
       "1                                               None   \n",
       "2  [48343055, 48718440, 51045251, 53880539, 49042...   \n",
       "3                     [53366236, 47797525, 54454615]   \n",
       "4  [52620034, 53947919, 46925696, 52626935, 46935...   \n",
       "\n",
       "                                         appln_title  \\\n",
       "0          Immunogenic compositions and uses thereof   \n",
       "1          Assay method for peptide specific T-cells   \n",
       "2  Structures and methods to improve the crosstal...   \n",
       "3  System and method for remote monitoring of bat...   \n",
       "4  Pulse pattern for weather phenomenon and incur...   \n",
       "\n",
       "                                      appln_abstract  \\\n",
       "0  The present invention relates generally to a m...   \n",
       "1  A method of assaying for peptide-specific T-ce...   \n",
       "2  Structures and methods to improve the crosstal...   \n",
       "3  A battery monitoring system may be configured ...   \n",
       "4  An aircraft radar system includes a radar ante...   \n",
       "\n",
       "                                      claim_fulltext  patent_id  novelty_q100  \\\n",
       "0   A composition comprising a modified GPI molec...    1367360      1.060533   \n",
       "1   A method for quantitating ex vivo a populatio...     870087      0.875605   \n",
       "2   A back illuminated photodiode array comprisin...     149780      0.634151   \n",
       "3   A battery monitoring system, comprising: at l...    1085826      1.008244   \n",
       "4   An aircraft radar system, comprising: a radar...     213629      0.762727   \n",
       "\n",
       "   novelty_q99  novelty_q95  novelty_q90  novelty_q80  novelty_q50  \n",
       "0     0.994787     0.906778     0.761326     0.686610     0.547025  \n",
       "1     0.814739     0.764460     0.722601     0.671635     0.572333  \n",
       "2     0.581680     0.514477     0.509564     0.481096     0.442525  \n",
       "3     1.003422     0.984131     0.960017     0.911790     0.698670  \n",
       "4     0.761455     0.756365     0.750003     0.737278     0.699105  "
      ]
     },
     "execution_count": 13,
     "metadata": {},
     "output_type": "execute_result"
    }
   ],
   "source": [
    "merge_df.head()"
   ]
  }
 ],
 "metadata": {
  "kernelspec": {
   "display_name": "edv_tek",
   "language": "python",
   "name": "python3"
  },
  "language_info": {
   "codemirror_mode": {
    "name": "ipython",
    "version": 3
   },
   "file_extension": ".py",
   "mimetype": "text/x-python",
   "name": "python",
   "nbconvert_exporter": "python",
   "pygments_lexer": "ipython3",
   "version": "3.10.12"
  }
 },
 "nbformat": 4,
 "nbformat_minor": 5
}
