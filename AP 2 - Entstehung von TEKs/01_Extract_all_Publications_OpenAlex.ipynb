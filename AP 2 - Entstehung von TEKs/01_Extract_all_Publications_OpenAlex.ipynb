{
 "cells": [
  {
   "cell_type": "code",
   "execution_count": 8,
   "metadata": {},
   "outputs": [],
   "source": [
    "import pandas as pd\n",
    "import numpy as np\n",
    "from sqlalchemy import create_engine, URL, text\n",
    "from tqdm import tqdm\n",
    "from tqdm.auto import tqdm\n",
    "tqdm.pandas()\n",
    "import os.path as osp\n",
    "import ast"
   ]
  },
  {
   "cell_type": "markdown",
   "metadata": {},
   "source": [
    "# Preprocess Cleantech Data"
   ]
  },
  {
   "cell_type": "code",
   "execution_count": 2,
   "metadata": {},
   "outputs": [],
   "source": [
    "df_cleantech = pd.read_csv('/mnt/hdd02/Projekt_EDV_TEK/edv_tek_all_cleantech_appln_ids.csv')"
   ]
  },
  {
   "cell_type": "code",
   "execution_count": null,
   "metadata": {},
   "outputs": [],
   "source": [
    "url_patstat_object = URL.create(\n",
    "    drivername=\"\",\n",
    "    username=\"\",\n",
    "    password=\"\",\n",
    "    host=\"\",\n",
    "    port=\"\",\n",
    "    database=\"\"\n",
    ")\n",
    "patstat_engine = create_engine(url_patstat_object)"
   ]
  },
  {
   "cell_type": "code",
   "execution_count": 5,
   "metadata": {},
   "outputs": [
    {
     "data": {
      "text/plain": [
       "208"
      ]
     },
     "execution_count": 5,
     "metadata": {},
     "output_type": "execute_result"
    }
   ],
   "source": [
    "# Write df_cleantech to a temporary table in the database\n",
    "df_cleantech.to_sql('temp_cleantech', patstat_engine, if_exists='replace', index=False)"
   ]
  },
  {
   "cell_type": "code",
   "execution_count": 6,
   "metadata": {},
   "outputs": [],
   "source": [
    "# Perform a join between the temporary table and tls211_pat_publn to extract publn_auth and publn_nr.\n",
    "query = \"\"\"\n",
    "    SELECT \n",
    "        t.appln_id, \n",
    "        p.publn_auth, \n",
    "        p.publn_nr\n",
    "    FROM \n",
    "        temp_cleantech t\n",
    "    JOIN \n",
    "        tls211_pat_publn p \n",
    "        ON t.appln_id::text = p.appln_id::text\n",
    "\"\"\"\n",
    "\n",
    "df_cleantech_publn = pd.read_sql_query(text(query), patstat_engine)"
   ]
  },
  {
   "cell_type": "code",
   "execution_count": 7,
   "metadata": {},
   "outputs": [],
   "source": [
    "# Merge the two dataframes\n",
    "df_cleantech = df_cleantech.merge(df_cleantech_publn, on='appln_id', how='left')"
   ]
  },
  {
   "cell_type": "code",
   "execution_count": 8,
   "metadata": {},
   "outputs": [
    {
     "data": {
      "text/plain": [
       "publn_auth\n",
       "US    2975821\n",
       "EP     915352\n",
       "Name: count, dtype: int64"
      ]
     },
     "execution_count": 8,
     "metadata": {},
     "output_type": "execute_result"
    }
   ],
   "source": [
    "df_cleantech['publn_auth'].value_counts()"
   ]
  },
  {
   "cell_type": "code",
   "execution_count": 9,
   "metadata": {},
   "outputs": [],
   "source": [
    "df_cleantech.to_csv('/mnt/hdd02/Projekt_EDV_TEK/edv_tek_all_cleantech_appln_ids_publn_nr.csv', index=False)"
   ]
  },
  {
   "cell_type": "markdown",
   "metadata": {},
   "source": [
    "# OpenAlex Works"
   ]
  },
  {
   "cell_type": "markdown",
   "metadata": {},
   "source": [
    "## Preprocessing"
   ]
  },
  {
   "cell_type": "code",
   "execution_count": 37,
   "metadata": {},
   "outputs": [],
   "source": [
    "df_rel_pcs = pd.read_csv(\"/mnt/hdd02/Projekt_EDV_TEK/Reliance_on_Science/_pcs_oa.csv\")\n",
    "df_rel_ppp = pd.read_csv(\"/mnt/hdd02/Projekt_EDV_TEK/Reliance_on_Science/_patent_paper_pairs.csv\")  # ONLY US patents in the original dataset"
   ]
  },
  {
   "cell_type": "code",
   "execution_count": 38,
   "metadata": {},
   "outputs": [],
   "source": [
    "df_rel_pcs = df_rel_pcs.astype(str)\n",
    "df_rel_pcs['patent'] = df_rel_pcs['patent'].apply(lambda x: x.lower())\n",
    "df_rel_pcs[['publn_auth', 'publn_nr', 'appln_kind']] = df_rel_pcs['patent'].str.split('-', n=2, expand=True)\n",
    "df_rel_pcs['appln_kind'] = df_rel_pcs['appln_kind'].str.replace(' ', '')"
   ]
  },
  {
   "cell_type": "code",
   "execution_count": 39,
   "metadata": {},
   "outputs": [
    {
     "data": {
      "text/plain": [
       "publn_auth\n",
       "us    34399567\n",
       "ep     5671352\n",
       "wo     4077885\n",
       "cn     2157832\n",
       "jp      354281\n",
       "        ...   \n",
       "bg          27\n",
       "sk          11\n",
       "cu           6\n",
       "si           1\n",
       "ec           1\n",
       "Name: count, Length: 64, dtype: int64"
      ]
     },
     "execution_count": 39,
     "metadata": {},
     "output_type": "execute_result"
    }
   ],
   "source": [
    "df_rel_pcs['publn_auth'].value_counts()"
   ]
  },
  {
   "cell_type": "code",
   "execution_count": 40,
   "metadata": {},
   "outputs": [],
   "source": [
    "df_rel_ppp = df_rel_ppp.astype(str)\n",
    "df_rel_ppp['patent'] = df_rel_ppp['patent'].apply(lambda x: x.lower())\n",
    "splits = df_rel_ppp['patent'].str.split('-', n=2, expand=True)\n",
    "if splits.shape[1] < 3:\n",
    "    splits = splits.reindex(columns=range(3))\n",
    "splits.columns = ['publn_auth', 'publn_nr', 'appln_kind']\n",
    "df_rel_ppp = pd.concat([df_rel_ppp, splits], axis=1)"
   ]
  },
  {
   "cell_type": "code",
   "execution_count": 14,
   "metadata": {},
   "outputs": [
    {
     "data": {
      "text/plain": [
       "publn_auth\n",
       "us    548315\n",
       "Name: count, dtype: int64"
      ]
     },
     "execution_count": 14,
     "metadata": {},
     "output_type": "execute_result"
    }
   ],
   "source": [
    "df_rel_ppp['publn_auth'].value_counts()"
   ]
  },
  {
   "cell_type": "markdown",
   "metadata": {},
   "source": [
    "**As there are only US patents in the Patent-Paper-Pair dataset, we will focus from here on only on US Patents**"
   ]
  },
  {
   "cell_type": "code",
   "execution_count": 41,
   "metadata": {},
   "outputs": [],
   "source": [
    "# Filter df_rel_pcs to only include patents where the publication authority is US\n",
    "df_rel_pcs = df_rel_pcs[df_rel_pcs['publn_auth'] == 'us']"
   ]
  },
  {
   "cell_type": "code",
   "execution_count": 42,
   "metadata": {},
   "outputs": [],
   "source": [
    "# Filter df_cleantech to only include patents where the publication authority is US\n",
    "df_cleantech = df_cleantech[df_cleantech['publn_auth'] == 'US']"
   ]
  },
  {
   "cell_type": "code",
   "execution_count": 21,
   "metadata": {},
   "outputs": [
    {
     "data": {
      "text/html": [
       "<div>\n",
       "<style scoped>\n",
       "    .dataframe tbody tr th:only-of-type {\n",
       "        vertical-align: middle;\n",
       "    }\n",
       "\n",
       "    .dataframe tbody tr th {\n",
       "        vertical-align: top;\n",
       "    }\n",
       "\n",
       "    .dataframe thead th {\n",
       "        text-align: right;\n",
       "    }\n",
       "</style>\n",
       "<table border=\"1\" class=\"dataframe\">\n",
       "  <thead>\n",
       "    <tr style=\"text-align: right;\">\n",
       "      <th></th>\n",
       "      <th>reftype</th>\n",
       "      <th>confscore</th>\n",
       "      <th>oaid</th>\n",
       "      <th>patent</th>\n",
       "      <th>uspto</th>\n",
       "      <th>wherefound</th>\n",
       "      <th>self</th>\n",
       "      <th>publn_auth</th>\n",
       "      <th>publn_nr</th>\n",
       "      <th>appln_kind</th>\n",
       "      <th>patent_paper_pair</th>\n",
       "    </tr>\n",
       "  </thead>\n",
       "  <tbody>\n",
       "    <tr>\n",
       "      <th>0</th>\n",
       "      <td>app</td>\n",
       "      <td>10</td>\n",
       "      <td>W1552</td>\n",
       "      <td>us-11426570-b2</td>\n",
       "      <td>1</td>\n",
       "      <td>frontonly</td>\n",
       "      <td>notself</td>\n",
       "      <td>us</td>\n",
       "      <td>11426570</td>\n",
       "      <td>b2</td>\n",
       "      <td>0</td>\n",
       "    </tr>\n",
       "    <tr>\n",
       "      <th>1</th>\n",
       "      <td>app</td>\n",
       "      <td>10</td>\n",
       "      <td>W1552</td>\n",
       "      <td>us-11666239-b2</td>\n",
       "      <td>1</td>\n",
       "      <td>frontonly</td>\n",
       "      <td>notself</td>\n",
       "      <td>us</td>\n",
       "      <td>11666239</td>\n",
       "      <td>b2</td>\n",
       "      <td>0</td>\n",
       "    </tr>\n",
       "    <tr>\n",
       "      <th>2</th>\n",
       "      <td>app</td>\n",
       "      <td>10</td>\n",
       "      <td>W1552</td>\n",
       "      <td>us-11678989-b2</td>\n",
       "      <td>1</td>\n",
       "      <td>frontonly</td>\n",
       "      <td>notself</td>\n",
       "      <td>us</td>\n",
       "      <td>11678989</td>\n",
       "      <td>b2</td>\n",
       "      <td>0</td>\n",
       "    </tr>\n",
       "    <tr>\n",
       "      <th>3</th>\n",
       "      <td>app</td>\n",
       "      <td>10</td>\n",
       "      <td>W1552</td>\n",
       "      <td>us-11745001-b2</td>\n",
       "      <td>1</td>\n",
       "      <td>frontonly</td>\n",
       "      <td>notself</td>\n",
       "      <td>us</td>\n",
       "      <td>11745001</td>\n",
       "      <td>b2</td>\n",
       "      <td>0</td>\n",
       "    </tr>\n",
       "    <tr>\n",
       "      <th>4</th>\n",
       "      <td>app</td>\n",
       "      <td>10</td>\n",
       "      <td>W1552</td>\n",
       "      <td>us-11826495-b2</td>\n",
       "      <td>1</td>\n",
       "      <td>frontonly</td>\n",
       "      <td>notself</td>\n",
       "      <td>us</td>\n",
       "      <td>11826495</td>\n",
       "      <td>b2</td>\n",
       "      <td>0</td>\n",
       "    </tr>\n",
       "  </tbody>\n",
       "</table>\n",
       "</div>"
      ],
      "text/plain": [
       "  reftype confscore   oaid          patent uspto wherefound     self  \\\n",
       "0     app        10  W1552  us-11426570-b2     1  frontonly  notself   \n",
       "1     app        10  W1552  us-11666239-b2     1  frontonly  notself   \n",
       "2     app        10  W1552  us-11678989-b2     1  frontonly  notself   \n",
       "3     app        10  W1552  us-11745001-b2     1  frontonly  notself   \n",
       "4     app        10  W1552  us-11826495-b2     1  frontonly  notself   \n",
       "\n",
       "  publn_auth  publn_nr appln_kind patent_paper_pair  \n",
       "0         us  11426570         b2                 0  \n",
       "1         us  11666239         b2                 0  \n",
       "2         us  11678989         b2                 0  \n",
       "3         us  11745001         b2                 0  \n",
       "4         us  11826495         b2                 0  "
      ]
     },
     "execution_count": 21,
     "metadata": {},
     "output_type": "execute_result"
    }
   ],
   "source": [
    "df_rel_pcs.head()"
   ]
  },
  {
   "cell_type": "code",
   "execution_count": 20,
   "metadata": {},
   "outputs": [
    {
     "data": {
      "text/html": [
       "<div>\n",
       "<style scoped>\n",
       "    .dataframe tbody tr th:only-of-type {\n",
       "        vertical-align: middle;\n",
       "    }\n",
       "\n",
       "    .dataframe tbody tr th {\n",
       "        vertical-align: top;\n",
       "    }\n",
       "\n",
       "    .dataframe thead th {\n",
       "        text-align: right;\n",
       "    }\n",
       "</style>\n",
       "<table border=\"1\" class=\"dataframe\">\n",
       "  <thead>\n",
       "    <tr style=\"text-align: right;\">\n",
       "      <th></th>\n",
       "      <th>oaid</th>\n",
       "      <th>patent</th>\n",
       "      <th>ppp_score</th>\n",
       "      <th>daysdiffcont</th>\n",
       "      <th>all_patents_for_the_same_paper</th>\n",
       "      <th>publn_auth</th>\n",
       "      <th>publn_nr</th>\n",
       "      <th>appln_kind</th>\n",
       "      <th>patent_paper_pair</th>\n",
       "    </tr>\n",
       "  </thead>\n",
       "  <tbody>\n",
       "    <tr>\n",
       "      <th>0</th>\n",
       "      <td>W2025049717</td>\n",
       "      <td>us-10000036</td>\n",
       "      <td>1</td>\n",
       "      <td>-1360</td>\n",
       "      <td>nan</td>\n",
       "      <td>us</td>\n",
       "      <td>10000036</td>\n",
       "      <td>nan</td>\n",
       "      <td>1</td>\n",
       "    </tr>\n",
       "    <tr>\n",
       "      <th>1</th>\n",
       "      <td>W4234301399</td>\n",
       "      <td>us-10000103</td>\n",
       "      <td>2</td>\n",
       "      <td>-342</td>\n",
       "      <td>nan</td>\n",
       "      <td>us</td>\n",
       "      <td>10000103</td>\n",
       "      <td>nan</td>\n",
       "      <td>1</td>\n",
       "    </tr>\n",
       "    <tr>\n",
       "      <th>2</th>\n",
       "      <td>W2731860728</td>\n",
       "      <td>us-10000103</td>\n",
       "      <td>2</td>\n",
       "      <td>-761</td>\n",
       "      <td>nan</td>\n",
       "      <td>us</td>\n",
       "      <td>10000103</td>\n",
       "      <td>nan</td>\n",
       "      <td>1</td>\n",
       "    </tr>\n",
       "    <tr>\n",
       "      <th>3</th>\n",
       "      <td>W2346689143</td>\n",
       "      <td>us-10000103</td>\n",
       "      <td>2</td>\n",
       "      <td>-453</td>\n",
       "      <td>nan</td>\n",
       "      <td>us</td>\n",
       "      <td>10000103</td>\n",
       "      <td>nan</td>\n",
       "      <td>1</td>\n",
       "    </tr>\n",
       "    <tr>\n",
       "      <th>4</th>\n",
       "      <td>W2624698886</td>\n",
       "      <td>us-10000305</td>\n",
       "      <td>2</td>\n",
       "      <td>-1859</td>\n",
       "      <td>nan</td>\n",
       "      <td>us</td>\n",
       "      <td>10000305</td>\n",
       "      <td>nan</td>\n",
       "      <td>1</td>\n",
       "    </tr>\n",
       "  </tbody>\n",
       "</table>\n",
       "</div>"
      ],
      "text/plain": [
       "          oaid       patent ppp_score daysdiffcont  \\\n",
       "0  W2025049717  us-10000036         1        -1360   \n",
       "1  W4234301399  us-10000103         2         -342   \n",
       "2  W2731860728  us-10000103         2         -761   \n",
       "3  W2346689143  us-10000103         2         -453   \n",
       "4  W2624698886  us-10000305         2        -1859   \n",
       "\n",
       "  all_patents_for_the_same_paper publn_auth  publn_nr appln_kind  \\\n",
       "0                            nan         us  10000036        nan   \n",
       "1                            nan         us  10000103        nan   \n",
       "2                            nan         us  10000103        nan   \n",
       "3                            nan         us  10000103        nan   \n",
       "4                            nan         us  10000305        nan   \n",
       "\n",
       "  patent_paper_pair  \n",
       "0                 1  \n",
       "1                 1  \n",
       "2                 1  \n",
       "3                 1  \n",
       "4                 1  "
      ]
     },
     "execution_count": 20,
     "metadata": {},
     "output_type": "execute_result"
    }
   ],
   "source": [
    "df_rel_ppp.head()"
   ]
  },
  {
   "cell_type": "code",
   "execution_count": 43,
   "metadata": {},
   "outputs": [],
   "source": [
    "df_rel_pcs['oaid'] = 'W' + df_rel_pcs['oaid']\n",
    "df_rel_ppp = df_rel_ppp.rename(columns={'paperid': 'oaid'})\n",
    "df_rel_pcs['patent_paper_pair'] = 0\n",
    "df_rel_ppp['patent_paper_pair'] = 1\n",
    "df_rel_pcs = df_rel_pcs.astype(str)\n",
    "df_rel_ppp = df_rel_ppp.astype(str)\n",
    "\n",
    "df_rel = pd.concat([df_rel_pcs, df_rel_ppp], ignore_index=True)\n",
    "df_rel = df_rel.reset_index(drop=True)"
   ]
  },
  {
   "cell_type": "code",
   "execution_count": 44,
   "metadata": {},
   "outputs": [
    {
     "data": {
      "text/html": [
       "<div>\n",
       "<style scoped>\n",
       "    .dataframe tbody tr th:only-of-type {\n",
       "        vertical-align: middle;\n",
       "    }\n",
       "\n",
       "    .dataframe tbody tr th {\n",
       "        vertical-align: top;\n",
       "    }\n",
       "\n",
       "    .dataframe thead th {\n",
       "        text-align: right;\n",
       "    }\n",
       "</style>\n",
       "<table border=\"1\" class=\"dataframe\">\n",
       "  <thead>\n",
       "    <tr style=\"text-align: right;\">\n",
       "      <th></th>\n",
       "      <th>reftype</th>\n",
       "      <th>confscore</th>\n",
       "      <th>oaid</th>\n",
       "      <th>patent</th>\n",
       "      <th>uspto</th>\n",
       "      <th>wherefound</th>\n",
       "      <th>self</th>\n",
       "      <th>publn_auth</th>\n",
       "      <th>publn_nr</th>\n",
       "      <th>appln_kind</th>\n",
       "      <th>patent_paper_pair</th>\n",
       "      <th>ppp_score</th>\n",
       "      <th>daysdiffcont</th>\n",
       "      <th>all_patents_for_the_same_paper</th>\n",
       "    </tr>\n",
       "  </thead>\n",
       "  <tbody>\n",
       "    <tr>\n",
       "      <th>0</th>\n",
       "      <td>app</td>\n",
       "      <td>10</td>\n",
       "      <td>W1552</td>\n",
       "      <td>us-11426570-b2</td>\n",
       "      <td>1</td>\n",
       "      <td>frontonly</td>\n",
       "      <td>notself</td>\n",
       "      <td>us</td>\n",
       "      <td>11426570</td>\n",
       "      <td>b2</td>\n",
       "      <td>0</td>\n",
       "      <td>NaN</td>\n",
       "      <td>NaN</td>\n",
       "      <td>NaN</td>\n",
       "    </tr>\n",
       "    <tr>\n",
       "      <th>1</th>\n",
       "      <td>app</td>\n",
       "      <td>10</td>\n",
       "      <td>W1552</td>\n",
       "      <td>us-11666239-b2</td>\n",
       "      <td>1</td>\n",
       "      <td>frontonly</td>\n",
       "      <td>notself</td>\n",
       "      <td>us</td>\n",
       "      <td>11666239</td>\n",
       "      <td>b2</td>\n",
       "      <td>0</td>\n",
       "      <td>NaN</td>\n",
       "      <td>NaN</td>\n",
       "      <td>NaN</td>\n",
       "    </tr>\n",
       "    <tr>\n",
       "      <th>2</th>\n",
       "      <td>app</td>\n",
       "      <td>10</td>\n",
       "      <td>W1552</td>\n",
       "      <td>us-11678989-b2</td>\n",
       "      <td>1</td>\n",
       "      <td>frontonly</td>\n",
       "      <td>notself</td>\n",
       "      <td>us</td>\n",
       "      <td>11678989</td>\n",
       "      <td>b2</td>\n",
       "      <td>0</td>\n",
       "      <td>NaN</td>\n",
       "      <td>NaN</td>\n",
       "      <td>NaN</td>\n",
       "    </tr>\n",
       "    <tr>\n",
       "      <th>3</th>\n",
       "      <td>app</td>\n",
       "      <td>10</td>\n",
       "      <td>W1552</td>\n",
       "      <td>us-11745001-b2</td>\n",
       "      <td>1</td>\n",
       "      <td>frontonly</td>\n",
       "      <td>notself</td>\n",
       "      <td>us</td>\n",
       "      <td>11745001</td>\n",
       "      <td>b2</td>\n",
       "      <td>0</td>\n",
       "      <td>NaN</td>\n",
       "      <td>NaN</td>\n",
       "      <td>NaN</td>\n",
       "    </tr>\n",
       "    <tr>\n",
       "      <th>4</th>\n",
       "      <td>app</td>\n",
       "      <td>10</td>\n",
       "      <td>W1552</td>\n",
       "      <td>us-11826495-b2</td>\n",
       "      <td>1</td>\n",
       "      <td>frontonly</td>\n",
       "      <td>notself</td>\n",
       "      <td>us</td>\n",
       "      <td>11826495</td>\n",
       "      <td>b2</td>\n",
       "      <td>0</td>\n",
       "      <td>NaN</td>\n",
       "      <td>NaN</td>\n",
       "      <td>NaN</td>\n",
       "    </tr>\n",
       "  </tbody>\n",
       "</table>\n",
       "</div>"
      ],
      "text/plain": [
       "  reftype confscore   oaid          patent uspto wherefound     self  \\\n",
       "0     app        10  W1552  us-11426570-b2     1  frontonly  notself   \n",
       "1     app        10  W1552  us-11666239-b2     1  frontonly  notself   \n",
       "2     app        10  W1552  us-11678989-b2     1  frontonly  notself   \n",
       "3     app        10  W1552  us-11745001-b2     1  frontonly  notself   \n",
       "4     app        10  W1552  us-11826495-b2     1  frontonly  notself   \n",
       "\n",
       "  publn_auth  publn_nr appln_kind patent_paper_pair ppp_score daysdiffcont  \\\n",
       "0         us  11426570         b2                 0       NaN          NaN   \n",
       "1         us  11666239         b2                 0       NaN          NaN   \n",
       "2         us  11678989         b2                 0       NaN          NaN   \n",
       "3         us  11745001         b2                 0       NaN          NaN   \n",
       "4         us  11826495         b2                 0       NaN          NaN   \n",
       "\n",
       "  all_patents_for_the_same_paper  \n",
       "0                            NaN  \n",
       "1                            NaN  \n",
       "2                            NaN  \n",
       "3                            NaN  \n",
       "4                            NaN  "
      ]
     },
     "execution_count": 44,
     "metadata": {},
     "output_type": "execute_result"
    }
   ],
   "source": [
    "df_rel.head()"
   ]
  },
  {
   "cell_type": "code",
   "execution_count": 45,
   "metadata": {},
   "outputs": [],
   "source": [
    "# Filter df_rel to only include publn_nr which are in df_cleantech\n",
    "df_rel = df_rel[df_rel['publn_nr'].isin(df_cleantech['publn_nr'])]"
   ]
  },
  {
   "cell_type": "code",
   "execution_count": 46,
   "metadata": {},
   "outputs": [],
   "source": [
    "df_rel_oaid = df_rel[['oaid']]\n",
    "df_rel_oaid = df_rel_oaid.drop_duplicates()"
   ]
  },
  {
   "cell_type": "markdown",
   "metadata": {},
   "source": [
    "### Save some preliminary data for Deep Learning for Social Analytics Course"
   ]
  },
  {
   "cell_type": "code",
   "execution_count": null,
   "metadata": {},
   "outputs": [],
   "source": [
    "# df_rel_ppp_course = df_rel_ppp.loc[:, ['patent_id', 'oaid']]\n",
    "# df_rel_ppp_course.to_csv(\"/home/thiesen/Documents/Projekt_EDV-TEK/Deep Learning for Social Analytics - Project Data/patent_paper_pairs.csv\", index=False)"
   ]
  },
  {
   "cell_type": "code",
   "execution_count": null,
   "metadata": {},
   "outputs": [],
   "source": [
    "# df_rel_pcs_course = df_rel_pcs.loc[:, ['patent_id', 'oaid']]\n",
    "# df_rel_pcs_course.to_csv(\"/home/thiesen/Documents/Projekt_EDV-TEK/Deep Learning for Social Analytics - Project Data/patent_paper_citations.csv\", index=False)"
   ]
  },
  {
   "cell_type": "markdown",
   "metadata": {},
   "source": [
    "### Extract Works from Postgres OpenAlex"
   ]
  },
  {
   "cell_type": "code",
   "execution_count": null,
   "metadata": {},
   "outputs": [],
   "source": [
    "url_openalex_object = URL.create(\n",
    "    drivername=\"\",\n",
    "    username=\"\",\n",
    "    password=\"\",\n",
    "    host=\"\",\n",
    "    port=\"\",\n",
    "    database=\"\"\n",
    ")\n",
    "engine_openalex = create_engine(url_openalex_object)"
   ]
  },
  {
   "cell_type": "code",
   "execution_count": 26,
   "metadata": {},
   "outputs": [
    {
     "data": {
      "application/vnd.jupyter.widget-view+json": {
       "model_id": "39b5a2efa2154a4096633ad111acd8aa",
       "version_major": 2,
       "version_minor": 0
      },
      "text/plain": [
       "  0%|          | 0/1696718 [00:00<?, ?it/s]"
      ]
     },
     "metadata": {},
     "output_type": "display_data"
    }
   ],
   "source": [
    "with engine_openalex.begin() as connection:\n",
    "    connection.execute(text(\"\"\"\n",
    "        CREATE TEMPORARY TABLE temp_oaid (\n",
    "            oaid VARCHAR PRIMARY KEY\n",
    "        )\n",
    "    \"\"\"))\n",
    "    oaid_prefixed = ['https://openalex.org/' + str(oaid) for oaid in df_rel_oaid['oaid']]\n",
    "    for oaid in tqdm(oaid_prefixed):\n",
    "        connection.execute(text(\"INSERT INTO temp_oaid (oaid) VALUES (:oaid)\"), {'oaid': oaid})"
   ]
  },
  {
   "cell_type": "code",
   "execution_count": 27,
   "metadata": {},
   "outputs": [],
   "source": [
    "df_rel_postgres = pd.read_sql_query(\"\"\"\n",
    "    SELECT w.id, w.title, w.abstract\n",
    "    FROM openalex.works AS w\n",
    "    JOIN temp_oaid AS t ON w.id = t.oaid\n",
    "\"\"\", con=engine_openalex)\n",
    "df_rel_postgres = df_rel_postgres.drop_duplicates(subset=['id'])"
   ]
  },
  {
   "cell_type": "code",
   "execution_count": 29,
   "metadata": {},
   "outputs": [],
   "source": [
    "df_rel_postgres['oaid'] = df_rel_postgres['id'].apply(lambda x: x.replace('https://openalex.org/', ''))"
   ]
  },
  {
   "cell_type": "code",
   "execution_count": 49,
   "metadata": {},
   "outputs": [],
   "source": [
    "df_rel = df_rel.merge(df_rel_postgres, on='oaid', how='left')"
   ]
  },
  {
   "cell_type": "code",
   "execution_count": 50,
   "metadata": {},
   "outputs": [
    {
     "data": {
      "text/plain": [
       "136827"
      ]
     },
     "execution_count": 50,
     "metadata": {},
     "output_type": "execute_result"
    }
   ],
   "source": [
    "# Count number of rows in df_rel where title is NaN\n",
    "df_rel['title'].isna().sum()"
   ]
  },
  {
   "cell_type": "code",
   "execution_count": 51,
   "metadata": {},
   "outputs": [],
   "source": [
    "df_rel_postgres.to_csv(\"/mnt/hdd02/Projekt_EDV_TEK/edv_tek_all_cleantech_openalex_title_abstract.csv\", index=False)"
   ]
  },
  {
   "cell_type": "code",
   "execution_count": null,
   "metadata": {},
   "outputs": [],
   "source": [
    "# df_rel_postgres_course = df_rel_postgres.loc[:, ['oaid', 'title', 'abstract']]\n",
    "# df_rel_postgres_course.to_csv(\"/home/thiesen/Documents/Projekt_EDV-TEK/Deep Learning for Social Analytics - Project Data/paper.csv\", index=False)"
   ]
  },
  {
   "cell_type": "markdown",
   "metadata": {},
   "source": [
    "### Extract Authors from Postgres OpenAlex"
   ]
  },
  {
   "cell_type": "code",
   "execution_count": 52,
   "metadata": {},
   "outputs": [],
   "source": [
    "df_rel_authors_postgres = pd.read_sql_query(\"\"\"\n",
    "    SELECT a.work_id, a.author_id\n",
    "    FROM openalex.works_authorships as a\n",
    "    JOIN temp_oaid AS t ON a.work_id = t.oaid\n",
    "\"\"\", con=engine_openalex)\n",
    "df_rel_authors_postgres = df_rel_authors_postgres.drop_duplicates(subset=['author_id', 'work_id'])"
   ]
  },
  {
   "cell_type": "code",
   "execution_count": 53,
   "metadata": {},
   "outputs": [],
   "source": [
    "df_rel_authors_postgres_grouped = df_rel_authors_postgres.groupby('author_id')['work_id'].apply(list).reset_index()"
   ]
  },
  {
   "cell_type": "code",
   "execution_count": 54,
   "metadata": {},
   "outputs": [
    {
     "data": {
      "application/vnd.jupyter.widget-view+json": {
       "model_id": "3e3f6745f6f64759b9b6c5f8474dd2bd",
       "version_major": 2,
       "version_minor": 0
      },
      "text/plain": [
       "  0%|          | 0/2642635 [00:00<?, ?it/s]"
      ]
     },
     "metadata": {},
     "output_type": "display_data"
    }
   ],
   "source": [
    "with engine_openalex.begin() as connection:\n",
    "    connection.execute(text(\"\"\"\n",
    "        CREATE TEMPORARY TABLE temp_author_id (\n",
    "            author_id VARCHAR PRIMARY KEY\n",
    "        )\n",
    "    \"\"\"))\n",
    "    for author_id in tqdm(df_rel_authors_postgres_grouped['author_id']):\n",
    "        connection.execute(text(\"INSERT INTO temp_author_id (author_id) VALUES (:author_id)\"), {'author_id': author_id})"
   ]
  },
  {
   "cell_type": "code",
   "execution_count": 55,
   "metadata": {},
   "outputs": [],
   "source": [
    "df_rel_authors_info_postgres = pd.read_sql_query(\"\"\"\n",
    "    SELECT a.id, a.display_name, a.display_name_alternatives\n",
    "    FROM openalex.authors as a\n",
    "    JOIN temp_author_id AS t ON a.id = t.author_id\n",
    "\"\"\", con=engine_openalex)\n",
    "df_rel_authors_info_postgres = df_rel_authors_info_postgres.drop_duplicates(subset=['display_name'])"
   ]
  },
  {
   "cell_type": "code",
   "execution_count": 56,
   "metadata": {},
   "outputs": [],
   "source": [
    "df_rel_authors_complete = pd.merge(df_rel_authors_postgres_grouped, df_rel_authors_info_postgres, left_on='author_id', right_on='id', how='inner')"
   ]
  },
  {
   "cell_type": "code",
   "execution_count": 59,
   "metadata": {},
   "outputs": [],
   "source": [
    "df_rel_authors_complete['oaid'] = df_rel_authors_complete['work_id'].apply(lambda x: [i.replace(\"https://openalex.org/W\", \"\") for i in x])"
   ]
  },
  {
   "cell_type": "code",
   "execution_count": 61,
   "metadata": {},
   "outputs": [],
   "source": [
    "df_rel_authors_complete.to_csv(\"/mnt/hdd02/Projekt_EDV_TEK/edv_tek_all_cleantech_openalex_authors.csv\", index=False)"
   ]
  },
  {
   "cell_type": "markdown",
   "metadata": {},
   "source": [
    "### Extract Paper Citations from Postgres OpenAlex"
   ]
  },
  {
   "cell_type": "code",
   "execution_count": 63,
   "metadata": {},
   "outputs": [],
   "source": [
    "df_rel_citations_postgres = pd.read_sql_query(\"\"\"\n",
    "    SELECT w.work_id, w.referenced_work_id\n",
    "    FROM openalex.works_referenced_works as w\n",
    "    JOIN temp_oaid AS t1 ON w.work_id = t1.oaid\n",
    "    JOIN temp_oaid AS t2 ON w.referenced_work_id = t2.oaid\n",
    "\"\"\", con=engine_openalex)\n",
    "df_rel_citations_postgres = df_rel_citations_postgres.drop_duplicates(subset=['work_id', 'referenced_work_id'])"
   ]
  },
  {
   "cell_type": "code",
   "execution_count": 68,
   "metadata": {},
   "outputs": [],
   "source": [
    "df_rel_citations_postgres.to_csv(\"/mnt/hdd02/Projekt_EDV_TEK/edv_tek_all_cleantech_openalex_citations.csv\", index=False)"
   ]
  },
  {
   "cell_type": "code",
   "execution_count": 67,
   "metadata": {},
   "outputs": [],
   "source": [
    "df_rel_citations_postgres['oaid'] = df_rel_citations_postgres['work_id'].str.replace(\"https://openalex.org/W\", \"\")\n",
    "df_rel_citations_postgres['cited_oaid'] = df_rel_citations_postgres['referenced_work_id'].str.replace(\"https://openalex.org/W\", \"\")"
   ]
  },
  {
   "cell_type": "code",
   "execution_count": null,
   "metadata": {},
   "outputs": [],
   "source": [
    "# df_rel_citations_postgres_course = df_rel_citations_postgres.loc[:, ['oaid', 'cited_oaid']]\n",
    "# df_rel_citations_postgres_course.to_csv(\"/home/thiesen/Documents/Projekt_EDV-TEK/Deep Learning for Social Analytics - Project Data/paper_paper_citations.csv\", index=False)"
   ]
  }
 ],
 "metadata": {
  "kernelspec": {
   "display_name": "edv_tek",
   "language": "python",
   "name": "python3"
  },
  "language_info": {
   "codemirror_mode": {
    "name": "ipython",
    "version": 3
   },
   "file_extension": ".py",
   "mimetype": "text/x-python",
   "name": "python",
   "nbconvert_exporter": "python",
   "pygments_lexer": "ipython3",
   "version": "3.10.12"
  }
 },
 "nbformat": 4,
 "nbformat_minor": 2
}
