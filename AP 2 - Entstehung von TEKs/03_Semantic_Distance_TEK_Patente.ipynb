{
 "cells": [
  {
   "cell_type": "code",
   "execution_count": null,
   "metadata": {},
   "outputs": [],
   "source": [
    "import ast\n",
    "import pandas as pd\n",
    "import numpy as np\n",
    "import torch\n",
    "import plotly.express as px\n",
    "import plotly.graph_objects as go\n",
    "import multiprocessing as mp\n",
    "from sentence_transformers import SentenceTransformer\n",
    "from sqlalchemy import create_engine, URL, text\n",
    "from sklearn.metrics.pairwise import cosine_similarity\n",
    "from tqdm import tqdm\n",
    "tqdm.pandas()"
   ]
  },
  {
   "cell_type": "code",
   "execution_count": null,
   "metadata": {},
   "outputs": [],
   "source": [
    "model = SentenceTransformer('AI-Growth-Lab/PatentSBERTa')\n",
    "device = 'cuda' if torch.cuda.is_available() else 'cpu'"
   ]
  },
  {
   "cell_type": "code",
   "execution_count": null,
   "metadata": {},
   "outputs": [],
   "source": [
    "url_object = URL.create(\n",
    "    drivername=\"\",\n",
    "    username=\"\",\n",
    "    password=\"\",\n",
    "    host=\"\",\n",
    "    port=\"\",\n",
    "    database=\"\"\n",
    ")\n",
    "engine = create_engine(url_object)"
   ]
  },
  {
   "cell_type": "code",
   "execution_count": null,
   "metadata": {},
   "outputs": [],
   "source": [
    "df_patstat_cleantech_metadata = pd.read_json('/mnt/hdd01/PATSTAT Working Directory/PATSTAT/df_patstat_cleantech_granted_abstract_metadata.json', orient='records')\n",
    "df_patstat_non_cleantech_metadata = pd.read_json('/mnt/hdd01/PATSTAT Working Directory/PATSTAT/df_patstat_non_cleantech_granted_abstract_metadata.json', orient='records')"
   ]
  },
  {
   "cell_type": "markdown",
   "metadata": {},
   "source": [
    "**Due to computational limitations only a subset of US patents are considered for now**"
   ]
  },
  {
   "cell_type": "code",
   "execution_count": null,
   "metadata": {},
   "outputs": [],
   "source": [
    "df_patstat_us_cleantech_metadata = df_patstat_cleantech_metadata[df_patstat_cleantech_metadata['appln_auth'].apply(lambda x: 'US' in x or 'EP' in x)]\n",
    "df_patstat_us_non_cleantech_metadata = df_patstat_non_cleantech_metadata[df_patstat_non_cleantech_metadata['appln_auth'].apply(lambda x: 'US' in x or 'EP' in x)]"
   ]
  },
  {
   "cell_type": "code",
   "execution_count": null,
   "metadata": {},
   "outputs": [],
   "source": [
    "len(df_patstat_us_cleantech_metadata), len(df_patstat_us_non_cleantech_metadata)"
   ]
  },
  {
   "cell_type": "code",
   "execution_count": null,
   "metadata": {},
   "outputs": [],
   "source": [
    "# df_patstat_us_cleantech_metadata = df_patstat_us_cleantech_metadata.head(100000)\n",
    "# df_patstat_us_non_cleantech_metadata = df_patstat_us_non_cleantech_metadata.head(100000)"
   ]
  },
  {
   "cell_type": "code",
   "execution_count": null,
   "metadata": {},
   "outputs": [],
   "source": [
    "df_patstat_us_cleantech_metadata['appln_id'] = df_patstat_us_cleantech_metadata['appln_id'].astype(str)\n",
    "df_patstat_us_non_cleantech_metadata['appln_id'] = df_patstat_us_non_cleantech_metadata['appln_id'].astype(str)"
   ]
  },
  {
   "cell_type": "code",
   "execution_count": null,
   "metadata": {},
   "outputs": [],
   "source": [
    "df_patstat_us_cleantech_metadata['appln_id'].to_sql('temp_patstat_cleantech_metadata', engine, if_exists='replace', index=False)\n",
    "df_patstat_us_non_cleantech_metadata['appln_id'].to_sql('temp_patstat_non_cleantech_metadata', engine, if_exists='replace', index=False)"
   ]
  },
  {
   "cell_type": "code",
   "execution_count": null,
   "metadata": {},
   "outputs": [],
   "source": [
    "df_patstat_publn_id_cleantech = pd.read_sql_query(\"\"\"\n",
    "    SELECT tp.appln_id, pp.pat_publn_id\n",
    "    FROM temp_patstat_cleantech_metadata AS tp\n",
    "    JOIN tls211_pat_publn AS pp ON tp.appln_id = pp.appln_id\n",
    "\"\"\", con=engine)\n",
    "df_patstat_publn_id_cleantech = df_patstat_publn_id_cleantech.drop_duplicates(subset=['appln_id', 'pat_publn_id'])\n",
    "df_patstat_publn_id_cleantech.to_sql('temp_patstat_cleantech_metadata', engine, if_exists='replace', index=False)"
   ]
  },
  {
   "cell_type": "code",
   "execution_count": null,
   "metadata": {},
   "outputs": [],
   "source": [
    "df_patstat_publn_id_non_cleantech = pd.read_sql_query(\"\"\"\n",
    "    SELECT tp.appln_id, pp.pat_publn_id\n",
    "    FROM temp_patstat_non_cleantech_metadata AS tp\n",
    "    JOIN tls211_pat_publn AS pp ON tp.appln_id = pp.appln_id\n",
    "\"\"\", con=engine)\n",
    "df_patstat_publn_id_non_cleantech = df_patstat_publn_id_non_cleantech.drop_duplicates(subset=['appln_id', 'pat_publn_id'])\n",
    "df_patstat_publn_id_non_cleantech.to_sql('temp_patstat_non_cleantech_metadata', engine, if_exists='replace', index=False)"
   ]
  },
  {
   "cell_type": "code",
   "execution_count": null,
   "metadata": {},
   "outputs": [],
   "source": [
    "df_patstat_cleantech_citations = pd.read_sql_query(\"\"\"\n",
    "    SELECT c.pat_publn_id, c.cited_pat_publn_id, p.appln_id AS cited_appln_id\n",
    "    FROM temp_patstat_cleantech_metadata AS tc\n",
    "    JOIN tls212_citation AS c ON tc.pat_publn_id = c.pat_publn_id\n",
    "    JOIN tls211_pat_publn AS p ON c.cited_pat_publn_id = p.pat_publn_id\n",
    "\"\"\", con=engine)\n",
    "df_patstat_cleantech_citations = df_patstat_cleantech_citations.drop_duplicates(subset=['pat_publn_id', 'cited_pat_publn_id', 'cited_appln_id'])"
   ]
  },
  {
   "cell_type": "code",
   "execution_count": null,
   "metadata": {},
   "outputs": [],
   "source": [
    "df_patstat_non_cleantech_citations = pd.read_sql_query(\"\"\"\n",
    "    SELECT c.pat_publn_id, c.cited_pat_publn_id, p.appln_id AS cited_appln_id\n",
    "    FROM temp_patstat_non_cleantech_metadata AS tc\n",
    "    JOIN tls212_citation AS c ON tc.pat_publn_id = c.pat_publn_id\n",
    "    JOIN tls211_pat_publn AS p ON c.cited_pat_publn_id = p.pat_publn_id\n",
    "\"\"\", con=engine)\n",
    "df_patstat_non_cleantech_citations = df_patstat_non_cleantech_citations.drop_duplicates(subset=['pat_publn_id', 'cited_pat_publn_id', 'cited_appln_id'])"
   ]
  },
  {
   "cell_type": "code",
   "execution_count": null,
   "metadata": {},
   "outputs": [],
   "source": [
    "len(df_patstat_cleantech_citations), len(df_patstat_non_cleantech_citations)"
   ]
  },
  {
   "cell_type": "code",
   "execution_count": null,
   "metadata": {},
   "outputs": [],
   "source": [
    "df_patstat_cleantech_citations_works = pd.DataFrame(df_patstat_cleantech_citations['cited_appln_id'].unique(), columns=['cited_appln_id'])\n",
    "df_patstat_cleantech_citations_works.to_sql('temp_patstat_cleantech_citations', engine, if_exists='replace', index=False)\n",
    "df_patstat_non_cleantech_citations_works = pd.DataFrame(df_patstat_non_cleantech_citations['cited_appln_id'].unique(), columns=['cited_appln_id'])\n",
    "df_patstat_non_cleantech_citations_works.to_sql('temp_patstat_non_cleantech_citations', engine, if_exists='replace', index=False)"
   ]
  },
  {
   "cell_type": "code",
   "execution_count": null,
   "metadata": {},
   "outputs": [],
   "source": [
    "df_patstat_cleantech_citations_en = pd.read_sql_query(\"\"\"\n",
    "    SELECT tc.cited_appln_id, t2.appln_title, t3.appln_abstract\n",
    "    FROM temp_patstat_cleantech_citations AS tc\n",
    "    JOIN tls202_appln_title AS t2 ON tc.cited_appln_id = t2.appln_id AND t2.appln_title_lg = 'en'\n",
    "    JOIN tls203_appln_abstr AS t3 ON tc.cited_appln_id = t3.appln_id AND t3.appln_abstract_lg = 'en'\n",
    "\"\"\", con=engine)"
   ]
  },
  {
   "cell_type": "code",
   "execution_count": null,
   "metadata": {},
   "outputs": [],
   "source": [
    "df_patstat_non_cleantech_citations_en = pd.read_sql_query(\"\"\"\n",
    "    SELECT tc.cited_appln_id, t2.appln_title, t3.appln_abstract\n",
    "    FROM temp_patstat_non_cleantech_citations AS tc\n",
    "    JOIN tls202_appln_title AS t2 ON tc.cited_appln_id = t2.appln_id AND t2.appln_title_lg = 'en'\n",
    "    JOIN tls203_appln_abstr AS t3 ON tc.cited_appln_id = t3.appln_id AND t3.appln_abstract_lg = 'en'\n",
    "\"\"\", con=engine)"
   ]
  },
  {
   "cell_type": "code",
   "execution_count": null,
   "metadata": {},
   "outputs": [],
   "source": [
    "len(df_patstat_cleantech_citations_en), len(df_patstat_non_cleantech_citations_en)"
   ]
  },
  {
   "cell_type": "code",
   "execution_count": null,
   "metadata": {},
   "outputs": [],
   "source": [
    "df_patstat_cleantech_citations_en.to_csv('/mnt/hdd01/PATSTAT Working Directory/PATSTAT/df_patstat_cleantech_citations_en_grouped.csv')\n",
    "df_patstat_non_cleantech_citations_en.to_csv('/mnt/hdd01/PATSTAT Working Directory/PATSTAT/df_patstat_non_cleantech_citations_en_grouped.csv')\n",
    "\n",
    "df_patstat_us_cleantech_metadata.to_csv('/mnt/hdd01/PATSTAT Working Directory/PATSTAT/df_patstat_us_cleantech_metadata.csv')\n",
    "df_patstat_us_non_cleantech_metadata.to_csv('/mnt/hdd01/PATSTAT Working Directory/PATSTAT/df_patstat_us_non_cleantech_metadata.csv')"
   ]
  },
  {
   "cell_type": "markdown",
   "metadata": {},
   "source": [
    "**Embedding of Patent Title and Abstract**"
   ]
  },
  {
   "cell_type": "code",
   "execution_count": null,
   "metadata": {},
   "outputs": [],
   "source": [
    "df_patstat_cleantech_citations_en['embedding'] = model.encode((df_patstat_cleantech_citations_en['appln_title'] + ' [SEP] ' + df_patstat_cleantech_citations_en['appln_abstract']), show_progress_bar=True).tolist()\n",
    "df_patstat_non_cleantech_citations_en['embedding'] = model.encode((df_patstat_non_cleantech_citations_en['appln_title'] + ' [SEP] ' + df_patstat_non_cleantech_citations_en['appln_abstract']), show_progress_bar=True).tolist()"
   ]
  },
  {
   "cell_type": "code",
   "execution_count": null,
   "metadata": {},
   "outputs": [],
   "source": [
    "df_patstat_us_cleantech_metadata['appln_title'] = df_patstat_us_cleantech_metadata['appln_title'].apply(' '.join)\n",
    "df_patstat_us_cleantech_metadata['appln_abstract'] = df_patstat_us_cleantech_metadata['appln_abstract'].apply(' '.join)\n",
    "\n",
    "df_patstat_us_non_cleantech_metadata['appln_title'] = df_patstat_us_non_cleantech_metadata['appln_title'].apply(' '.join)\n",
    "df_patstat_us_non_cleantech_metadata['appln_abstract'] = df_patstat_us_non_cleantech_metadata['appln_abstract'].apply(' '.join)\n",
    "\n",
    "df_patstat_us_cleantech_metadata.reset_index(drop=True, inplace=True)\n",
    "df_patstat_us_non_cleantech_metadata.reset_index(drop=True, inplace=True)"
   ]
  },
  {
   "cell_type": "code",
   "execution_count": null,
   "metadata": {},
   "outputs": [],
   "source": [
    "df_patstat_us_cleantech_metadata['embedding'] = model.encode((df_patstat_us_cleantech_metadata['appln_title'] + ' [SEP] ' + df_patstat_us_cleantech_metadata['appln_abstract']), show_progress_bar=True).tolist()\n",
    "df_patstat_us_non_cleantech_metadata['embedding'] = model.encode((df_patstat_us_non_cleantech_metadata['appln_title'] + ' [SEP] ' + df_patstat_us_non_cleantech_metadata['appln_abstract']), show_progress_bar=True).tolist()"
   ]
  },
  {
   "cell_type": "code",
   "execution_count": null,
   "metadata": {},
   "outputs": [],
   "source": [
    "df_patstat_cleantech_citations_en.to_csv('/mnt/hdd01/PATSTAT Working Directory/PATSTAT/df_patstat_cleantech_citations_en_grouped_patentsberta.csv')\n",
    "df_patstat_non_cleantech_citations_en.to_csv('/mnt/hdd01/PATSTAT Working Directory/PATSTAT/df_patstat_non_cleantech_citations_en_grouped_patentsberta.csv')"
   ]
  },
  {
   "cell_type": "code",
   "execution_count": null,
   "metadata": {},
   "outputs": [],
   "source": [
    "df_patstat_us_cleantech_metadata.to_csv('/mnt/hdd01/PATSTAT Working Directory/PATSTAT/df_patstat_us_cleantech_metadata_patentsberta.csv')\n",
    "df_patstat_us_non_cleantech_metadata.to_csv('/mnt/hdd01/PATSTAT Working Directory/PATSTAT/df_patstat_us_non_cleantech_metadata_patentsberta.csv')"
   ]
  },
  {
   "cell_type": "markdown",
   "metadata": {},
   "source": [
    "# Semantic Distance"
   ]
  },
  {
   "cell_type": "code",
   "execution_count": null,
   "metadata": {},
   "outputs": [],
   "source": [
    "df_patstat_cleantech_citations = pd.merge(df_patstat_cleantech_citations, df_patstat_publn_id_cleantech, on=\"pat_publn_id\", how=\"inner\")\n",
    "df_patstat_non_cleantech_citations = pd.merge(df_patstat_non_cleantech_citations, df_patstat_publn_id_non_cleantech, on=\"pat_publn_id\", how=\"inner\")"
   ]
  },
  {
   "cell_type": "code",
   "execution_count": null,
   "metadata": {},
   "outputs": [],
   "source": [
    "# Function to compute cosine similarity for a chunk of data\n",
    "def compute_cosine_similarity(chunk, embedding_dict_metadata, embedding_dict_citations):\n",
    "    cosine_similarity_list = []\n",
    "    \n",
    "    # Calculate cosine similarity for each pair of application ID and cited application ID\n",
    "    for index, row in chunk.iterrows():\n",
    "        appln_id = row['appln_id']\n",
    "        cited_appln_id = row['cited_appln_id']\n",
    "\n",
    "        embedding_appln_id = embedding_dict_metadata.get(appln_id)\n",
    "        embedding_cited_appln_id = embedding_dict_citations.get(cited_appln_id)\n",
    "\n",
    "        if embedding_appln_id is not None and embedding_cited_appln_id is not None:\n",
    "            embedding_appln_id = np.array(embedding_appln_id).reshape(1, -1)\n",
    "            embedding_cited_appln_id = np.array(embedding_cited_appln_id).reshape(1, -1)\n",
    "\n",
    "            cosine_sim = cosine_similarity(\n",
    "                embedding_appln_id,\n",
    "                embedding_cited_appln_id,\n",
    "            )[0][0]\n",
    "        else:\n",
    "            cosine_sim = np.nan\n",
    "        \n",
    "        cosine_similarity_list.append((appln_id, cited_appln_id, cosine_sim))\n",
    "    \n",
    "    return cosine_similarity_list"
   ]
  },
  {
   "cell_type": "code",
   "execution_count": null,
   "metadata": {},
   "outputs": [],
   "source": [
    "embedding_dict_metadata_cleantech = pd.Series(\n",
    "    df_patstat_us_cleantech_metadata.embedding.values,\n",
    "    index=df_patstat_us_cleantech_metadata.appln_id,\n",
    ").to_dict()\n",
    "\n",
    "embedding_dict_citations_cleantech = pd.Series(\n",
    "    df_patstat_cleantech_citations_en.embedding.values,\n",
    "    index=df_patstat_cleantech_citations_en.cited_appln_id,\n",
    ").to_dict()\n",
    "\n",
    "cpu_cores = min(mp.cpu_count(), 18)\n",
    "\n",
    "# Split the dataset into chunks for parallel processing\n",
    "data_chunks = np.array_split(df_patstat_cleantech_citations, cpu_cores)\n",
    "\n",
    "with mp.Pool(cpu_cores) as pool:\n",
    "    # Process the data chunks in parallel\n",
    "    results = pool.starmap(\n",
    "        compute_cosine_similarity,\n",
    "        [(chunk, embedding_dict_metadata_cleantech, embedding_dict_citations_cleantech) for chunk in data_chunks]\n",
    "    )\n",
    "\n",
    "cosine_similarity_list = [item for sublist in results for item in sublist]\n",
    "\n",
    "df_cosine_similarity_cleantech = pd.DataFrame(\n",
    "    cosine_similarity_list,\n",
    "    columns=[\"appln_id\", \"cited_appln_id\", \"cosine_similarity\"]\n",
    ")\n",
    "\n",
    "df_cosine_similarity_cleantech[\"cosine_similarity\"].fillna(0, inplace=True)"
   ]
  },
  {
   "cell_type": "code",
   "execution_count": null,
   "metadata": {},
   "outputs": [],
   "source": [
    "embedding_dict_metadata_non_cleantech = pd.Series(\n",
    "    df_patstat_us_non_cleantech_metadata.embedding.values,\n",
    "    index=df_patstat_us_non_cleantech_metadata.appln_id,\n",
    ").to_dict()\n",
    "\n",
    "embedding_dict_citations_non_cleantech = pd.Series(\n",
    "    df_patstat_non_cleantech_citations_en.embedding.values,\n",
    "    index=df_patstat_non_cleantech_citations_en.cited_appln_id,\n",
    ").to_dict()\n",
    "\n",
    "cpu_cores = min(mp.cpu_count(), 18)\n",
    "\n",
    "# Split the dataset into chunks for parallel processing\n",
    "data_chunks = np.array_split(df_patstat_non_cleantech_citations, cpu_cores)\n",
    "\n",
    "with mp.Pool(cpu_cores) as pool:\n",
    "    # Process the data chunks in parallel\n",
    "    results = pool.starmap(\n",
    "        compute_cosine_similarity,\n",
    "        [(chunk, embedding_dict_metadata_non_cleantech, embedding_dict_citations_non_cleantech) for chunk in data_chunks]\n",
    "    )\n",
    "\n",
    "cosine_similarity_list = [item for sublist in results for item in sublist]\n",
    "\n",
    "df_cosine_similarity_non_cleantech = pd.DataFrame(\n",
    "    cosine_similarity_list,\n",
    "    columns=[\"appln_id\", \"cited_appln_id\", \"cosine_similarity\"]\n",
    ")\n",
    "\n",
    "df_cosine_similarity_non_cleantech[\"cosine_similarity\"].fillna(0, inplace=True)"
   ]
  },
  {
   "cell_type": "code",
   "execution_count": null,
   "metadata": {},
   "outputs": [],
   "source": [
    "df_cosine_similarity_cleantech.to_csv('/mnt/hdd01/PATSTAT Working Directory/PATSTAT/df_cosine_similarity_cleantech.csv')\n",
    "df_cosine_similarity_non_cleantech.to_csv('/mnt/hdd01/PATSTAT Working Directory/PATSTAT/df_cosine_similarity_non_cleantech.csv')"
   ]
  },
  {
   "cell_type": "code",
   "execution_count": null,
   "metadata": {},
   "outputs": [],
   "source": [
    "df_cosine_similarity_grouped_cleantech = df_cosine_similarity_cleantech.groupby('appln_id').agg({'cosine_similarity': ['mean', 'std']}).reset_index()\n",
    "df_cosine_similarity_grouped_cleantech.columns = ['appln_id', 'cosine_similarity_mean', 'cosine_similarity_std']\n",
    "\n",
    "df_cosine_similarity_grouped_non_cleantech = df_cosine_similarity_non_cleantech.groupby('appln_id').agg({'cosine_similarity': ['mean', 'std']}).reset_index()\n",
    "df_cosine_similarity_grouped_non_cleantech.columns = ['appln_id', 'cosine_similarity_mean', 'cosine_similarity_std']"
   ]
  }
 ],
 "metadata": {
  "kernelspec": {
   "display_name": "venv",
   "language": "python",
   "name": "python3"
  },
  "language_info": {
   "codemirror_mode": {
    "name": "ipython",
    "version": 3
   },
   "file_extension": ".py",
   "mimetype": "text/x-python",
   "name": "python",
   "nbconvert_exporter": "python",
   "pygments_lexer": "ipython3",
   "version": "3.10.0"
  }
 },
 "nbformat": 4,
 "nbformat_minor": 2
}
