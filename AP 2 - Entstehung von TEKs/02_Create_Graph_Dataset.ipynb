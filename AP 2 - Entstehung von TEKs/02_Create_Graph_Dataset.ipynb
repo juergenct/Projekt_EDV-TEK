{
 "cells": [
  {
   "cell_type": "code",
   "execution_count": 1,
   "id": "0a0b4780",
   "metadata": {},
   "outputs": [
    {
     "name": "stderr",
     "output_type": "stream",
     "text": [
      "/home/thiesen/.conda/envs/edv_tek/lib/python3.10/site-packages/tqdm/auto.py:21: TqdmWarning: IProgress not found. Please update jupyter and ipywidgets. See https://ipywidgets.readthedocs.io/en/stable/user_install.html\n",
      "  from .autonotebook import tqdm as notebook_tqdm\n"
     ]
    }
   ],
   "source": [
    "import pandas as pd \n",
    "import h5py\n",
    "from transformers import AutoTokenizer, AutoModel\n",
    "import pandas as pd\n",
    "import numpy as np\n",
    "from sentence_transformers import SentenceTransformer\n",
    "import torch\n",
    "from tqdm import tqdm\n",
    "tqdm.pandas()"
   ]
  },
  {
   "cell_type": "markdown",
   "id": "689ba188",
   "metadata": {},
   "source": [
    "# Load all required DataFrames"
   ]
  },
  {
   "cell_type": "code",
   "execution_count": 2,
   "id": "1ec47fd4",
   "metadata": {},
   "outputs": [],
   "source": [
    "df_patent = pd.read_parquet('/mnt/hdd02/Projekt_EDV_TEK/edv_tek_all_cleantech_title_abstract.parquet')\n",
    "df_paper = pd.read_csv('/mnt/hdd02/Projekt_EDV_TEK/edv_tek_all_cleantech_openalex_title_abstract.csv')\n",
    "df_patent_citations = pd.read_csv('/mnt/hdd02/Projekt_EDV_TEK/edv_tek_all_cleantech_patstat_citations.csv')\n",
    "df_paper_citations = pd.read_csv('/mnt/hdd02/Projekt_EDV_TEK/edv_tek_all_cleantech_openalex_citations.csv')"
   ]
  },
  {
   "cell_type": "markdown",
   "id": "845e7fac",
   "metadata": {},
   "source": [
    "# Preprocess Patent-Paper Citations and Patent-Paper Pairs"
   ]
  },
  {
   "cell_type": "code",
   "execution_count": 28,
   "id": "126fc476",
   "metadata": {},
   "outputs": [],
   "source": [
    "df_patent_paper_citations = pd.read_csv(\"/mnt/hdd02/Projekt_EDV_TEK/Reliance_on_Science/_pcs_oa.csv\")\n",
    "df_patent_paper_pairs = pd.read_csv(\"/mnt/hdd02/Projekt_EDV_TEK/Reliance_on_Science/_patent_paper_pairs.csv\")\n",
    "df_patent_paper_pairs = df_patent_paper_pairs.rename(columns={'paperid': 'oaid'})"
   ]
  },
  {
   "cell_type": "code",
   "execution_count": null,
   "id": "24902d6d",
   "metadata": {},
   "outputs": [],
   "source": [
    "# Filter df_patent as only \"US\" patents are in df_rel_ppp!\n",
    "df_patent = df_patent[df_patent['publn_auth'] == 'US']\n",
    "\n",
    "# Extract publication numbers from patent-paper dataframes\n",
    "df_patent_paper_citations['publn_nr'] = df_patent_paper_citations['patent'].str.split('-').str[1]\n",
    "df_patent_paper_pairs['publn_nr'] = df_patent_paper_pairs['patent'].str.split('-').str[1]\n",
    "\n",
    "# Add leading \"W\" to oaid in df_patent_paper_citations\n",
    "df_patent_paper_citations['oaid'] = 'W' + df_patent_paper_citations['oaid'].astype(str)\n",
    "\n",
    "# Filter patent-paper dataframes to only include papers in df_paper\n",
    "df_patent_paper_citations = df_patent_paper_citations[df_patent_paper_citations['oaid'].isin(df_paper['oaid'])]\n",
    "df_patent_paper_pairs = df_patent_paper_pairs[df_patent_paper_pairs['oaid'].isin(df_paper['oaid'])]\n",
    "\n",
    "# Filter further to only include patents in df_patent\n",
    "df_patent_paper_citations = df_patent_paper_citations[df_patent_paper_citations['publn_nr'].isin(df_patent['publn_nr'])]\n",
    "df_patent_paper_pairs = df_patent_paper_pairs[df_patent_paper_pairs['publn_nr'].isin(df_patent['publn_nr'])]"
   ]
  },
  {
   "cell_type": "code",
   "execution_count": 41,
   "id": "9c0b8fc3",
   "metadata": {},
   "outputs": [],
   "source": [
    "# Filter df_patent_citations to only include patents in df_patent\n",
    "df_patent_citations['pat_appln_id'] = df_patent_citations['pat_appln_id'].astype(str)\n",
    "df_patent_citations['cited_pat_appln_id'] = df_patent_citations['cited_pat_appln_id'].astype(str)\n",
    "df_patent['appln_id'] = df_patent['appln_id'].astype(str)\n",
    "df_patent_citations = df_patent_citations[df_patent_citations['pat_appln_id'].isin(df_patent['appln_id'])]\n",
    "df_patent_citations = df_patent_citations[df_patent_citations['cited_pat_appln_id'].isin(df_patent['appln_id'])]\n",
    "\n",
    "# Filter df_paper_citations to only include papers in df_paper\n",
    "df_paper_citations['oaid'] = \"W\" + df_paper_citations['oaid'].astype(str)\n",
    "df_paper_citations['cited_oaid'] = \"W\" + df_paper_citations['cited_oaid'].astype(str)\n",
    "df_paper_citations = df_paper_citations[df_paper_citations['oaid'].isin(df_paper['oaid'])]\n",
    "df_paper_citations = df_paper_citations[df_paper_citations['cited_oaid'].isin(df_paper['oaid'])]"
   ]
  },
  {
   "cell_type": "code",
   "execution_count": 42,
   "id": "1b689844",
   "metadata": {},
   "outputs": [
    {
     "data": {
      "text/plain": [
       "(5586603, 97928, 1642111, 1137787, 236311564, 9172502)"
      ]
     },
     "execution_count": 42,
     "metadata": {},
     "output_type": "execute_result"
    }
   ],
   "source": [
    "len(df_patent_paper_citations), len(df_patent_paper_pairs), len(df_patent), len(df_paper), len(df_patent_citations), len(df_paper_citations)"
   ]
  },
  {
   "cell_type": "markdown",
   "id": "041f0535",
   "metadata": {},
   "source": [
    "# Embed Patent and Paper Text Columns"
   ]
  },
  {
   "cell_type": "code",
   "execution_count": null,
   "id": "2a6eea8c",
   "metadata": {},
   "outputs": [],
   "source": [
    "df_patent['text'] = df_patent['appln_title'] + ' [SEP] ' + df_patent['appln_abstract']\n",
    "df_paper['text'] = df_paper['title'] + ' [SEP] ' + df_paper['abstract']"
   ]
  },
  {
   "cell_type": "code",
   "execution_count": 7,
   "id": "357d24ae",
   "metadata": {},
   "outputs": [
    {
     "name": "stdout",
     "output_type": "stream",
     "text": [
      "Loading a local sentence-transformer model...\n"
     ]
    },
    {
     "name": "stderr",
     "output_type": "stream",
     "text": [
      "/home/thiesen/.conda/envs/edv_tek/lib/python3.10/site-packages/sentence_transformers/SentenceTransformer.py:196: FutureWarning: The `use_auth_token` argument is deprecated and will be removed in v4 of SentenceTransformers.\n",
      "  warnings.warn(\n"
     ]
    },
    {
     "name": "stdout",
     "output_type": "stream",
     "text": [
      "Model loaded on cuda:0\n"
     ]
    }
   ],
   "source": [
    "# Load the sentence-transformer model\n",
    "print(\"Loading a local sentence-transformer model...\")\n",
    "model = SentenceTransformer('paraphrase-MiniLM-L6-v2', use_auth_token=False)\n",
    "model.to('cuda' if torch.cuda.is_available() else 'cpu')\n",
    "print(f\"Model loaded on {model.device}\")"
   ]
  },
  {
   "cell_type": "code",
   "execution_count": 8,
   "id": "93d939ff",
   "metadata": {},
   "outputs": [],
   "source": [
    "# Function to batch encode texts with progress bar\n",
    "def encode_texts(texts, batch_size=32):\n",
    "    \"\"\"Encode texts in batches with progress bar\"\"\"\n",
    "    embeddings = []\n",
    "    for i in tqdm(range(0, len(texts), batch_size), desc=\"Encoding texts\"):\n",
    "        batch = texts[i:i+batch_size]\n",
    "        batch_embeddings = model.encode(batch, convert_to_tensor=True)\n",
    "        embeddings.append(batch_embeddings.cpu().numpy())\n",
    "    return np.vstack(embeddings)"
   ]
  },
  {
   "cell_type": "code",
   "execution_count": 9,
   "id": "7a3ffcda",
   "metadata": {},
   "outputs": [
    {
     "name": "stdout",
     "output_type": "stream",
     "text": [
      "Encoding patent texts...\n"
     ]
    },
    {
     "name": "stderr",
     "output_type": "stream",
     "text": [
      "Encoding texts: 100%|██████████| 51316/51316 [13:30<00:00, 63.29it/s]\n"
     ]
    },
    {
     "name": "stdout",
     "output_type": "stream",
     "text": [
      "Patent embeddings shape: (1642111, 384)\n",
      "Encoding paper texts...\n"
     ]
    },
    {
     "name": "stderr",
     "output_type": "stream",
     "text": [
      "Encoding texts: 100%|██████████| 35556/35556 [11:27<00:00, 51.71it/s]\n"
     ]
    },
    {
     "name": "stdout",
     "output_type": "stream",
     "text": [
      "Paper embeddings shape: (1137787, 384)\n"
     ]
    }
   ],
   "source": [
    "# Process patent texts in batches\n",
    "print(\"Encoding patent texts...\")\n",
    "df_patent = df_patent[df_patent['text'].notna()]\n",
    "patent_texts = df_patent['text'].tolist()\n",
    "patent_embeddings = encode_texts(patent_texts)\n",
    "print(f\"Patent embeddings shape: {patent_embeddings.shape}\")\n",
    "\n",
    "# Process paper texts in batches\n",
    "print(\"Encoding paper texts...\")\n",
    "df_paper = df_paper[df_paper['text'].notna()]\n",
    "paper_texts = df_paper['text'].tolist()\n",
    "paper_embeddings = encode_texts(paper_texts)\n",
    "print(f\"Paper embeddings shape: {paper_embeddings.shape}\")\n",
    "\n",
    "# Store embeddings\n",
    "df_patent['embedding'] = list(patent_embeddings)\n",
    "df_paper['embedding'] = list(paper_embeddings)"
   ]
  },
  {
   "cell_type": "markdown",
   "id": "85bffd6e",
   "metadata": {},
   "source": [
    "# Create Edge Indices"
   ]
  },
  {
   "cell_type": "code",
   "execution_count": 43,
   "id": "64e69670",
   "metadata": {},
   "outputs": [],
   "source": [
    "# Reset indices\n",
    "df_patent.reset_index(drop=True, inplace=True)\n",
    "df_paper.reset_index(drop=True, inplace=True)\n",
    "\n",
    "# Create unique IDs for patents and papers\n",
    "df_patent['id'] = df_patent.index\n",
    "df_paper['id'] = df_paper.index"
   ]
  },
  {
   "cell_type": "code",
   "execution_count": 44,
   "id": "5b0e5511",
   "metadata": {},
   "outputs": [],
   "source": [
    "# Create all edge indices\n",
    "df_patent_citations['id'] = df_patent_citations['pat_appln_id'].map(df_patent.set_index('appln_id')['id'])\n",
    "df_patent_citations['cited_id'] = df_patent_citations['cited_pat_appln_id'].map(df_patent.set_index('appln_id')['id'])\n",
    "df_patent_citations = df_patent_citations[df_patent_citations['id'].notna()]\n",
    "df_patent_citations = df_patent_citations[df_patent_citations['cited_id'].notna()]\n",
    "df_patent_citations = df_patent_citations[['id', 'cited_id']]\n",
    "\n",
    "# df_paper_citations['oaid'] = \"W\" + df_paper_citations['oaid'].astype(str)\n",
    "# df_paper_citations['cited_oaid'] = \"W\" + df_paper_citations['cited_oaid'].astype(str)\n",
    "df_paper_citations['id'] = df_paper_citations['oaid'].map(df_paper.set_index('oaid')['id'])\n",
    "df_paper_citations['cited_id'] = df_paper_citations['cited_oaid'].map(df_paper.set_index('oaid')['id'])\n",
    "df_paper_citations = df_paper_citations[df_paper_citations['id'].notna()]\n",
    "df_paper_citations = df_paper_citations[df_paper_citations['cited_id'].notna()]\n",
    "df_paper_citations = df_paper_citations[['id', 'cited_id']]\n",
    "\n",
    "df_patent_paper_citations['id'] = df_patent_paper_citations['publn_nr'].map(df_patent.set_index('publn_nr')['id'])\n",
    "df_patent_paper_citations['cited_id'] = df_patent_paper_citations['oaid'].map(df_paper.set_index('oaid')['id'])\n",
    "df_patent_paper_citations = df_patent_paper_citations[df_patent_paper_citations['id'].notna()]\n",
    "df_patent_paper_citations = df_patent_paper_citations[df_patent_paper_citations['cited_id'].notna()]\n",
    "df_patent_paper_citations = df_patent_paper_citations[['id', 'cited_id']]\n",
    "\n",
    "df_patent_paper_pairs['id'] = df_patent_paper_pairs['publn_nr'].map(df_patent.set_index('publn_nr')['id'])\n",
    "df_patent_paper_pairs['cited_id'] = df_patent_paper_pairs['oaid'].map(df_paper.set_index('oaid')['id'])\n",
    "df_patent_paper_pairs = df_patent_paper_pairs[df_patent_paper_pairs['id'].notna()]\n",
    "df_patent_paper_pairs = df_patent_paper_pairs[df_patent_paper_pairs['cited_id'].notna()]\n",
    "df_patent_paper_pairs = df_patent_paper_pairs[['id', 'cited_id']]\n",
    "df_patent_paper_pairs = df_patent_paper_pairs.drop_duplicates(subset=['id', 'cited_id'])"
   ]
  },
  {
   "cell_type": "code",
   "execution_count": 45,
   "id": "c20c79f2",
   "metadata": {},
   "outputs": [
    {
     "data": {
      "text/plain": [
       "(5586603, 97928, 1642111, 1137787, 236311564, 9172502)"
      ]
     },
     "execution_count": 45,
     "metadata": {},
     "output_type": "execute_result"
    }
   ],
   "source": [
    "len(df_patent_paper_citations), len(df_patent_paper_pairs), len(df_patent), len(df_paper), len(df_patent_citations), len(df_paper_citations)"
   ]
  },
  {
   "cell_type": "code",
   "execution_count": 46,
   "id": "6098f474",
   "metadata": {},
   "outputs": [],
   "source": [
    "# Convert all values to int\n",
    "df_patent_citations['id'] = df_patent_citations['id'].astype(int)\n",
    "df_patent_citations['cited_id'] = df_patent_citations['cited_id'].astype(int)\n",
    "df_paper_citations['id'] = df_paper_citations['id'].astype(int)\n",
    "df_paper_citations['cited_id'] = df_paper_citations['cited_id'].astype(int)\n",
    "df_patent_paper_citations['id'] = df_patent_paper_citations['id'].astype(int)\n",
    "df_patent_paper_citations['cited_id'] = df_patent_paper_citations['cited_id'].astype(int)\n",
    "df_patent_paper_pairs['id'] = df_patent_paper_pairs['id'].astype(int)\n",
    "df_patent_paper_pairs['cited_id'] = df_patent_paper_pairs['cited_id'].astype(int)"
   ]
  },
  {
   "cell_type": "markdown",
   "id": "316d192b",
   "metadata": {},
   "source": [
    "# Create H5PY Files"
   ]
  },
  {
   "cell_type": "code",
   "execution_count": 49,
   "id": "979fd861",
   "metadata": {},
   "outputs": [],
   "source": [
    "# Open an HDF5 file\n",
    "with h5py.File('/mnt/hdd02/Projekt_EDV_TEK/gnn_dataset_emergence/edv_tek_emergence_gnn_dataset.h5', 'w') as f:\n",
    "    # Save node data - no need for string conversion since they're already arrays\n",
    "    patent_embeddings_array = np.stack(df_patent['embedding'].values)\n",
    "    paper_embeddings_array = np.stack(df_paper['embedding'].values)\n",
    "    \n",
    "    f.create_dataset('patent_embeddings', data=patent_embeddings_array)\n",
    "    f.create_dataset('paper_embeddings', data=paper_embeddings_array)\n",
    "\n",
    "    # Save edge indices\n",
    "    f.create_dataset('patent_citations', data=df_patent_citations[['id', 'cited_id']].values)\n",
    "    f.create_dataset('paper_citations', data=df_paper_citations[['id', 'cited_id']].values)\n",
    "    f.create_dataset('patent_paper_citations', data=df_patent_paper_citations[['id', 'cited_id']].values)\n",
    "    f.create_dataset('patent_paper_pairs', data=df_patent_paper_pairs[['id', 'cited_id']].values)"
   ]
  }
 ],
 "metadata": {
  "kernelspec": {
   "display_name": "edv_tek",
   "language": "python",
   "name": "python3"
  },
  "language_info": {
   "codemirror_mode": {
    "name": "ipython",
    "version": 3
   },
   "file_extension": ".py",
   "mimetype": "text/x-python",
   "name": "python",
   "nbconvert_exporter": "python",
   "pygments_lexer": "ipython3",
   "version": "3.10.12"
  }
 },
 "nbformat": 4,
 "nbformat_minor": 5
}
