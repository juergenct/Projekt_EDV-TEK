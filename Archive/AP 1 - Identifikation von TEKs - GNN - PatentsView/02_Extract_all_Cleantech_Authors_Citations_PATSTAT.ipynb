{
 "cells": [
  {
   "cell_type": "code",
   "execution_count": 2,
   "metadata": {},
   "outputs": [],
   "source": [
    "import pandas as pd\n",
    "from sqlalchemy import create_engine, URL, text\n",
    "import re\n",
    "from bs4 import BeautifulSoup\n",
    "from tqdm import tqdm\n",
    "tqdm.pandas()"
   ]
  },
  {
   "cell_type": "code",
   "execution_count": null,
   "metadata": {},
   "outputs": [],
   "source": [
    "url_object = URL.create(\n",
    "    drivername=\"\",\n",
    "    username=\"\",\n",
    "    password=\"\",\n",
    "    host=\"\",\n",
    "    port=\"\",\n",
    "    database=\"\"\n",
    ")\n",
    "engine = create_engine(url_object)"
   ]
  },
  {
   "cell_type": "code",
   "execution_count": null,
   "metadata": {},
   "outputs": [],
   "source": [
    "df_grouped = pd.read_csv('/mnt/hdd02/Projekt_EDV_TEK/edv_tek_all_cleantech_appln_ids.csv')"
   ]
  },
  {
   "cell_type": "markdown",
   "metadata": {},
   "source": [
    "# Create Temp Table with appln_id"
   ]
  },
  {
   "cell_type": "code",
   "execution_count": 4,
   "metadata": {},
   "outputs": [],
   "source": [
    "appln_ids = df_grouped['appln_id'].tolist()\n",
    "\n",
    "# Create a temporary table and insert application IDs\n",
    "temp_table_query = \"\"\"\n",
    "    DROP TABLE IF EXISTS temp_appln_ids;\n",
    "    CREATE TEMP TABLE temp_appln_ids (appln_id TEXT);\n",
    "\"\"\"\n",
    "insert_query = text(\"INSERT INTO temp_appln_ids (appln_id) VALUES (:appln_id)\")\n",
    "\n",
    "with engine.connect() as connection:\n",
    "    connection.execute(text(temp_table_query))\n",
    "    for id in appln_ids:\n",
    "        connection.execute(insert_query, {'appln_id': id})\n",
    "    connection.commit()\n",
    "\n",
    "    # Perform the join query to extract all valid publn_nr per appln_id\n",
    "    join_query = \"\"\"\n",
    "        SELECT t1.appln_id, t2.publn_auth, t2.publn_nr\n",
    "        FROM temp_appln_ids t1\n",
    "        JOIN (\n",
    "            SELECT appln_id, publn_auth, publn_nr\n",
    "            FROM tls211_pat_publn\n",
    "        ) t2 ON t1.appln_id = t2.appln_id;\n",
    "    \"\"\"\n",
    "    result = connection.execute(text(join_query))\n",
    "    df_temp_publn = pd.DataFrame(result.fetchall(), columns=result.keys())\n",
    "\n",
    "df_temp_publn['publn_nr'] = df_temp_publn['publn_nr'].astype(str)\n",
    "shortest_publn_nr_idx = df_temp_publn.groupby('appln_id')['publn_nr'].apply(lambda x: x.str.len().idxmin())\n",
    "df_shortest_publn = df_temp_publn.loc[shortest_publn_nr_idx]\n",
    "\n",
    "# Insert the filtered results back into the database\n",
    "temp_table_with_publn_query = \"\"\"\n",
    "    CREATE TEMP TABLE temp_appln_ids_with_publn (appln_id TEXT, publn_auth TEXT, publn_nr TEXT);\n",
    "    CREATE INDEX temp_appln_ids_with_publn_index ON temp_appln_ids_with_publn(publn_nr, publn_auth);\n",
    "\"\"\"\n",
    "insert_filtered_query = text(\"INSERT INTO temp_appln_ids_with_publn (appln_id, publn_auth, publn_nr) VALUES (:appln_id, :publn_auth, :publn_nr)\")\n",
    "\n",
    "with engine.connect() as connection:\n",
    "    connection.execute(text(temp_table_with_publn_query))\n",
    "    for _, row in df_shortest_publn.iterrows():\n",
    "        connection.execute(insert_filtered_query, {'appln_id': row['appln_id'], 'publn_auth': row['publn_auth'], 'publn_nr': row['publn_nr']})\n",
    "    connection.commit()"
   ]
  },
  {
   "cell_type": "markdown",
   "metadata": {},
   "source": [
    "# Extract Author Information from PATSTAT"
   ]
  },
  {
   "cell_type": "code",
   "execution_count": 5,
   "metadata": {},
   "outputs": [],
   "source": [
    "df_patstat_person_id = pd.read_sql_query(\"\"\"\n",
    "    SELECT tp.appln_id::TEXT, pa.person_id\n",
    "    FROM temp_appln_ids AS tp\n",
    "    JOIN tls207_pers_appln AS pa ON tp.appln_id::TEXT = pa.appln_id\n",
    "\"\"\", con=engine)\n",
    "df_patstat_person_id = df_patstat_person_id.drop_duplicates(subset=['appln_id', 'person_id'])"
   ]
  },
  {
   "cell_type": "markdown",
   "metadata": {},
   "source": [
    "# Extract Patent Citations from PATSTAT"
   ]
  },
  {
   "cell_type": "code",
   "execution_count": 6,
   "metadata": {},
   "outputs": [],
   "source": [
    "df_patstat_citations = pd.read_sql_query(\"\"\"\n",
    "    SELECT c.pat_publn_id::text, c.cited_pat_publn_id::text, p.appln_id::text\n",
    "    FROM tls212_citation AS c\n",
    "    JOIN tls211_pat_publn AS p ON c.pat_publn_id = p.pat_publn_id\n",
    "    WHERE p.appln_id IN (SELECT appln_id::text FROM temp_appln_ids)\n",
    "\"\"\", con=engine)\n",
    "df_patstat_citations = df_patstat_citations.drop_duplicates(subset=['pat_publn_id', 'cited_pat_publn_id', 'appln_id'])\n",
    "df_patstat_citations = df_patstat_citations[df_patstat_citations['cited_pat_publn_id'].isin(df_patstat_citations['pat_publn_id'])]"
   ]
  },
  {
   "cell_type": "code",
   "execution_count": 7,
   "metadata": {},
   "outputs": [],
   "source": [
    "df_patstat_citations = df_patstat_citations.rename(columns={\"appln_id\": \"pat_appln_id\"})\n",
    "df_patstat_citations = pd.merge(df_patstat_citations, df_patstat_citations[['pat_publn_id', 'pat_appln_id']].rename(columns={'pat_appln_id': 'cited_pat_appln_id'}), left_on='cited_pat_publn_id', right_on='pat_publn_id', how='inner')\n",
    "df_patstat_citations = df_patstat_citations[['pat_publn_id_x', 'cited_pat_publn_id', 'pat_appln_id', 'cited_pat_appln_id']]\n",
    "df_patstat_citations = df_patstat_citations.rename(columns={'pat_publn_id_x': 'pat_publn_id'})"
   ]
  },
  {
   "cell_type": "markdown",
   "metadata": {},
   "source": [
    "# Save all data to CSV"
   ]
  },
  {
   "cell_type": "code",
   "execution_count": null,
   "metadata": {},
   "outputs": [],
   "source": [
    "df_patstat_person_id.to_csv('/mnt/hdd02/Projekt_EDV_TEK/edv_tek_all_cleantech_patstat_person_id.csv', index=False)\n",
    "df_patstat_citations.to_csv('/mnt/hdd02/Projekt_EDV_TEK/edv_tek_all_cleantech_patstat_citations.csv', index=False)"
   ]
  }
 ],
 "metadata": {
  "kernelspec": {
   "display_name": "edv_tek",
   "language": "python",
   "name": "python3"
  },
  "language_info": {
   "codemirror_mode": {
    "name": "ipython",
    "version": 3
   },
   "file_extension": ".py",
   "mimetype": "text/x-python",
   "name": "python",
   "nbconvert_exporter": "python",
   "pygments_lexer": "ipython3",
   "version": "3.10.0"
  }
 },
 "nbformat": 4,
 "nbformat_minor": 2
}
